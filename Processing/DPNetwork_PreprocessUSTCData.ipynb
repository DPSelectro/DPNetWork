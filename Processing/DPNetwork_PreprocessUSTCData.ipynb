{
  "nbformat": 4,
  "nbformat_minor": 0,
  "metadata": {
    "colab": {
      "name": "DPNetwork-PreprocessUSTCData.ipynb",
      "version": "0.3.2",
      "provenance": [],
      "collapsed_sections": [],
      "machine_shape": "hm"
    },
    "kernelspec": {
      "name": "python3",
      "display_name": "Python 3"
    }
  },
  "cells": [
    {
      "cell_type": "code",
      "metadata": {
        "id": "rUgBcnBJl6py",
        "colab_type": "code",
        "outputId": "35ae1232-ef18-4cec-868e-f131241a82c4",
        "colab": {
          "base_uri": "https://localhost:8080/",
          "height": 34
        }
      },
      "source": [
        "## This file handles the processing of the USTC data\n",
        "## This implements SMOTE in order to balance the malicious \n",
        "## and benign data flows per type of data\n",
        "## it further makes use of clutering in order to get the \n",
        "## correct admixture of data when resampling\n",
        "from google.colab import drive\n",
        "drive.mount('/content/drive', force_remount=True)"
      ],
      "execution_count": 0,
      "outputs": [
        {
          "output_type": "stream",
          "text": [
            "Mounted at /content/drive\n"
          ],
          "name": "stdout"
        }
      ]
    },
    {
      "cell_type": "code",
      "metadata": {
        "id": "Ngca9AG7mHsZ",
        "colab_type": "code",
        "outputId": "5c67e9ad-31f7-48ba-8c9e-c69647255a51",
        "colab": {
          "base_uri": "https://localhost:8080/",
          "height": 69
        }
      },
      "source": [
        "# Move to drive\n",
        "%cd drive\n",
        "%cd 'My Drive'\n",
        "%cd Oxford-Thesis"
      ],
      "execution_count": 0,
      "outputs": [
        {
          "output_type": "stream",
          "text": [
            "/content/drive\n",
            "/content/drive/My Drive\n",
            "/content/drive/My Drive/Oxford-Thesis\n"
          ],
          "name": "stdout"
        }
      ]
    },
    {
      "cell_type": "code",
      "metadata": {
        "id": "w5JLMwUFmLJN",
        "colab_type": "code",
        "outputId": "525ff00f-9fad-4771-a38a-4eebd35c829f",
        "colab": {
          "base_uri": "https://localhost:8080/",
          "height": 71
        }
      },
      "source": [
        "# Imports\n",
        "\n",
        "from __future__ import absolute_import, division, print_function\n",
        "import numpy as np\n",
        "import os\n",
        "import re\n",
        "import tensorflow as tf\n",
        "import time\n",
        "import sys\n",
        "import pickle\n",
        "import scipy\n",
        "import pandas as pd\n",
        "from imblearn.over_sampling import SMOTE\n",
        "import numpy as np\n",
        "import math\n",
        "import json\n",
        "import gzip"
      ],
      "execution_count": 0,
      "outputs": [
        {
          "output_type": "stream",
          "text": [
            "/usr/local/lib/python3.6/dist-packages/sklearn/externals/six.py:31: DeprecationWarning: The module is deprecated in version 0.21 and will be removed in version 0.23 since we've dropped support for Python 2.7. Please rely on the official version of six (https://pypi.org/project/six/).\n",
            "  \"(https://pypi.org/project/six/).\", DeprecationWarning)\n"
          ],
          "name": "stderr"
        }
      ]
    },
    {
      "cell_type": "code",
      "metadata": {
        "id": "dw7Wr8MqmRwa",
        "colab_type": "code",
        "outputId": "2664a63f-8ab4-4ea5-aeb3-b47c5bcf7c02",
        "colab": {
          "base_uri": "https://localhost:8080/",
          "height": 51
        }
      },
      "source": [
        "### LOAD IN BENIGN EMBEDDINGS ## \n",
        "continuous_benign_flows = []\n",
        "\n",
        "import pickle\n",
        "with open('./embedding/CNN_FULL/time_benign_encodings_CNN', 'rb') as fp:\n",
        "  benign_flows_timings = pickle.load(fp)\n",
        "  fp.close()\n",
        "benign_pkt_times = []\n",
        "benign_directions = []\n",
        "benign_pkt_dir_sizes = []\n",
        "continuous_benign_flows = []\n",
        "\n",
        "print(len(benign_flows_timings))\n",
        "with open('./embedding/CNN_FULL/metadata_benign_encodings_CNN', 'rb') as fp:\n",
        "  benign_flows = pickle.load(fp)\n",
        "  fp.close()\n",
        "continuous_mal_flows =[]\n",
        "\n",
        "for file_index in range(len(benign_flows_timings)):\n",
        "  for key in benign_flows_timings[file_index]:\n",
        "    benign_pkt_times.append(benign_flows_timings[file_index][key][0])\n",
        "    benign_directions.append(benign_flows_timings[file_index][key][1])\n",
        "    benign_pkt_dir_sizes.append(benign_flows_timings[file_index][key][2])\n",
        "    continuous_benign_flows.append(benign_flows[file_index][key][1])\n",
        "print(len(continuous_benign_flows))"
      ],
      "execution_count": 0,
      "outputs": [
        {
          "output_type": "stream",
          "text": [
            "14\n",
            "355956\n"
          ],
          "name": "stdout"
        }
      ]
    },
    {
      "cell_type": "code",
      "metadata": {
        "id": "L5ECZ1rlmUKo",
        "colab_type": "code",
        "colab": {}
      },
      "source": [
        "### LOAD IN BENIGN EMBEDDINGS ## \n",
        "import pickle\n",
        "with open('./embedding/CNN_FULL/time_mal_encodings_CNN', 'rb') as fp:\n",
        "  malware_flows_timings = pickle.load(fp)\n",
        "  fp.close()\n",
        "mal_pkt_times = []\n",
        "mal_directions = []\n",
        "mal_pkt_dir_sizes = []\n",
        "continuous_mal_flows = []\n",
        "CONT_FEATURE_SIZE = 158\n",
        "with open('./embedding/CNN_FULL/metadata_mal_encodings_CNN', 'rb') as fp:\n",
        "  malware_flows = pickle.load(fp)\n",
        "  fp.close()\n",
        "continuous_mal_flows =[]\n",
        "\n",
        "for file_index in range(len(malware_flows_timings)):\n",
        "  for key in malware_flows_timings[file_index]:\n",
        "    mal_pkt_times.append(malware_flows_timings[file_index][key][0])\n",
        "    mal_directions.append(malware_flows_timings[file_index][key][1])\n",
        "    mal_pkt_dir_sizes.append(malware_flows_timings[file_index][key][2])\n",
        "    continuous_mal_flows.append(malware_flows[file_index][key][1])"
      ],
      "execution_count": 0,
      "outputs": []
    },
    {
      "cell_type": "code",
      "metadata": {
        "id": "d3-zbcPomVnb",
        "colab_type": "code",
        "outputId": "9839a4f7-7fdb-41b6-a01d-479a56ca6dd3",
        "colab": {
          "base_uri": "https://localhost:8080/",
          "height": 69
        }
      },
      "source": [
        "continuous_mal_flows = np.array(continuous_mal_flows)\n",
        "continuous_benign_flows = np.array(continuous_benign_flows)\n",
        "continuous_flows = np.concatenate([continuous_benign_flows,continuous_mal_flows])"
      ],
      "execution_count": 0,
      "outputs": [
        {
          "output_type": "stream",
          "text": [
            "355956\n",
            "183787\n",
            "(539743, 158)\n"
          ],
          "name": "stdout"
        }
      ]
    },
    {
      "cell_type": "code",
      "metadata": {
        "id": "G3MuEVmEpuuY",
        "colab_type": "code",
        "colab": {}
      },
      "source": [
        "nsis_label = [[1,0,0,0,0,0,0,0,0,0]]\n",
        "geodo_label = [[0,1,0,0,0,0,0,0,0,0]]\n",
        "virut_label = [[0,0,1,0,0,0,0,0,0,0]]\n",
        "shifu_label = [[0,0,0,1,0,0,0,0,0,0]]\n",
        "cridex_label = [[0,0,0,0,1,0,0,0,0,0]]\n",
        "tinba_label = [[0,0,0,0,0,1,0,0,0,0]]\n",
        "miuref_label = [[0,0,0,0,0,0,1,0,0,0]]\n",
        "zeus_label = [[0,0,0,0,0,0,0,1,0,0]]\n",
        "htbot_label = [[0,0,0,0,0,0,0,0,1,0]]\n",
        "neris_label = [[0,0,0,0,0,0,0,0,0,1]]"
      ],
      "execution_count": 0,
      "outputs": []
    },
    {
      "cell_type": "code",
      "metadata": {
        "id": "8dDXbh4Cm4vj",
        "colab_type": "code",
        "colab": {}
      },
      "source": [
        "quantile_values = []"
      ],
      "execution_count": 0,
      "outputs": []
    },
    {
      "cell_type": "code",
      "metadata": {
        "id": "PAemyusSxzvA",
        "colab_type": "code",
        "colab": {}
      },
      "source": [
        "CONT_FEATURE_SIZE = 158\n",
        "for i in range(0,CONT_FEATURE_SIZE):\n",
        "  quantile_values.append(np.quantile(continuous_flows[:,i],.999))"
      ],
      "execution_count": 0,
      "outputs": []
    },
    {
      "cell_type": "code",
      "metadata": {
        "id": "LKoAoHfUqHqd",
        "colab_type": "code",
        "colab": {}
      },
      "source": [
        "NUM_VIRUT = 33559\n",
        "NUM_NERIS = 34322\n",
        "NUM_GEODO = 41686\n",
        "NUM_NSIS = 6431\n",
        "NUM_MIUREF = 13804\n",
        "NUM_TINBA = 8997\n",
        "NUM_ZEUS = 10993\n",
        "NUM_HTBOT = 7265\n",
        "NUM_SHIFU = 10345\n",
        "NUM_CRIDEX = 16385\n",
        "\n",
        "final_mal_flows = []\n",
        "final_time_mal_flows = []\n",
        "final_pkt_mal_flow =[]\n",
        "final_dir_mal_flows = []\n",
        "final_mal_flow_labels = []\n",
        "\n",
        "final_benign_flows = []\n",
        "final_time_benign_flows = []\n",
        "final_pkt_benign_flow =[]\n",
        "final_dir_benign_flows = []\n",
        "\n",
        "INTER1 = NUM_NSIS +NUM_GEODO+NUM_VIRUT + NUM_SHIFU\n",
        "INTER2 = INTER1+ NUM_CRIDEX +NUM_TINBA+NUM_MIUREF+NUM_ZEUS"
      ],
      "execution_count": 0,
      "outputs": []
    },
    {
      "cell_type": "code",
      "metadata": {
        "id": "V0OGHTqswBgm",
        "colab_type": "code",
        "colab": {}
      },
      "source": [
        "### Adjust Timings ###\n",
        "for flowset_times in mal_pkt_times:\n",
        "  base_time = flowset_times[0]\n",
        "  for index in range(len(flowset_times)):\n",
        "    flowset_times[index] = flowset_times[index] - base_time\n",
        "  \n",
        "for flowset_times in benign_pkt_times:\n",
        "  base_time = flowset_times[0]\n",
        "  for index in range(len(flowset_times)):\n",
        "    flowset_times[index] = flowset_times[index] - base_time"
      ],
      "execution_count": 0,
      "outputs": []
    },
    {
      "cell_type": "code",
      "metadata": {
        "id": "NWmIV-Lfz5Yx",
        "colab_type": "code",
        "outputId": "3601bc5a-2f79-437f-eb49-0bd55cc3106d",
        "colab": {
          "base_uri": "https://localhost:8080/",
          "height": 121
        }
      },
      "source": [
        "## Normalize ##\n",
        "max_time = 0 \n",
        "for flow in mal_pkt_times:\n",
        "  for time in flow:\n",
        "    if time > max_time:\n",
        "      max_time = time \n",
        "for flow in benign_pkt_times:\n",
        "  for time in flow:\n",
        "    if time > max_time:\n",
        "      max_time = time \n",
        "      \n",
        "max_size = 0 \n",
        "for flow in mal_pkt_dir_sizes:\n",
        "  for size in flow:\n",
        "    if size > max_size:\n",
        "      max_size = size \n",
        "for flow in benign_pkt_dir_sizes:\n",
        "  for size in flow:\n",
        "    if size > max_time:\n",
        "      max_size = size \n",
        "\n",
        "\n",
        "for flow in mal_pkt_times:\n",
        "  for index in range(len(flow)):\n",
        "    flow[index] = flow[index]/max_time\n",
        "    \n",
        "for flow in benign_pkt_times:\n",
        "  for index in range(len(flow)):\n",
        "    flow[index] = flow[index]/max_time\n",
        "      \n",
        "for flow in mal_pkt_dir_sizes:\n",
        "  for index in range(len(flow)):\n",
        "    flow[index] = flow[index]/max_size\n",
        "for flow in benign_pkt_dir_sizes:\n",
        "  for index in range(len(flow)):\n",
        "    flow[index] = flow[index]/max_size"
      ],
      "execution_count": 0,
      "outputs": [
        {
          "output_type": "stream",
          "text": [
            "here\n",
            "here\n",
            "here\n",
            "here\n",
            "here\n",
            "here\n"
          ],
          "name": "stdout"
        }
      ]
    },
    {
      "cell_type": "code",
      "metadata": {
        "id": "qtAHyTyKwJGh",
        "colab_type": "code",
        "outputId": "8da553bf-f729-49b3-8547-ddf93b795497",
        "colab": {
          "base_uri": "https://localhost:8080/",
          "height": 121
        }
      },
      "source": [
        "## Normalize to the correct size \n",
        "NUM_PACKETS = 64\n",
        "for flow in mal_pkt_times:\n",
        "  while len(flow) < NUM_PACKETS:\n",
        "    flow.append(0)\n",
        "print(\"HERE\")\n",
        "for flow in benign_pkt_times:\n",
        "  while len(flow) < NUM_PACKETS:\n",
        "    flow.append(0)\n",
        "print(\"HERE\")         \n",
        "for flow in mal_pkt_dir_sizes:\n",
        "  while len(flow) < NUM_PACKETS:\n",
        "    flow.append(0)\n",
        "print(\"HERE\")\n",
        "for flow in benign_pkt_dir_sizes:\n",
        "  while len(flow) < NUM_PACKETS:\n",
        "    flow.append(0)\n",
        "print(\"HERE\")    \n",
        "for flow in mal_directions:\n",
        "  while len(flow) < NUM_PACKETS:\n",
        "    flow.append(0)\n",
        "print(\"HERE\")    \n",
        "for flow in benign_directions:\n",
        "  while len(flow) < NUM_PACKETS:\n",
        "    flow.append(0)\n",
        "print(\"HERE\")    "
      ],
      "execution_count": 0,
      "outputs": [
        {
          "output_type": "stream",
          "text": [
            "HERE\n",
            "HERE\n",
            "HERE\n",
            "HERE\n",
            "HERE\n",
            "HERE\n"
          ],
          "name": "stdout"
        }
      ]
    },
    {
      "cell_type": "code",
      "metadata": {
        "id": "UwCQ26aYnltG",
        "colab_type": "code",
        "colab": {}
      },
      "source": [
        "## Remove outlier flow that distrub classification \n",
        "final_mal_flows = []\n",
        "final_time_mal_flows = []\n",
        "final_pkt_mal_flow = [] \n",
        "final_dir_mal_flows = []\n",
        "for index in range(len(continuous_mal_flows)):\n",
        "  flow = continuous_mal_flows[index]\n",
        "  keep_flow = True\n",
        "  for feature_index in range(len(continuous_mal_flows[index])):\n",
        "    if flow[feature_index] > quantile_values[feature_index]:\n",
        "      keep_flow =False\n",
        "  if keep_flow:\n",
        "    final_mal_flows.append(flow)\n",
        "    final_time_mal_flows.append(mal_pkt_times[index])\n",
        "    final_pkt_mal_flow.append(mal_pkt_dir_sizes[index])\n",
        "    final_dir_mal_flows.append(mal_directions[index])\n",
        "    if index < NUM_NSIS:\n",
        "      final_mal_flow_labels.append(nsis_label)\n",
        "    elif index < NUM_NSIS+ NUM_GEODO:\n",
        "      final_mal_flow_labels.append(geodo_label)\n",
        "    elif index < NUM_NSIS +NUM_GEODO+NUM_VIRUT:\n",
        "      final_mal_flow_labels.append(virut_label)\n",
        "    elif index <  NUM_NSIS +NUM_GEODO+NUM_VIRUT + NUM_SHIFU:\n",
        "      final_mal_flow_labels.append(shifu_label)\n",
        "    elif index < INTER1 + NUM_CRIDEX:\n",
        "      final_mal_flow_labels.append(cridex_label)\n",
        "    elif index < INTER1+ NUM_CRIDEX +NUM_TINBA:\n",
        "      final_mal_flow_labels.append(tinba_label)\n",
        "    elif index < INTER1+ NUM_CRIDEX +NUM_TINBA+NUM_MIUREF:\n",
        "      final_mal_flow_labels.append(miuref_label)\n",
        "    elif index < INTER1+ NUM_CRIDEX +NUM_TINBA+NUM_MIUREF+NUM_ZEUS:\n",
        "      final_mal_flow_labels.append(zeus_label)\n",
        "    elif index < INTER2 +NUM_HTBOT:\n",
        "      final_mal_flow_labels.append(htbot_label)\n",
        "    elif index < INTER2+ NUM_HTBOT + NUM_NERIS:\n",
        "      final_mal_flow_labels.append(neris_label)\n",
        "  \n",
        "\n"
      ],
      "execution_count": 0,
      "outputs": []
    },
    {
      "cell_type": "code",
      "metadata": {
        "id": "-Dp6Difkws0y",
        "colab_type": "code",
        "colab": {}
      },
      "source": [
        "## Get normalized flows \n",
        "final_benign_flows = []\n",
        "final_time_benign_flows = []\n",
        "final_pkt_benign_flow = []\n",
        "final_dir_benign_flows =[]\n",
        "num = 0\n",
        "for index in range(len(continuous_benign_flows)):\n",
        "  flow = continuous_benign_flows[index]\n",
        "  keep_flow = True\n",
        "  for feature_index in range(len(continuous_benign_flows[index])):\n",
        "    if flow[feature_index] > quantile_values[feature_index]:\n",
        "      keep_flow =False\n",
        "      num +=1 \n",
        "  if keep_flow:\n",
        "    final_benign_flows.append(flow)\n",
        "    final_time_benign_flows.append(benign_pkt_times[index])\n",
        "    final_pkt_benign_flow.append(benign_pkt_dir_sizes[index])\n",
        "    final_dir_benign_flows.append(benign_directions[index])\n"
      ],
      "execution_count": 0,
      "outputs": []
    },
    {
      "cell_type": "code",
      "metadata": {
        "id": "kc15Jp0khmnE",
        "colab_type": "code",
        "colab": {}
      },
      "source": [
        "## Get max values for evaluation later on \n",
        "max_values = []\n",
        "CONT_FEATURE_SIZE = 158\n",
        "for i in range(0,CONT_FEATURE_SIZE):\n",
        "  max_value = np.max(continuous_flows[:,i])\n",
        "  max_values.append(max_value)"
      ],
      "execution_count": 0,
      "outputs": []
    },
    {
      "cell_type": "code",
      "metadata": {
        "id": "3FgJFUq_zJX0",
        "colab_type": "code",
        "colab": {}
      },
      "source": [
        "##  Perform final normalization \n",
        "continuous_flows = np.concatenate([final_benign_flows,final_mal_flows])\n",
        "CONT_FEATURE_SIZE = 158\n",
        "for i in range(0,CONT_FEATURE_SIZE):\n",
        "  max_value = np.max(continuous_flows[:,i])\n",
        "  min_value = np.min(continuous_flows[:,i])\n",
        "  continuous_flows[:,i] = ((continuous_flows[:,i] - min_value)/(max_value-min_value +1e-12))\n",
        "f_continuous_mal_flows = continuous_flows[len(final_benign_flows):]\n",
        "f_continuous_benign_flows = continuous_flows[:len(final_benign_flows)]"
      ],
      "execution_count": 0,
      "outputs": []
    },
    {
      "cell_type": "code",
      "metadata": {
        "id": "A68K-EGO7WMS",
        "colab_type": "code",
        "colab": {}
      },
      "source": [
        "## Get appropriate flows for each type of label \n",
        "nsis_label = [[1,0,0,0,0,0,0,0,0,0]]\n",
        "geodo_label = [[0,1,0,0,0,0,0,0,0,0]]\n",
        "virut_label = [[0,0,1,0,0,0,0,0,0,0]]\n",
        "shifu_label = [[0,0,0,1,0,0,0,0,0,0]]\n",
        "cridex_label = [[0,0,0,0,1,0,0,0,0,0]]\n",
        "tinba_label = [[0,0,0,0,0,1,0,0,0,0]]\n",
        "miuref_label = [[0,0,0,0,0,0,1,0,0,0]]\n",
        "zeus_label = [[0,0,0,0,0,0,0,1,0,0]]\n",
        "htbot_label = [[0,0,0,0,0,0,0,0,1,0]]\n",
        "neris_label = [[0,0,0,0,0,0,0,0,0,1]]\n",
        "NUM_NSIS = 0 \n",
        "NUM_GEODO = 0 \n",
        "NUM_VIRUT = 0 \n",
        "NUM_SHIFU = 0 \n",
        "NUM_CRIDEX = 0 \n",
        "NUM_TINBA = 0 \n",
        "NUM_MIUREF = 0 \n",
        "NUM_ZEUS = 0 \n",
        "NUM_HTBOT = 0 \n",
        "NUM_NERIS = 0 \n",
        "for label in final_mal_flow_labels:\n",
        "  label_num = np.argmax(label)\n",
        "  if label_num == 0:\n",
        "    NUM_NSIS +=1 \n",
        "  elif label_num == 1:\n",
        "    NUM_GEODO +=1 \n",
        "  elif label_num == 2:\n",
        "    NUM_VIRUT +=1\n",
        "  elif label_num == 3:\n",
        "    NUM_SHIFU +=1\n",
        "  elif label_num == 4:\n",
        "    NUM_CRIDEX+=1\n",
        "  elif label_num == 5:\n",
        "    NUM_TINBA +=1\n",
        "  elif label_num == 6:\n",
        "    NUM_MIUREF+=1\n",
        "  elif label_num == 7:\n",
        "    NUM_ZEUS +=1\n",
        "  elif label_num == 8:\n",
        "    NUM_HTBOT+=1\n",
        "  elif label_num == 9:\n",
        "    NUM_NERIS+=1"
      ],
      "execution_count": 0,
      "outputs": []
    },
    {
      "cell_type": "code",
      "metadata": {
        "id": "xy1T_MDQ9kt4",
        "colab_type": "code",
        "colab": {}
      },
      "source": [
        "nsis_flows_cont = f_continuous_mal_flows[:NUM_NSIS]\n",
        "geodo_flows_cont= f_continuous_mal_flows[NUM_NSIS:NUM_NSIS+NUM_GEODO]\n",
        "virut_flows_cont = f_continuous_mal_flows[NUM_NSIS+NUM_GEODO:NUM_NSIS+NUM_GEODO+NUM_VIRUT]\n",
        "shifu_flows_cont = f_continuous_mal_flows[NUM_NSIS+NUM_GEODO+NUM_VIRUT:NUM_NSIS+NUM_GEODO+NUM_VIRUT+NUM_SHIFU]\n",
        "intermediate_total =NUM_NSIS+NUM_GEODO+NUM_VIRUT+NUM_SHIFU\n",
        "cridex_flows_cont = f_continuous_mal_flows[intermediate_total:intermediate_total+NUM_CRIDEX]\n",
        "tinba_flows_cont = f_continuous_mal_flows[intermediate_total+NUM_CRIDEX:intermediate_total+NUM_CRIDEX+NUM_TINBA]\n",
        "miuref_flows_cont = f_continuous_mal_flows[intermediate_total+NUM_CRIDEX+NUM_TINBA:intermediate_total+NUM_CRIDEX+NUM_TINBA+NUM_MIUREF]\n",
        "intermediate_total =intermediate_total +NUM_CRIDEX+NUM_TINBA+NUM_MIUREF\n",
        "zeus_flows_cont = f_continuous_mal_flows[intermediate_total:intermediate_total+NUM_ZEUS]\n",
        "htbot_flows_cont = f_continuous_mal_flows[intermediate_total+NUM_ZEUS:intermediate_total+NUM_ZEUS+NUM_HTBOT]\n",
        "neris_flows_cont = f_continuous_mal_flows[intermediate_total+NUM_ZEUS+NUM_HTBOT:intermediate_total+NUM_ZEUS+NUM_HTBOT+NUM_NERIS]"
      ],
      "execution_count": 0,
      "outputs": []
    },
    {
      "cell_type": "code",
      "metadata": {
        "id": "DC5n8tST9uqU",
        "colab_type": "code",
        "colab": {}
      },
      "source": [
        "nsis_flows_size = final_pkt_mal_flow[:NUM_NSIS]\n",
        "geodo_flows_size= final_pkt_mal_flow[NUM_NSIS:NUM_NSIS+NUM_GEODO]\n",
        "virut_flows_size = final_pkt_mal_flow[NUM_NSIS+NUM_GEODO:NUM_NSIS+NUM_GEODO+NUM_VIRUT]\n",
        "shifu_flows_size = final_pkt_mal_flow[NUM_NSIS+NUM_GEODO+NUM_VIRUT:NUM_NSIS+NUM_GEODO+NUM_VIRUT+NUM_SHIFU]\n",
        "intermediate_total =NUM_NSIS+NUM_GEODO+NUM_VIRUT+NUM_SHIFU\n",
        "cridex_flows_size = final_pkt_mal_flow[intermediate_total:intermediate_total+NUM_CRIDEX]\n",
        "tinba_flows_size = final_pkt_mal_flow[intermediate_total+NUM_CRIDEX:intermediate_total+NUM_CRIDEX+NUM_TINBA]\n",
        "miuref_flows_size = final_pkt_mal_flow[intermediate_total+NUM_CRIDEX+NUM_TINBA:intermediate_total+NUM_CRIDEX+NUM_TINBA+NUM_MIUREF]\n",
        "intermediate_total =intermediate_total +NUM_CRIDEX+NUM_TINBA+NUM_MIUREF\n",
        "zeus_flows_size = final_pkt_mal_flow[intermediate_total:intermediate_total+NUM_ZEUS]\n",
        "htbot_flows_size = final_pkt_mal_flow[intermediate_total+NUM_ZEUS:intermediate_total+NUM_ZEUS+NUM_HTBOT]\n",
        "neris_flows_size = final_pkt_mal_flow[intermediate_total+NUM_ZEUS+NUM_HTBOT:intermediate_total+NUM_ZEUS+NUM_HTBOT+NUM_NERIS]"
      ],
      "execution_count": 0,
      "outputs": []
    },
    {
      "cell_type": "code",
      "metadata": {
        "id": "UNcuAuMr-GVI",
        "colab_type": "code",
        "colab": {}
      },
      "source": [
        "nsis_flows_dir = final_dir_mal_flows[:NUM_NSIS]\n",
        "geodo_flows_dir = final_dir_mal_flows[NUM_NSIS:NUM_NSIS+NUM_GEODO]\n",
        "virut_flows_dir = final_dir_mal_flows[NUM_NSIS+NUM_GEODO:NUM_NSIS+NUM_GEODO+NUM_VIRUT]\n",
        "shifu_flows_dir = final_dir_mal_flows[NUM_NSIS+NUM_GEODO+NUM_VIRUT:NUM_NSIS+NUM_GEODO+NUM_VIRUT+NUM_SHIFU]\n",
        "intermediate_total =NUM_NSIS+NUM_GEODO+NUM_VIRUT+NUM_SHIFU\n",
        "cridex_flows_dir = final_dir_mal_flows[intermediate_total:intermediate_total+NUM_CRIDEX]\n",
        "tinba_flows_dir = final_dir_mal_flows[intermediate_total+NUM_CRIDEX:intermediate_total+NUM_CRIDEX+NUM_TINBA]\n",
        "miuref_flows_dir = final_dir_mal_flows[intermediate_total+NUM_CRIDEX+NUM_TINBA:intermediate_total+NUM_CRIDEX+NUM_TINBA+NUM_MIUREF]\n",
        "intermediate_total =intermediate_total +NUM_CRIDEX+NUM_TINBA+NUM_MIUREF\n",
        "zeus_flows_dir = final_dir_mal_flows[intermediate_total:intermediate_total+NUM_ZEUS]\n",
        "htbot_flows_dir = final_dir_mal_flows[intermediate_total+NUM_ZEUS:intermediate_total+NUM_ZEUS+NUM_HTBOT]\n",
        "neris_flows_dir = final_dir_mal_flows[intermediate_total+NUM_ZEUS+NUM_HTBOT:intermediate_total+NUM_ZEUS+NUM_HTBOT+NUM_NERIS]"
      ],
      "execution_count": 0,
      "outputs": []
    },
    {
      "cell_type": "code",
      "metadata": {
        "id": "ficxUTDJ9yNP",
        "colab_type": "code",
        "colab": {}
      },
      "source": [
        "nsis_flows_time = final_time_mal_flows[:NUM_NSIS]\n",
        "geodo_flows_time = final_time_mal_flows[NUM_NSIS:NUM_NSIS+NUM_GEODO]\n",
        "virut_flows_time = final_time_mal_flows[NUM_NSIS+NUM_GEODO:NUM_NSIS+NUM_GEODO+NUM_VIRUT]\n",
        "shifu_flows_time = final_time_mal_flows[NUM_NSIS+NUM_GEODO+NUM_VIRUT:NUM_NSIS+NUM_GEODO+NUM_VIRUT+NUM_SHIFU]\n",
        "intermediate_total =NUM_NSIS+NUM_GEODO+NUM_VIRUT+NUM_SHIFU\n",
        "cridex_flows_time = final_time_mal_flows[intermediate_total:intermediate_total+NUM_CRIDEX]\n",
        "tinba_flows_time = final_time_mal_flows[intermediate_total+NUM_CRIDEX:intermediate_total+NUM_CRIDEX+NUM_TINBA]\n",
        "miuref_flows_time = final_time_mal_flows[intermediate_total+NUM_CRIDEX+NUM_TINBA:intermediate_total+NUM_CRIDEX+NUM_TINBA+NUM_MIUREF]\n",
        "intermediate_total =intermediate_total +NUM_CRIDEX+NUM_TINBA+NUM_MIUREF\n",
        "zeus_flows_time = final_time_mal_flows[intermediate_total:intermediate_total+NUM_ZEUS]\n",
        "htbot_flows_time = final_time_mal_flows[intermediate_total+NUM_ZEUS:intermediate_total+NUM_ZEUS+NUM_HTBOT]\n",
        "neris_flows_time = final_time_mal_flows[intermediate_total+NUM_ZEUS+NUM_HTBOT:intermediate_total+NUM_ZEUS+NUM_HTBOT+NUM_NERIS]"
      ],
      "execution_count": 0,
      "outputs": []
    },
    {
      "cell_type": "code",
      "metadata": {
        "id": "msvBz31l-bDu",
        "colab_type": "code",
        "colab": {}
      },
      "source": [
        "## Get Training indices ##\n",
        "TRAIN_SIZE = 0.9\n",
        "nsis_index = np.random.choice(len(nsis_flows_cont), int(len(nsis_flows_cont)*TRAIN_SIZE), replace=False)\n",
        "geodo_index = np.random.choice(len(geodo_flows_cont), int(len(geodo_flows_cont)*TRAIN_SIZE) , replace=False)\n",
        "virut_index = np.random.choice(len(virut_flows_cont), int(len(virut_flows_cont)*TRAIN_SIZE) , replace=False)\n",
        "shifu_index = np.random.choice(len(shifu_flows_cont), int(len(shifu_flows_cont)*TRAIN_SIZE) , replace=False)\n",
        "cridex_index = np.random.choice(len(cridex_flows_cont), int(len(cridex_flows_cont)*TRAIN_SIZE) , replace=False)\n",
        "tinba_index = np.random.choice(len(tinba_flows_cont), int(len(tinba_flows_cont)*TRAIN_SIZE) , replace=False)\n",
        "miuref_index = np.random.choice(len(miuref_flows_cont), int(len(miuref_flows_cont)*TRAIN_SIZE) , replace=False)\n",
        "zeus_index = np.random.choice(len(zeus_flows_cont), int(len(zeus_flows_cont)*TRAIN_SIZE) , replace=False)\n",
        "htbot_index = np.random.choice(len(htbot_flows_cont), int(len(htbot_flows_cont)*TRAIN_SIZE) , replace=False)\n",
        "neris_index = np.random.choice(len(neris_flows_cont), int(len(neris_flows_cont)*TRAIN_SIZE) , replace=False)\n",
        "benign_index = np.random.choice(len(f_continuous_benign_flows), int(len(f_continuous_benign_flows)*TRAIN_SIZE) , replace=False)"
      ],
      "execution_count": 0,
      "outputs": []
    },
    {
      "cell_type": "code",
      "metadata": {
        "id": "izxEsx34-cVp",
        "colab_type": "code",
        "colab": {}
      },
      "source": [
        "## Create training and validation sets ##\n",
        "\n",
        "## Continuous train and valid sets\n",
        "nsis_train_cont = []\n",
        "geodo_train_cont = []\n",
        "virut_train_cont = []\n",
        "shifu_train_cont = []\n",
        "cridex_train_cont = []\n",
        "tinba_train_cont = []\n",
        "miuref_train_cont = []\n",
        "zeus_train_cont = []\n",
        "htbot_train_cont = []\n",
        "neris_train_cont = []\n",
        "benign_train_cont = []\n",
        "\n",
        "nsis_valid_cont = []\n",
        "geodo_valid_cont = []\n",
        "virut_valid_cont = []\n",
        "shifu_valid_cont = []\n",
        "cridex_valid_cont = []\n",
        "tinba_valid_cont = []\n",
        "miuref_valid_cont = []\n",
        "zeus_valid_cont = []\n",
        "htbot_valid_cont = []\n",
        "neris_valid_cont = []\n",
        "benign_valid_cont = []\n",
        "\n",
        "## Size train and valid sets\n",
        "nsis_train_size = []\n",
        "geodo_train_size = []\n",
        "virut_train_size = []\n",
        "shifu_train_size = []\n",
        "cridex_train_size = []\n",
        "tinba_train_size = []\n",
        "miuref_train_size = []\n",
        "zeus_train_size = []\n",
        "htbot_train_size = []\n",
        "neris_train_size = []\n",
        "benign_train_size = []\n",
        "\n",
        "nsis_valid_size = []\n",
        "geodo_valid_size = []\n",
        "virut_valid_size = []\n",
        "shifu_valid_size = []\n",
        "cridex_valid_size = []\n",
        "tinba_valid_size = []\n",
        "miuref_valid_size = []\n",
        "zeus_valid_size = []\n",
        "htbot_valid_size = []\n",
        "neris_valid_size = []\n",
        "benign_valid_size = []\n",
        "\n",
        "## Dir train and valid sets\n",
        "nsis_train_dir = []\n",
        "geodo_train_dir = []\n",
        "virut_train_dir = []\n",
        "shifu_train_dir = []\n",
        "cridex_train_dir = []\n",
        "tinba_train_dir = []\n",
        "miuref_train_dir = []\n",
        "zeus_train_dir = []\n",
        "htbot_train_dir = []\n",
        "neris_train_dir = []\n",
        "benign_train_dir = []\n",
        "\n",
        "nsis_valid_dir = []\n",
        "geodo_valid_dir = []\n",
        "virut_valid_dir = []\n",
        "shifu_valid_dir = []\n",
        "cridex_valid_dir = []\n",
        "tinba_valid_dir = []\n",
        "miuref_valid_dir = []\n",
        "zeus_valid_dir = []\n",
        "htbot_valid_dir = []\n",
        "neris_valid_dir = []\n",
        "benign_valid_dir = []\n",
        "\n",
        "## Time train and valid sets\n",
        "nsis_train_time = []\n",
        "geodo_train_time = []\n",
        "virut_train_time = []\n",
        "shifu_train_time = []\n",
        "cridex_train_time = []\n",
        "tinba_train_time = []\n",
        "miuref_train_time = []\n",
        "zeus_train_time = []\n",
        "htbot_train_time = []\n",
        "neris_train_time = []\n",
        "benign_train_time = []\n",
        "\n",
        "nsis_valid_time = []\n",
        "geodo_valid_time = []\n",
        "virut_valid_time = []\n",
        "shifu_valid_time = []\n",
        "cridex_valid_time = []\n",
        "tinba_valid_time = []\n",
        "miuref_valid_time = []\n",
        "zeus_valid_time = []\n",
        "htbot_valid_time = []\n",
        "neris_valid_time = []\n",
        "benign_valid_time = []\n",
        "\n",
        "\n",
        "\n",
        "for index in range(len(nsis_flows_cont)):\n",
        "  if index in nsis_index:\n",
        "    nsis_train_cont.append(nsis_flows_cont[index])\n",
        "    nsis_train_size.append(nsis_flows_size[index])\n",
        "    nsis_train_dir.append(nsis_flows_dir[index])\n",
        "    nsis_train_time.append(nsis_flows_time[index])\n",
        "  else:\n",
        "    nsis_valid_cont.append(nsis_flows_cont[index])\n",
        "    nsis_valid_size.append(nsis_flows_size[index])\n",
        "    nsis_valid_dir.append(nsis_flows_dir[index])\n",
        "    nsis_valid_time.append(nsis_flows_time[index])\n",
        "\n",
        "for index in range(len(geodo_flows_cont)):\n",
        "  if index in geodo_index:\n",
        "    geodo_train_cont.append(geodo_flows_cont[index])\n",
        "    geodo_train_size.append(geodo_flows_size[index])\n",
        "    geodo_train_dir.append(geodo_flows_dir[index])\n",
        "    geodo_train_time.append(geodo_flows_time[index])\n",
        "  else:    \n",
        "    geodo_valid_cont.append(geodo_flows_cont[index])\n",
        "    geodo_valid_size.append(geodo_flows_size[index])\n",
        "    geodo_valid_dir.append(geodo_flows_dir[index])\n",
        "    geodo_valid_time.append(geodo_flows_time[index])\n",
        "    \n",
        "for index in range(len(virut_flows_cont)):\n",
        "  if index in virut_index:\n",
        "    virut_train_cont.append(virut_flows_cont[index])\n",
        "    virut_train_size.append(virut_flows_size[index])\n",
        "    virut_train_dir.append(virut_flows_dir[index])\n",
        "    virut_train_time.append(virut_flows_time[index])\n",
        "  else:\n",
        "    virut_valid_cont.append(virut_flows_cont[index])\n",
        "    virut_valid_size.append(virut_flows_size[index])\n",
        "    virut_valid_dir.append(virut_flows_dir[index])\n",
        "    virut_valid_time.append(virut_flows_time[index])\n",
        "    \n",
        "for index in range(len(shifu_flows_cont)):\n",
        "  if index in shifu_index:\n",
        "    shifu_train_cont.append(shifu_flows_cont[index])\n",
        "    shifu_train_size.append(shifu_flows_size[index])\n",
        "    shifu_train_dir.append(shifu_flows_dir[index])\n",
        "    shifu_train_time.append(shifu_flows_time[index])\n",
        "  else:\n",
        "    shifu_valid_cont.append(shifu_flows_cont[index])\n",
        "    shifu_valid_size.append(shifu_flows_size[index])\n",
        "    shifu_valid_dir.append(shifu_flows_dir[index])\n",
        "    shifu_valid_time.append(shifu_flows_time[index])\n",
        "\n",
        "for index in range(len(cridex_flows_cont)):\n",
        "  if index in cridex_index:\n",
        "    cridex_train_cont.append(cridex_flows_cont[index])\n",
        "    cridex_train_size.append(cridex_flows_size[index])\n",
        "    cridex_train_dir.append(cridex_flows_dir[index])\n",
        "    cridex_train_time.append(cridex_flows_time[index])\n",
        "  else:\n",
        "    cridex_valid_cont.append(cridex_flows_cont[index])\n",
        "    cridex_valid_size.append(cridex_flows_size[index])\n",
        "    cridex_valid_dir.append(cridex_flows_dir[index])\n",
        "    cridex_valid_time.append(cridex_flows_time[index])\n",
        "    \n",
        "for index in range(len(tinba_flows_cont)):\n",
        "  if index in tinba_index:\n",
        "    tinba_train_cont.append(tinba_flows_cont[index])\n",
        "    tinba_train_size.append(tinba_flows_size[index])\n",
        "    tinba_train_dir.append(tinba_flows_dir[index])\n",
        "    tinba_train_time.append(tinba_flows_dir[index])\n",
        "  else:\n",
        "    tinba_valid_cont.append(tinba_flows_cont[index])\n",
        "    tinba_valid_size.append(tinba_flows_size[index])\n",
        "    tinba_valid_dir.append(tinba_flows_dir[index])\n",
        "    tinba_valid_time.append(tinba_flows_time[index])\n",
        "    \n",
        "\n",
        "for index in range(len(miuref_flows_cont)):\n",
        "  if index in miuref_index:\n",
        "    miuref_train_cont.append(miuref_flows_cont[index])\n",
        "    miuref_train_size.append(miuref_flows_size[index])\n",
        "    miuref_train_dir.append(miuref_flows_dir[index])\n",
        "    miuref_train_time.append(miuref_flows_time[index])\n",
        "  else:\n",
        "    miuref_valid_cont.append(miuref_flows_cont[index])\n",
        "    miuref_valid_size.append(miuref_flows_size[index])\n",
        "    miuref_valid_dir.append(miuref_flows_dir[index])\n",
        "    miuref_valid_time.append(miuref_flows_time[index])\n",
        "\n",
        "for index in range(len(zeus_flows_cont)):\n",
        "  if index in zeus_index:\n",
        "    zeus_train_cont.append(zeus_flows_cont[index])\n",
        "    zeus_train_size.append(zeus_flows_size[index])\n",
        "    zeus_train_dir.append(zeus_flows_dir[index])\n",
        "    zeus_train_time.append(zeus_flows_time[index])\n",
        "  else:\n",
        "    zeus_valid_cont.append(zeus_flows_cont[index])\n",
        "    zeus_valid_size.append(zeus_flows_size[index])\n",
        "    zeus_valid_dir.append(zeus_flows_dir[index])\n",
        "    zeus_valid_time.append(zeus_flows_time[index])\n",
        "    \n",
        "for index in range(len(htbot_flows_cont)):\n",
        "  if index in htbot_index:\n",
        "    htbot_train_cont.append(htbot_flows_cont[index])\n",
        "    htbot_train_size.append(htbot_flows_size[index])\n",
        "    htbot_train_dir.append(htbot_flows_dir[index])\n",
        "    htbot_train_time.append(htbot_flows_time[index])\n",
        "  else:\n",
        "    htbot_valid_cont.append(htbot_flows_cont[index])\n",
        "    htbot_valid_size.append(htbot_flows_size[index])\n",
        "    htbot_valid_dir.append(htbot_flows_dir[index])\n",
        "    htbot_valid_time.append(htbot_flows_time[index])\n",
        "\n",
        "for index in range(len(neris_flows_cont)):\n",
        "  if index in neris_index:\n",
        "    neris_train_cont.append(neris_flows_cont[index])\n",
        "    neris_train_size.append(neris_flows_size[index])\n",
        "    neris_train_dir.append(neris_flows_dir[index])\n",
        "    neris_train_time.append(neris_flows_time[index])\n",
        "  else:\n",
        "    neris_valid_cont.append(neris_flows_cont[index])\n",
        "    neris_valid_size.append(neris_flows_size[index])\n",
        "    neris_valid_dir.append(neris_flows_dir[index])\n",
        "    neris_valid_time.append(neris_flows_time[index])\n",
        "    \n",
        "    \n",
        "for index in range(len(f_continuous_benign_flows)):\n",
        "  if index in benign_index:\n",
        "    benign_train_cont.append(f_continuous_benign_flows[index])\n",
        "    benign_train_size.append(final_pkt_benign_flow[index])\n",
        "    benign_train_dir.append(final_dir_benign_flows[index])\n",
        "    benign_train_time.append(final_time_benign_flows[index])\n",
        "  else:\n",
        "    benign_valid_cont.append(f_continuous_benign_flows[index])\n",
        "    benign_valid_size.append(final_pkt_benign_flow[index])\n",
        "    benign_valid_dir.append(final_dir_benign_flows[index])\n",
        "    benign_valid_time.append(final_time_benign_flows[index])\n"
      ],
      "execution_count": 0,
      "outputs": []
    },
    {
      "cell_type": "code",
      "metadata": {
        "id": "Lmgkf6t4-d_z",
        "colab_type": "code",
        "colab": {}
      },
      "source": [
        "## Method for performing clustering and SMOTE \n",
        "from sklearn.utils import resample\n",
        "from sklearn.cluster import KMeans\n",
        "import math\n",
        "def cluster_resample(flows,time_flows,size_flows,dir_flows,benign_flows, num_clusters):\n",
        "  NUM_SAMPLES = 5000\n",
        "\n",
        "  actual_flows = np.concatenate([flows,time_flows,size_flows,dir_flows],axis=1)\n",
        "  sorted_flows = []\n",
        "  for i in range(num_clusters):\n",
        "    sorted_flows.append([])\n",
        "  ## sort in num clusters ##\n",
        "  kmeans = KMeans(n_clusters=num_clusters)\n",
        "  kmeans.fit(actual_flows)\n",
        "  labels = kmeans.predict(actual_flows)\n",
        "  centroids = kmeans.cluster_centers_\n",
        "  for index in range(len(labels)):\n",
        "    label_index = labels[index]\n",
        "    sorted_flows[label_index].append(actual_flows[index])\n",
        "\n",
        "  resampled_flows = []\n",
        "  for i in range(num_clusters):\n",
        "    resampled_flows.append([])\n",
        "\n",
        "  for i in range(num_clusters):\n",
        "    sampled_benign_flows = resample(benign_flows,\n",
        "                                    replace=False, # sample with replacement\n",
        "                                    n_samples=NUM_SAMPLES, # match number in majority class\n",
        "                                    random_state=27) # reproducible results\n",
        "    print(len(sorted_flows[i]))\n",
        "    check = sorted_flows[i][0]\n",
        "    y  = np.array([[0,1]]*len(sampled_benign_flows) +[[1,0]]*len(sorted_flows[i]))\n",
        "    X = np.concatenate([sampled_benign_flows,sorted_flows[i]],axis = 0 )\n",
        "    X_resampled, y_resampled = SMOTE().fit_resample(X, y) \n",
        "    resampled_flows[i] = X_resampled[NUM_SAMPLES:]\n",
        "  final_flows = []\n",
        "  final_time_flows =[]\n",
        "  final_size_flows = []\n",
        "  final_dir_flows = []\n",
        "  for i in range(num_clusters):\n",
        "    for flow in resampled_flows[i]:\n",
        "      final_flows.append(flow[:158])  \n",
        "      final_time_flows.append(flow[158:158+64])\n",
        "      final_size_flows.append(flow[158+64:158+128])\n",
        "      final_dir_flows.append(flow[158+128:158+128+64])\n",
        "  print(len(final_flows))\n",
        "  return final_flows,final_time_flows,final_size_flows,final_dir_flows"
      ],
      "execution_count": 0,
      "outputs": []
    },
    {
      "cell_type": "code",
      "metadata": {
        "id": "uMQb1A2qNHv9",
        "colab_type": "code",
        "outputId": "9b3c5ea5-afed-4aab-f58d-953e539ce04c",
        "colab": {
          "base_uri": "https://localhost:8080/",
          "height": 939
        }
      },
      "source": [
        "actual_benign_flows = np.concatenate([benign_train_cont,benign_train_time,benign_train_size,benign_train_dir],axis = 1)\n",
        "re_nsis_train_cont,re_nsis_train_time,re_nsis_train_size,re_nsis_train_dir = cluster_resample(nsis_train_cont,nsis_train_time,nsis_train_size,nsis_train_dir,actual_benign_flows, 5)\n",
        "re_geodo_train_cont,re_geodo_train_time,re_geodo_train_size,re_geodo_train_dir = cluster_resample(geodo_train_cont,geodo_train_time,geodo_train_size,geodo_train_dir,actual_benign_flows, 5)\n",
        "re_virut_train_cont,re_virut_train_time,re_virut_train_size,re_virut_train_dir = cluster_resample(virut_train_cont,virut_train_time,virut_train_size,virut_train_dir,actual_benign_flows, 5)\n",
        "re_neris_train_cont,re_neris_train_time,re_neris_train_size,re_neris_train_dir = cluster_resample(neris_train_cont,neris_train_time,neris_train_size,neris_train_dir,actual_benign_flows, 3)\n",
        "re_miuref_train_cont,re_miuref_train_time,re_miuref_train_size,re_miuref_train_dir = cluster_resample(miuref_train_cont,miuref_train_time,miuref_train_size,miuref_train_dir,actual_benign_flows, 5)\n",
        "re_tinba_train_cont,re_tinba_train_time,re_tinba_train_size,re_tinba_train_dir = cluster_resample(tinba_train_cont,tinba_train_time,tinba_train_size,tinba_train_dir,actual_benign_flows, 2)\n",
        "re_zeus_train_cont,re_zeus_train_time,re_zeus_train_size,re_zeus_train_dir = cluster_resample(zeus_train_cont,zeus_train_time,zeus_train_size,zeus_train_dir,actual_benign_flows, 4)\n",
        "re_htbot_train_cont,re_htbot_train_time,re_htbot_train_size,re_htbot_train_dir = cluster_resample(htbot_train_cont,htbot_train_time,htbot_train_size,htbot_train_dir,actual_benign_flows, 4)\n",
        "re_shifu_train_cont,re_shifu_train_time,re_shifu_train_size,re_shifu_train_dir = cluster_resample(shifu_train_cont,shifu_train_time,shifu_train_size,shifu_train_dir,actual_benign_flows, 6)\n",
        "re_cridex_train_cont,re_cridex_train_time,re_cridex_train_size,re_cridex_train_dir = cluster_resample(cridex_train_cont,cridex_train_time,cridex_train_size,cridex_train_dir,actual_benign_flows, 4)"
      ],
      "execution_count": 0,
      "outputs": [
        {
          "output_type": "stream",
          "text": [
            "1214\n",
            "726\n",
            "2303\n",
            "159\n",
            "849\n",
            "25000\n",
            "1827\n",
            "29489\n",
            "1281\n",
            "1759\n",
            "2380\n",
            "73978\n",
            "7072\n",
            "16614\n",
            "1379\n",
            "2402\n",
            "1359\n",
            "52372\n",
            "6056\n",
            "9057\n",
            "14173\n",
            "43572\n",
            "2228\n",
            "5733\n",
            "1683\n",
            "2347\n",
            "189\n",
            "26466\n",
            "6847\n",
            "1224\n",
            "13694\n",
            "197\n",
            "4477\n",
            "4630\n",
            "397\n",
            "20000\n",
            "2296\n",
            "1231\n",
            "1454\n",
            "804\n",
            "20000\n",
            "1689\n",
            "2355\n",
            "1665\n",
            "319\n",
            "2122\n",
            "1141\n",
            "30000\n",
            "3931\n",
            "7337\n",
            "2125\n",
            "1163\n",
            "24674\n"
          ],
          "name": "stdout"
        }
      ]
    },
    {
      "cell_type": "code",
      "metadata": {
        "id": "GTElaaqj-hDG",
        "colab_type": "code",
        "outputId": "1bb55a18-730a-4991-e9e6-bf86274d9159",
        "colab": {
          "base_uri": "https://localhost:8080/",
          "height": 34
        }
      },
      "source": [
        "## Get  the mal train labels \n",
        "labels = nsis_label*len(re_nsis_train_cont) + geodo_label*len(re_geodo_train_cont )+virut_label*len(re_virut_train_cont)\n",
        "labels = labels+shifu_label*len(re_shifu_train_cont)+cridex_label*len(re_cridex_train_cont)+tinba_label*len(re_tinba_train_cont)\n",
        "labels = labels+miuref_label*len(re_miuref_train_cont)+zeus_label*len(re_zeus_train_cont)+htbot_label*len(re_htbot_train_cont)\n",
        "mal_train_labels = labels+neris_label*len(re_neris_train_cont)\n",
        "print(len(mal_train_labels))"
      ],
      "execution_count": 0,
      "outputs": [
        {
          "output_type": "stream",
          "text": [
            "329756\n"
          ],
          "name": "stdout"
        }
      ]
    },
    {
      "cell_type": "code",
      "metadata": {
        "id": "YcQ5XVlG-i9m",
        "colab_type": "code",
        "outputId": "f3ec04bf-774f-4c1e-d7f4-403438c9e084",
        "colab": {
          "base_uri": "https://localhost:8080/",
          "height": 34
        }
      },
      "source": [
        "## Train meta flow data ##\n",
        "all_flows = list(re_nsis_train_cont)+ list(re_geodo_train_cont) +list(re_virut_train_cont)\n",
        "all_flows = all_flows + list(re_shifu_train_cont) + list(re_cridex_train_cont)+ list(re_tinba_train_cont)\n",
        "all_flows = all_flows + list(re_miuref_train_cont) + list(re_zeus_train_cont) + list(re_htbot_train_cont)+ list(re_neris_train_cont)\n",
        "mal_train_meta_X = list(all_flows)\n",
        "print(len(mal_train_meta_X))"
      ],
      "execution_count": 0,
      "outputs": [
        {
          "output_type": "stream",
          "text": [
            "329756\n"
          ],
          "name": "stdout"
        }
      ]
    },
    {
      "cell_type": "code",
      "metadata": {
        "id": "7Bpya6G1-j3v",
        "colab_type": "code",
        "outputId": "24594a76-bac9-43dc-b137-45374a3b3a1b",
        "colab": {
          "base_uri": "https://localhost:8080/",
          "height": 34
        }
      },
      "source": [
        "## Train packet size data ## \n",
        "all_flows = list(re_nsis_train_size)+ list(re_geodo_train_size) +list(re_virut_train_size)\n",
        "all_flows = all_flows + list(re_shifu_train_size) + list(re_cridex_train_size)+ list(re_tinba_train_size)\n",
        "all_flows = all_flows + list(re_miuref_train_size) + list(re_zeus_train_size) + list(re_htbot_train_size)+ list(re_neris_train_size)\n",
        "mal_train_size_X = list(all_flows)\n",
        "print(len(mal_train_size_X))"
      ],
      "execution_count": 0,
      "outputs": [
        {
          "output_type": "stream",
          "text": [
            "329756\n"
          ],
          "name": "stdout"
        }
      ]
    },
    {
      "cell_type": "code",
      "metadata": {
        "id": "1JL0arJC-lH1",
        "colab_type": "code",
        "outputId": "639e693c-0f32-4dfc-f7c3-2c3084978a97",
        "colab": {
          "base_uri": "https://localhost:8080/",
          "height": 34
        }
      },
      "source": [
        "## Train packet dir data ## \n",
        "all_flows = list(re_nsis_train_dir)+ list(re_geodo_train_dir) +list(re_virut_train_dir)\n",
        "all_flows = all_flows + list(re_shifu_train_dir) + list(re_cridex_train_dir)+ list(re_tinba_train_dir)\n",
        "all_flows = all_flows + list(re_miuref_train_dir) + list(re_zeus_train_dir) + list(re_htbot_train_dir)+ list(re_neris_train_dir)\n",
        "mal_train_dir_X = list(all_flows)\n",
        "print(len(mal_train_dir_X))"
      ],
      "execution_count": 0,
      "outputs": [
        {
          "output_type": "stream",
          "text": [
            "329756\n"
          ],
          "name": "stdout"
        }
      ]
    },
    {
      "cell_type": "code",
      "metadata": {
        "id": "7VIVGQi3-mGw",
        "colab_type": "code",
        "outputId": "fd3eb3ad-e8d1-4816-f77b-c0b1322628ca",
        "colab": {
          "base_uri": "https://localhost:8080/",
          "height": 34
        }
      },
      "source": [
        "## Train packet time data ## \n",
        "all_flows = list(re_nsis_train_time)+ list(re_geodo_train_time) +list(re_virut_train_time)\n",
        "all_flows = all_flows + list(re_shifu_train_time) + list(re_cridex_train_time)+ list(re_tinba_train_time)\n",
        "all_flows = all_flows + list(re_miuref_train_time) + list(re_zeus_train_time) + list(re_htbot_train_time)+ list(re_neris_train_time)\n",
        "mal_train_time_X = list(all_flows)\n",
        "print(len(mal_train_time_X))"
      ],
      "execution_count": 0,
      "outputs": [
        {
          "output_type": "stream",
          "text": [
            "329756\n"
          ],
          "name": "stdout"
        }
      ]
    },
    {
      "cell_type": "code",
      "metadata": {
        "id": "f2PhkPWs-m9r",
        "colab_type": "code",
        "outputId": "406af979-0d92-418e-8407-0b29b49a864c",
        "colab": {
          "base_uri": "https://localhost:8080/",
          "height": 34
        }
      },
      "source": [
        "## valid meta flow data ##\n",
        "all_flows = list(nsis_valid_cont)+ list(geodo_valid_cont) +list(virut_valid_cont)\n",
        "all_flows = all_flows + list(shifu_valid_cont) + list(cridex_valid_cont)+ list(tinba_valid_cont)\n",
        "all_flows = all_flows + list(miuref_valid_cont) + list(zeus_valid_cont) + list(htbot_valid_cont)+ list(neris_valid_cont)\n",
        "mal_valid_meta_X = list(all_flows)\n",
        "print(len(mal_valid_meta_X))"
      ],
      "execution_count": 0,
      "outputs": [
        {
          "output_type": "stream",
          "text": [
            "17747\n"
          ],
          "name": "stdout"
        }
      ]
    },
    {
      "cell_type": "code",
      "metadata": {
        "id": "HYVs1e1W-oGG",
        "colab_type": "code",
        "outputId": "08e620b3-aa06-4dc6-fec6-dbf270a04145",
        "colab": {
          "base_uri": "https://localhost:8080/",
          "height": 34
        }
      },
      "source": [
        "## valid packet size data ## \n",
        "all_flows = list(nsis_valid_size)+ list(geodo_valid_size) +list(virut_valid_size)\n",
        "all_flows = all_flows + list(shifu_valid_size) + list(cridex_valid_size)+ list(tinba_valid_size)\n",
        "all_flows = all_flows + list(miuref_valid_size) + list(zeus_valid_size) + list(htbot_valid_size)+ list(neris_valid_size)\n",
        "mal_valid_size_X = list(all_flows)\n",
        "print(len(mal_valid_size_X))"
      ],
      "execution_count": 0,
      "outputs": [
        {
          "output_type": "stream",
          "text": [
            "17747\n"
          ],
          "name": "stdout"
        }
      ]
    },
    {
      "cell_type": "code",
      "metadata": {
        "id": "59PzzGUG-pag",
        "colab_type": "code",
        "outputId": "22829950-f90e-4153-f3cb-3938782cc2b0",
        "colab": {
          "base_uri": "https://localhost:8080/",
          "height": 34
        }
      },
      "source": [
        "## valid packet time data ## \n",
        "all_flows = list(nsis_valid_time)+ list(geodo_valid_time) +list(virut_valid_time)\n",
        "all_flows = all_flows + list(shifu_valid_time) + list(cridex_valid_time)+ list(tinba_valid_time)\n",
        "all_flows = all_flows + list(miuref_valid_time) + list(zeus_valid_time) + list(htbot_valid_time)+ list(neris_valid_time)\n",
        "mal_valid_time_X = list(all_flows)\n",
        "print(len(mal_valid_time_X))"
      ],
      "execution_count": 0,
      "outputs": [
        {
          "output_type": "stream",
          "text": [
            "17747\n"
          ],
          "name": "stdout"
        }
      ]
    },
    {
      "cell_type": "code",
      "metadata": {
        "id": "MEHx-oV7-qYc",
        "colab_type": "code",
        "outputId": "fe71ef0a-4c98-4498-8add-0bbb483d6e5e",
        "colab": {
          "base_uri": "https://localhost:8080/",
          "height": 34
        }
      },
      "source": [
        "## valid packet dir data ## \n",
        "all_flows = list(nsis_valid_dir)+ list(geodo_valid_dir) +list(virut_valid_dir)\n",
        "all_flows = all_flows + list(shifu_valid_dir) + list(cridex_valid_dir)+ list(tinba_valid_dir)\n",
        "all_flows = all_flows + list(miuref_valid_dir) + list(zeus_valid_dir) + list(htbot_valid_dir)+ list(neris_valid_dir)\n",
        "mal_valid_dir_X = list(all_flows)\n",
        "print(len(mal_valid_dir_X))"
      ],
      "execution_count": 0,
      "outputs": [
        {
          "output_type": "stream",
          "text": [
            "17747\n"
          ],
          "name": "stdout"
        }
      ]
    },
    {
      "cell_type": "code",
      "metadata": {
        "id": "K7Ga-gGJ-ris",
        "colab_type": "code",
        "outputId": "c1c57013-e78b-44ec-b877-df3292515c9a",
        "colab": {
          "base_uri": "https://localhost:8080/",
          "height": 34
        }
      },
      "source": [
        "## valid labels ##\n",
        "labels = nsis_label*len(nsis_valid_cont) + geodo_label*len(geodo_valid_cont )+virut_label*len(virut_valid_cont)\n",
        "labels = labels+shifu_label*len(shifu_valid_cont)+cridex_label*len(cridex_valid_cont)+tinba_label*len(tinba_valid_cont)\n",
        "labels = labels+miuref_label*len(miuref_valid_cont)+zeus_label*len(zeus_valid_cont)+htbot_label*len(htbot_valid_cont)\n",
        "mal_valid_labels = labels+neris_label*len(neris_valid_cont)\n",
        "print(len(mal_valid_labels))"
      ],
      "execution_count": 0,
      "outputs": [
        {
          "output_type": "stream",
          "text": [
            "17747\n"
          ],
          "name": "stdout"
        }
      ]
    },
    {
      "cell_type": "code",
      "metadata": {
        "id": "U1eXvUCX-vN4",
        "colab_type": "code",
        "colab": {}
      },
      "source": [
        "### Dump flows in appropriate pace \n",
        "import numpy as np\n",
        "with open('./embedding/CNN_FULL/USTC_prn_benign_meta_train', 'wb') as fp:\n",
        "  pickle.dump(benign_train_cont,fp)\n",
        "  fp.close()\n",
        "\n",
        "with open('./embedding/CNN_FULL/USTC_prn_mal_meta_train', 'wb') as fp:\n",
        "  pickle.dump(np.array(mal_train_meta_X).astype(float),fp)\n",
        "  fp.close()\n",
        "  \n",
        "with open('./embedding/CNN_FULL/USTC_prn_mal_meta_valid', 'wb') as fp:\n",
        "  pickle.dump(np.array(mal_valid_meta_X).astype(float),fp)\n",
        "  fp.close()\n",
        "  \n",
        "with open('./embedding/CNN_FULL/USTC_prn_mal_size_train', 'wb') as fp:\n",
        "  pickle.dump(np.array(mal_train_size_X).astype(float),fp)\n",
        "  fp.close()\n",
        "  \n",
        "with open('./embedding/CNN_FULL/USTC_prn_mal_size_valid', 'wb') as fp:\n",
        "  pickle.dump(np.array(mal_valid_size_X).astype(float),fp)\n",
        "  fp.close()\n",
        "  \n",
        "with open('./embedding/CNN_FULL/USTC_prn_mal_time_train', 'wb') as fp:\n",
        "  pickle.dump(np.array(mal_train_time_X).astype(float),fp)\n",
        "  fp.close()\n",
        "  \n",
        "with open('./embedding/CNN_FULL/USTC_prn_mal_time_valid', 'wb') as fp:\n",
        "  pickle.dump(np.array(mal_valid_time_X).astype(float),fp)\n",
        "  fp.close()\n",
        "  \n",
        "with open('./embedding/CNN_FULL/USTC_prn_mal_dir_train', 'wb') as fp:\n",
        "  pickle.dump(np.array(mal_train_dir_X).astype(float),fp)\n",
        "  fp.close()\n",
        "  \n",
        "with open('./embedding/CNN_FULL/USTC_prn_mal_dir_valid', 'wb') as fp:\n",
        "  pickle.dump(np.array(mal_valid_dir_X).astype(float),fp)\n",
        "  fp.close()\n",
        "  \n",
        "with open('./embedding/CNN_FULL/USTC_prn_mal_meta_train_labels', 'wb') as fp:\n",
        "  pickle.dump(mal_train_labels,fp)\n",
        "  fp.close()\n",
        "  \n",
        "with open('./embedding/CNN_FULL/USTC_prn_mal_meta_valid_labels', 'wb') as fp:\n",
        "  pickle.dump(mal_valid_labels,fp)\n",
        "  fp.close()\n",
        "  \n",
        "with open('./embedding/CNN_FULL/USTC_prn_benign_meta_valid', 'wb') as fp:\n",
        "  pickle.dump(benign_valid_cont,fp)\n",
        "  fp.close()\n",
        "  \n",
        "with open('./embedding/CNN_FULL/USTC_prn_benign_size_train', 'wb') as fp:\n",
        "  pickle.dump(benign_train_size,fp)\n",
        "  fp.close()\n",
        "  \n",
        "with open('./embedding/CNN_FULL/USTC_prn_benign_size_valid', 'wb') as fp:\n",
        "  pickle.dump(benign_valid_size,fp)\n",
        "  fp.close()\n",
        "  \n",
        "with open('./embedding/CNN_FULL/USTC_prn_benign_dir_train', 'wb') as fp:\n",
        "  pickle.dump(benign_train_dir,fp)\n",
        "  fp.close()\n",
        "  \n",
        "with open('./embedding/CNN_FULL/USTC_prn_benign_dir_valid', 'wb') as fp:\n",
        "  pickle.dump(benign_valid_dir,fp)\n",
        "  fp.close()\n",
        "\n",
        "with open('./embedding/CNN_FULL/USTC_prn_benign_time_train', 'wb') as fp:\n",
        "  pickle.dump(benign_train_time,fp)\n",
        "  fp.close()\n",
        "  \n",
        "with open('./embedding/CNN_FULL/USTC_prn_benign_time_valid', 'wb') as fp:\n",
        "  pickle.dump(benign_valid_time,fp)\n",
        "  fp.close()"
      ],
      "execution_count": 0,
      "outputs": []
    },
    {
      "cell_type": "code",
      "metadata": {
        "id": "md_2EEgd_cQr",
        "colab_type": "code",
        "outputId": "68371ec3-c76d-4cee-cbf5-e3cb5e882428",
        "colab": {
          "base_uri": "https://localhost:8080/",
          "height": 191
        }
      },
      "source": [
        "print(NUM_NSIS)\n",
        "print(NUM_GEODO)\n",
        "print(NUM_VIRUT)\n",
        "print(NUM_SHIFU)\n",
        "print(NUM_CRIDEX)\n",
        "print(NUM_TINBA)\n",
        "print(NUM_MIUREF)\n",
        "print(NUM_ZEUS)\n",
        "print(NUM_HTBOT)\n",
        "print(NUM_NERIS)"
      ],
      "execution_count": 0,
      "outputs": [
        {
          "output_type": "stream",
          "text": [
            "5835\n",
            "40818\n",
            "32029\n",
            "10324\n",
            "16174\n",
            "8968\n",
            "13534\n",
            "10779\n",
            "6428\n",
            "32541\n"
          ],
          "name": "stdout"
        }
      ]
    },
    {
      "cell_type": "code",
      "metadata": {
        "id": "3zzl-n7cCTdH",
        "colab_type": "code",
        "colab": {}
      },
      "source": [
        ""
      ],
      "execution_count": 0,
      "outputs": []
    }
  ]
}