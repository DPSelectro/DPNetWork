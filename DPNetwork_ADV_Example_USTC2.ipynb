{
  "nbformat": 4,
  "nbformat_minor": 0,
  "metadata": {
    "colab": {
      "name": "DPNetwork-ADV-Example-USTC2.ipynb",
      "version": "0.3.2",
      "provenance": [],
      "collapsed_sections": [],
      "machine_shape": "hm"
    },
    "kernelspec": {
      "name": "python3",
      "display_name": "Python 3"
    },
    "accelerator": "GPU"
  },
  "cells": [
    {
      "cell_type": "code",
      "metadata": {
        "id": "IfZvF4P4-J1s",
        "colab_type": "code",
        "outputId": "a9d58abd-418e-4ff0-e1cd-e053148e52e5",
        "colab": {
          "base_uri": "https://localhost:8080/",
          "height": 34
        }
      },
      "source": [
        "## Load in Autoencoder for creating adversarial examples \n",
        "## against different models. This particular code runs a \n",
        "## Sparse1Desecnt attack against the model. After doing this,\n",
        "## this code computes the robustness of the trained network for the \n",
        "## validation set that it is using \n"
      ],
      "execution_count": 0,
      "outputs": [
        {
          "output_type": "stream",
          "text": [
            "Mounted at /content/drive\n"
          ],
          "name": "stdout"
        }
      ]
    },
    {
      "cell_type": "code",
      "metadata": {
        "id": "QSS7U8x7_953",
        "colab_type": "code",
        "colab": {}
      },
      "source": [
        "import numpy as np\n",
        "import tensorflow as tf\n",
        "import six \n",
        "import math\n",
        "from tensorflow.python.training import moving_averages \n",
        "import pickle\n",
        "import tensorflow.keras.backend as K\n",
        "from sklearn.preprocessing import normalize\n",
        "import tensorflow_probability as tfp\n",
        "CONT_FEATURE_SIZE = 158"
      ],
      "execution_count": 0,
      "outputs": []
    },
    {
      "cell_type": "code",
      "metadata": {
        "id": "9eH2m5Hr__Tz",
        "colab_type": "code",
        "colab": {}
      },
      "source": [
        "## Constants for deciding how to add differential privacy to autoencoder \n",
        "\n",
        "NOISE_PLACEMENT = 'img_noise'\n",
        "NOISE_SCHEME = 'l1_l1'\n",
        "EPSILON = 1.0\n",
        "DELTA_DP = 0.05\n",
        "SCALE = 0.1\n",
        "EPOCHS = 40 \n",
        "NOISE = 0\n",
        "BATCH_SIZE = 64\n",
        "BATCH_SHAPE = 128\n",
        "NOISE_TYPE = 'laplace'\n",
        "AUTO_ENCODER_OUT_SHAPE = 158\n",
        "FOLDER = 'USTC2-AutoEncoderLaplace'\n",
        "NUM_CLASS =2\n",
        "TRAIN =True \n",
        "SCALE_STRING = \"0point1\"\n",
        "\n",
        "                        "
      ],
      "execution_count": 0,
      "outputs": []
    },
    {
      "cell_type": "code",
      "metadata": {
        "id": "PqAEfcFbAtzU",
        "colab_type": "code",
        "colab": {}
      },
      "source": [
        "## DP-Mult for different types of noise \n",
        "def dp_mult( size=None):\n",
        "  epsilon_dp =EPSILON\n",
        "  delta_dp   = DELTA_DP\n",
        "  max_pixeldp_norm = SCALE\n",
        "  if NOISE_SCHEME == 'l1_l2'    or  \\\n",
        "      NOISE_SCHEME == 'l2':\n",
        "      return max_pixeldp_norm * \\\n",
        "          math.sqrt(2 * math.log(1.25 / delta_dp)) / epsilon_dp\n",
        "  elif NOISE_SCHEME == 'l1_l1'  or  \\\n",
        "      NOISE_SCHEME == 'l1':\n",
        "      return max_pixeldp_norm / epsilon_dp"
      ],
      "execution_count": 0,
      "outputs": []
    },
    {
      "cell_type": "code",
      "metadata": {
        "id": "dkBXhXCqAw6A",
        "colab_type": "code",
        "colab": {}
      },
      "source": [
        "## Create different types of noises for different \n",
        "## noise types and schemes\n",
        "def img_dp_noise(shape):\n",
        "  if NOISE_TYPE == 'laplace':\n",
        "    sensitivity_multiplier = EPSILON \n",
        "    dp_mult_x = dp_mult()\n",
        "    loc = tf.zeros([BATCH_SHAPE,shape])\n",
        "    scale = tf.ones([BATCH_SHAPE,shape])\n",
        "    epsilon = tfp.distributions.Laplace(loc,scale).sample()\n",
        "    noise_scale = tf.placeholder(tf.float32,shape =(), name ='noise_scale')\n",
        "    L1_SENSITIVITY = 1.0\n",
        "    b = L1_SENSITIVITY *dp_mult_x*SCALE\n",
        "    noise = b *epsilon\n",
        "    \n",
        "  elif NOISE_TYPE == 'gaussian':\n",
        "    dp_mult_x = dp_mult()\n",
        "    epsilon = tf.random_normal(shape=(BATCH_SHAPE,shape), mean=0,stddev=1)\n",
        "    sensitivity_multiplier = EPSILON \n",
        "    L2_SENSITIVITY = 1.0\n",
        "    noise_scale = tf.placeholder(tf.float32,shape =(), name ='noise_scale')\n",
        "    SIGMA = tf.multiply(dp_mult_x,L2_SENSITIVITY,name= \"SIGMA\")\n",
        "    noise_stddev = SCALE * SIGMA\n",
        "    noise = noise_stddev *epsilon\n",
        "  return noise"
      ],
      "execution_count": 0,
      "outputs": []
    },
    {
      "cell_type": "code",
      "metadata": {
        "id": "gGR6UO8eAzbn",
        "colab_type": "code",
        "colab": {}
      },
      "source": [
        "# Normalize the l1 direction https://github.com/columbia/pixeldp\n",
        "def l1_normalize(x, dim, epsilon=1e-12, name=None):\n",
        "  \"\"\"Normalizes along dimension `dim` using an L1 norm.\n",
        "  For a 1-D tensor with `dim = 0`, computes\n",
        "      output = x / max(sum(abs(x)), epsilon)\n",
        "  For `x` with more dimensions, independently normalizes each 1-D slice along\n",
        "  dimension `dim`.\n",
        "  Args:\n",
        "    x: A `Tensor`.\n",
        "    dim: Dimension along which to normalize.  A scalar or a vector of\n",
        "      integers.\n",
        "    epsilon: A lower bound value for the norm. Will use `sqrt(epsilon)` as the\n",
        "      divisor if `norm < sqrt(epsilon)`.\n",
        "    name: A name for this operation (optional).\n",
        "  Returns:\n",
        "    A `Tensor` with the same shape as `x`.\n",
        "  \"\"\"\n",
        "  with tf.name_scope(name, \"l1_normalize\", [x]) as name:\n",
        "    with tf.device(\"/gpu:0\"):\n",
        "      x          = tf.convert_to_tensor(x, name            = \"x\")\n",
        "      abs_sum    = tf.reduce_sum(tf.abs(x), dim, keep_dims = True)\n",
        "      x_inv_norm = tf.reciprocal(tf.maximum(abs_sum, epsilon))\n",
        "      return tf.multiply(x, x_inv_norm, name=name)"
      ],
      "execution_count": 0,
      "outputs": []
    },
    {
      "cell_type": "code",
      "metadata": {
        "id": "XT1Lkwi7A1Q8",
        "colab_type": "code",
        "colab": {}
      },
      "source": [
        "with tf.device('/device:GPU:0'):\n",
        "  NOISE = img_dp_noise(int(CONT_FEATURE_SIZE/2))\n",
        "  ## Define the auto encoder without keras \n",
        "  x_ = tf.placeholder(tf.float32,shape= [BATCH_SHAPE,CONT_FEATURE_SIZE])\n",
        "  y_ =tf.placeholder(tf.float32,shape= [BATCH_SHAPE,CONT_FEATURE_SIZE])\n",
        "  \n",
        "  x2_ =tf.placeholder(tf.float32,shape= [BATCH_SHAPE,AUTO_ENCODER_OUT_SHAPE])\n",
        "  y2_ =tf.placeholder(tf.float32,shape= [BATCH_SHAPE,2])\n",
        "  y3_ =tf.placeholder(tf.float32,shape= [BATCH_SHAPE,10])"
      ],
      "execution_count": 0,
      "outputs": []
    },
    {
      "cell_type": "code",
      "metadata": {
        "id": "kESnr0ZIVtNB",
        "colab_type": "code",
        "colab": {}
      },
      "source": [
        "## Load in the noise that was used to train the autoencoder\n",
        "with open('./DP-GRAPHS/' + FOLDER+ '/NOISE'+SCALE_STRING, 'rb') as fp:\n",
        "  NOISE = pickle.load(fp)\n",
        "  fp.close()"
      ],
      "execution_count": 0,
      "outputs": []
    },
    {
      "cell_type": "code",
      "metadata": {
        "id": "RhUXotDbA3PG",
        "colab_type": "code",
        "colab": {}
      },
      "source": [
        "## Get the autoencoder representation  \n",
        "def get_rep(x, full_rep = True):\n",
        "  with tf.variable_scope(\"first_model\",reuse=tf.AUTO_REUSE):\n",
        "    with tf.device('/device:GPU:0'):\n",
        "    \n",
        "      ## ADD NOISE \n",
        "      #noise_image = tf.add(NOISE,x) \n",
        "      W_dense1 = tf.get_variable(\"dense1\",initializer =tf.random_normal(stddev=0.1, shape =[CONT_FEATURE_SIZE,int(CONT_FEATURE_SIZE/2)]))\n",
        "      b_dense1 =  tf.get_variable(\"bias1\",initializer =tf.random_normal(stddev=0.1, shape =[int(CONT_FEATURE_SIZE/2)]))\n",
        "      if NOISE_SCHEME == \"l1_l2\":\n",
        "        W_dense1_norm = tf.nn.l2_normalize(W_dense1,dim=1)\n",
        "      else:\n",
        "        W_dense1_norm = l1_normalize(W_dense1,dim=1)\n",
        "\n",
        "      h_fc1 = tf.nn.relu(tf.matmul(tf.cast(x,tf.float32), W_dense1_norm))\n",
        "      if TRAIN == True:\n",
        "        noise_image = tf.add(h_fc1,NOISE)\n",
        "      else:\n",
        "        noise_image = tf.add(h_fc1,img_dp_noise(int(CONT_FEATURE_SIZE/2)))\n",
        "      \n",
        "      W_dense2 =tf.get_variable(\"dense2\",initializer =tf.random_normal(stddev=0.1,shape= [int(CONT_FEATURE_SIZE/2),int(CONT_FEATURE_SIZE/4)]))\n",
        "      b_dense2 = tf.get_variable(\"bias2\",initializer =tf.random_normal(stddev=0.1,shape= [int(CONT_FEATURE_SIZE/4)]))\n",
        "      h_fc2 = tf.nn.relu(tf.matmul(noise_image, W_dense2) + b_dense2)\n",
        "\n",
        "\n",
        "      W_dense3 =tf.get_variable(\"dense3\",initializer =tf.random_normal(stddev=0.1,shape= [int(CONT_FEATURE_SIZE/4),10]))\n",
        "      b_dense3 =tf.get_variable(\"bias3\",initializer =tf.random_normal(stddev=0.1,shape= [10])) \n",
        "      first_output = tf.matmul(h_fc2, W_dense3) + b_dense3\n",
        "      h_fc3 = tf.nn.relu(first_output)\n",
        "\n",
        "      W_dense4 =tf.get_variable(\"dense4\",initializer =tf.random_normal(stddev=0.1,shape= [10,int(CONT_FEATURE_SIZE/4)]))\n",
        "      b_dense4 =tf.get_variable(\"bias4\",initializer =tf.random_normal(stddev=0.1,shape= [int(CONT_FEATURE_SIZE/4)]))\n",
        "      h_fc4 = tf.nn.relu(tf.matmul(h_fc3, W_dense4) + b_dense4)\n",
        "\n",
        "      W_dense5 = tf.get_variable(\"dense5\",initializer =tf.random_normal(stddev=0.1,shape= [int(CONT_FEATURE_SIZE/4),int(CONT_FEATURE_SIZE/2)]))\n",
        "      b_dense5 = tf.get_variable(\"bias5\",initializer =tf.random_normal(stddev=0.1,shape= [int(CONT_FEATURE_SIZE/2)]))\n",
        "      h_fc5 = tf.nn.relu(tf.matmul(h_fc4, W_dense5) + b_dense5)\n",
        "\n",
        "      W_dense6 = tf.get_variable(\"dense6\",initializer =tf.random_normal(stddev=0.1,shape= [int(CONT_FEATURE_SIZE/2),int(CONT_FEATURE_SIZE)]))\n",
        "      b_dense6 = tf.get_variable(\"bias6\",initializer =tf.random_normal(stddev=0.1,shape= [CONT_FEATURE_SIZE]))\n",
        "      h_fc6 = tf.matmul(h_fc5, W_dense6) + b_dense6\n",
        "      if full_rep == True:\n",
        "        return h_fc6\n",
        "      return first_output"
      ],
      "execution_count": 0,
      "outputs": []
    },
    {
      "cell_type": "code",
      "metadata": {
        "id": "cdGt7ntpA5zY",
        "colab_type": "code",
        "colab": {}
      },
      "source": [
        "## The CNN used to differentiate different types of flows \n",
        "def get_logits_cnn(x,return_embedding= False):\n",
        "  with  tf.variable_scope(\"tree_second_model\",reuse=tf.AUTO_REUSE):\n",
        "    with  tf.device('/device:GPU:0'):\n",
        "      W_dense4_class = tf.get_variable(\"dense4_sec\",initializer =tf.random_normal(stddev=0.1, shape =[AUTO_ENCODER_OUT_SHAPE,784] ))\n",
        "      b_dense4_class = tf.get_variable(\"bias4_sec\",initializer =tf.random_normal(stddev=0.1,shape=[784]))\n",
        "      h_fc4_class = tf.nn.relu(tf.matmul(tf.cast(x,tf.float32), W_dense4_class) + b_dense4_class)\n",
        "\n",
        "      reshape_1_class = tf.reshape(h_fc4_class,[BATCH_SHAPE,28,28,1])\n",
        "      conv2d_1_weight = tf.get_variable(\"conv2d_1_dense\",initializer =tf.random_normal(stddev=0.1, shape =[5, 5, 1, 32]))\n",
        "      conv2d_1_bias = tf.get_variable(\"conv2d_1_bias\",initializer =tf.random_normal(stddev=0.1, shape= [32]))\n",
        "      conv2d_1_class = tf.nn.relu(tf.nn.bias_add(tf.nn.conv2d(reshape_1_class,\n",
        "                                                  conv2d_1_weight,\n",
        "                                                  strides =[1,1,1,1],\n",
        "                                                  padding='SAME'),\n",
        "                                      conv2d_1_bias))\n",
        "\n",
        "      maxpool2d_1_class = tf.nn.max_pool(conv2d_1_class,\n",
        "                                       ksize=[1, 2, 2, 1], \n",
        "                                       strides=[1, 2, 2, 1],\n",
        "                                padding='SAME')\n",
        "      conv2d_2_weight = tf.get_variable(\"conv2d_2_dense\",initializer =tf.random_normal(stddev=0.1, shape =[5, 5, 32, 64]))\n",
        "      conv2d_2_bias = tf.get_variable(\"conv2d_2_bias\",initializer =tf.random_normal(stddev=0.1, shape=[64]))\n",
        "      conv2d_2_class = tf.nn.relu(tf.nn.bias_add(tf.nn.conv2d(maxpool2d_1_class,\n",
        "                                                  conv2d_2_weight,\n",
        "                                                  strides =[1,1,1,1],\n",
        "                                                  padding='SAME'),\n",
        "                                      conv2d_2_bias))\n",
        "\n",
        "      maxpool2d_2_class = tf.nn.max_pool(conv2d_2_class,\n",
        "                                       ksize=[1, 2, 2, 1], \n",
        "                                       strides=[1, 2, 2, 1],\n",
        "                                padding='SAME')\n",
        "\n",
        "      reshape_2_class = tf.reshape(maxpool2d_2_class,[BATCH_SHAPE,-1])\n",
        "      drop_one = tf.nn.dropout(reshape_2_class,rate=0.2)\n",
        "      W_dense5_class = tf.get_variable(\"dense5_sec\",initializer =tf.random_normal(stddev=0.1,shape=[7*7*64,1024]))\n",
        "      b_dense5_class = tf.get_variable(\"bias5_sec\",initializer =tf.random_normal(stddev=0.1,shape=[1024]))\n",
        "      h_fc5_logit = tf.nn.bias_add(tf.matmul(drop_one, W_dense5_class),b_dense5_class)\n",
        "      h_fc5_class = tf.nn.relu(h_fc5_logit)\n",
        "      drop_two = tf.nn.dropout(h_fc5_class,rate=0.4)\n",
        "\n",
        "      out_weight_class =  tf.get_variable(\"out_dense_sec\",initializer =tf.random_normal(stddev=0.1,shape=[1024, 2]))\n",
        "      out_bias_class =  tf.get_variable(\"out_bias_sec\",initializer =tf.random_normal(stddev=0.1,shape = [2]))\n",
        "      out_final_logits = tf.nn.bias_add(tf.matmul(drop_two,out_weight_class),out_bias_class)\n",
        "      if return_embedding == True:\n",
        "        return h_fc5_logit\n",
        "      return out_final_logits"
      ],
      "execution_count": 0,
      "outputs": []
    },
    {
      "cell_type": "code",
      "metadata": {
        "id": "-y77rJhZBCt_",
        "colab_type": "code",
        "colab": {}
      },
      "source": [
        "def get_logits(x):\n",
        "  return get_logits_cnn(get_rep(x, full_rep=True ))"
      ],
      "execution_count": 0,
      "outputs": []
    },
    {
      "cell_type": "code",
      "metadata": {
        "id": "VJ8XsW6uBTHn",
        "colab_type": "code",
        "outputId": "1c1619d6-6185-473b-cd4a-3af3e758f77e",
        "colab": {
          "base_uri": "https://localhost:8080/",
          "height": 158
        }
      },
      "source": [
        "with tf.device('/device:GPU:0'):\n",
        "\n",
        "  mse = tf.reduce_mean(tf.losses.mean_squared_error(labels=y_, predictions=get_rep(x_,True)))\n",
        "  train_step = tf.train.AdamOptimizer(1e-4,name=\"adam-encoder\").minimize(mse)\n",
        "  accuracy = mse"
      ],
      "execution_count": 0,
      "outputs": [
        {
          "output_type": "stream",
          "text": [
            "WARNING: Logging before flag parsing goes to stderr.\n",
            "W0808 12:13:46.738605 139739695155072 deprecation.py:506] From <ipython-input-9-ae2b94e09e25>:20: calling reduce_sum_v1 (from tensorflow.python.ops.math_ops) with keep_dims is deprecated and will be removed in a future version.\n",
            "Instructions for updating:\n",
            "keep_dims is deprecated, use keepdims instead\n",
            "W0808 12:13:46.847620 139739695155072 deprecation.py:323] From /usr/local/lib/python3.6/dist-packages/tensorflow/python/ops/losses/losses_impl.py:121: add_dispatch_support.<locals>.wrapper (from tensorflow.python.ops.array_ops) is deprecated and will be removed in a future version.\n",
            "Instructions for updating:\n",
            "Use tf.where in 2.0, which has the same broadcast rule as np.where\n"
          ],
          "name": "stderr"
        }
      ]
    },
    {
      "cell_type": "code",
      "metadata": {
        "id": "hMdlePda9y4J",
        "colab_type": "code",
        "colab": {}
      },
      "source": [
        "first_saver = tf.train.Saver()"
      ],
      "execution_count": 0,
      "outputs": []
    },
    {
      "cell_type": "code",
      "metadata": {
        "id": "ULUEvzyJBUB4",
        "colab_type": "code",
        "outputId": "7a542b5b-ff66-4f49-9e89-315bfde86323",
        "colab": {
          "base_uri": "https://localhost:8080/",
          "height": 51
        }
      },
      "source": [
        "config = tf.ConfigProto(allow_soft_placement=True)\n",
        "config.gpu_options.allow_growth = True\n",
        "print(\"GPU Available: \", tf.test.is_gpu_available())\n",
        "device_name = tf.test.gpu_device_name()\n",
        "if device_name != '/device:GPU:0':\n",
        "  raise SystemError('GPU device not found')\n",
        "print('Found GPU at: {}'.format(device_name))"
      ],
      "execution_count": 0,
      "outputs": [
        {
          "output_type": "stream",
          "text": [
            "GPU Available:  True\n",
            "Found GPU at: /device:GPU:0\n"
          ],
          "name": "stdout"
        }
      ]
    },
    {
      "cell_type": "code",
      "metadata": {
        "id": "4D4nZiz_BaDy",
        "colab_type": "code",
        "colab": {}
      },
      "source": [
        "### Load in the data\n",
        "with open('./embedding/CNN_FULL/USTC_rn_mal_meta_train', 'rb') as fp:\n",
        "  mal_train_meta_X = pickle.load(fp)\n",
        "  fp.close()\n",
        "  \n",
        "  \n",
        "with open('./embedding/CNN_FULL/USTC_rn_mal_meta_valid', 'rb') as fp:\n",
        "  mal_valid_meta_X = pickle.load(fp)\n",
        "  fp.close()\n",
        "  \n",
        "with open('./embedding/CNN_FULL/USTC_rn_benign_meta_train', 'rb') as fp:\n",
        "  benign_train_meta_X = pickle.load(fp)\n",
        "  benign_train_meta_X = np.array(benign_train_meta_X)\n",
        "  fp.close()\n",
        "\n",
        "with open('./embedding/CNN_FULL/USTC_rn_benign_meta_valid', 'rb') as fp:\n",
        "  benign_valid_meta_X = pickle.load(fp)\n",
        "  benign_valid_meta_X = np.array(benign_valid_meta_X)\n",
        "  fp.close()\n",
        "  "
      ],
      "execution_count": 0,
      "outputs": []
    },
    {
      "cell_type": "code",
      "metadata": {
        "id": "NwBEm9sXMdys",
        "colab_type": "code",
        "colab": {}
      },
      "source": [
        "train_labels = [[0,1]]*len(benign_train_meta_X) +[[1,0]]*len(mal_train_meta_X)\n",
        "valid_labels = [[0,1]]*len(benign_valid_meta_X) +[[1,0]]*len(mal_valid_meta_X)"
      ],
      "execution_count": 0,
      "outputs": []
    },
    {
      "cell_type": "code",
      "metadata": {
        "id": "WxZ27zSTjGtf",
        "colab_type": "code",
        "colab": {}
      },
      "source": [
        "## Shuffle the the data \n",
        "train_meta_X = np.concatenate([benign_train_meta_X,mal_train_meta_X])\n",
        "valid_meta_X = np.concatenate([benign_valid_meta_X,mal_valid_meta_X])\n",
        "c = list(zip(train_meta_X,train_labels))\n",
        "np.random.shuffle(c)\n",
        "train_meta_X,train_labels = zip(*c)\n",
        "\n",
        "c = list(zip(valid_meta_X,valid_labels))\n",
        "np.random.shuffle(c)\n",
        "valid_meta_X,valid_labels = zip(*c)\n",
        "valid_meta_X = valid_meta_X[:53242]\n",
        "train_meta_X = train_meta_X[:534400]\n",
        "train_X =np.array(train_meta_X).astype(float)\n",
        "valid_X =np.array(valid_meta_X).astype(float)"
      ],
      "execution_count": 0,
      "outputs": []
    },
    {
      "cell_type": "code",
      "metadata": {
        "id": "KhznW-WhusK9",
        "colab_type": "code",
        "colab": {}
      },
      "source": [
        "import numpy as np\n",
        "import matplotlib.pyplot as plt\n",
        "from sklearn.metrics import confusion_matrix\n",
        "from sklearn.utils.multiclass import unique_labels\n",
        "\n",
        "def plot_confusion_matrix(y_true, y_pred, classes,title,\n",
        "                          normalize=False,\n",
        "                   \n",
        "                          cmap=plt.cm.Blues):\n",
        "  # Compute confusion matrix\n",
        "  cm = confusion_matrix(y_true, y_pred)\n",
        "  # Only use the labels that appear in the data\n",
        "  #classes = classes[unique_labels(y_true, y_pred)]\n",
        "  if normalize:\n",
        "      cm = cm.astype('float') / cm.sum(axis=1)[:, np.newaxis]\n",
        "      print(\"Normalized confusion matrix\")\n",
        "  else:\n",
        "      print('Confusion matrix, without normalization')\n",
        "\n",
        "  print(cm)\n",
        "  fig = plt.figure(figsize=(12,12))\n",
        "  ax = fig.add_subplot(111)\n",
        "  \n",
        "  im = ax.imshow(cm, interpolation='nearest', cmap=cmap)\n",
        "  ax.figure.colorbar(im, ax=ax)\n",
        "  # We want to show all ticks...\n",
        "  ax.set(xticks=np.arange(cm.shape[1]),\n",
        "         yticks=np.arange(cm.shape[0]),\n",
        "         # ... and label them with the respective list entries\n",
        "         xticklabels=classes, yticklabels=classes,\n",
        "         ylabel='True label',\n",
        "         xlabel='Predicted label')\n",
        "  _ = plt.xlabel(\"Predicted Labels\", fontsize=18)\n",
        "  _ = plt.ylabel(\"True label\", fontsize=18)\n",
        "  \n",
        "  _ = plt.title(\"Confusion Matrix for Predicted Network Activity\", fontsize=18)\n",
        "\n",
        "  plt.rc('xtick', labelsize=14) \n",
        "  plt.rc('ytick', labelsize=14) \n",
        "  # Rotate the tick labels and set their alignment.\n",
        "  plt.setp(ax.get_xticklabels(), rotation=45, ha=\"right\",\n",
        "           rotation_mode=\"anchor\")\n",
        "\n",
        "  # Loop over data dimensions and create text annotations.\n",
        "  fmt = '.2f' if normalize else 'd'\n",
        "  thresh = cm.max() / 2.\n",
        "  for i in range(cm.shape[0]):\n",
        "      for j in range(cm.shape[1]):\n",
        "          ax.text(j, i, format(cm[i, j], fmt),\n",
        "                  ha=\"center\", va=\"center\", fontsize=14,\n",
        "                  color=\"white\" if cm[i, j] > thresh else \"black\")\n",
        "  fig.tight_layout()\n",
        "  fig.savefig(\"./Figures/Confusion-Matrix\"+FOLDER+SCALE_STRING+title+\".pdf\", bbox_inches='tight')\n",
        "  return ax\n"
      ],
      "execution_count": 0,
      "outputs": []
    },
    {
      "cell_type": "code",
      "metadata": {
        "id": "WmsnkpqlB8di",
        "colab_type": "code",
        "colab": {}
      },
      "source": [
        "# CNN tensors for training the model \n",
        "with tf.device('/device:GPU:0'):\n",
        "  cnn_cross_entropy = tf.reduce_mean(tf.nn.softmax_cross_entropy_with_logits_v2(labels=y2_, logits=get_logits_cnn(x2_)))\n",
        "  cnn_class_train_step = tf.train.AdamOptimizer(1e-4,name=\"class-adam-encoder\").minimize(cnn_cross_entropy)\n",
        "  cnn_correct_prediction = tf.equal(tf.argmax(get_logits_cnn(x2_), 1), tf.argmax(y2_, 1))\n",
        "  cnn_accuracy = tf.reduce_mean(tf.cast(cnn_correct_prediction, tf.float32))"
      ],
      "execution_count": 0,
      "outputs": []
    },
    {
      "cell_type": "code",
      "metadata": {
        "id": "4OTY2Ubd9uL4",
        "colab_type": "code",
        "colab": {}
      },
      "source": [
        "second_saver = tf.train.Saver()"
      ],
      "execution_count": 0,
      "outputs": []
    },
    {
      "cell_type": "code",
      "metadata": {
        "id": "ZQOqC-Ju7gR2",
        "colab_type": "code",
        "outputId": "74aca823-1330-46b3-b99f-5cd80f14af2a",
        "colab": {
          "base_uri": "https://localhost:8080/",
          "height": 124
        }
      },
      "source": [
        "session = tf.Session(config=config)\n",
        "session.run(tf.global_variables_initializer())\n",
        "## Retreive the validation accuracry for the autoencoder\n",
        "with session as sess:\n",
        "  first_saver.restore(sess, './DP-GRAPHS/' + FOLDER+ '/autoencoder'+SCALE_STRING+'.ckpt') \n",
        "  valid_acc = 0 \n",
        "  for batch_num in range(int(len(valid_X)/BATCH_SHAPE)): \n",
        "    batch = valid_X[batch_num*BATCH_SHAPE:batch_num*BATCH_SHAPE+BATCH_SHAPE]\n",
        "    batch_label = valid_X[batch_num*BATCH_SHAPE:batch_num*BATCH_SHAPE+BATCH_SHAPE]\n",
        "    valid_acc += accuracy.eval(feed_dict={x_:batch, y_: batch_label})\n",
        "  print('Step %d, validation accuracy %g' % (batch_num , valid_acc/(int(len(valid_X)/BATCH_SHAPE))))    \n",
        "  print(\"HERE\")\n",
        "  first_saver.save(sess, './DP-GRAPHS/' + FOLDER+ '/CNN_2_'+SCALE_STRING+'.ckpt')\n",
        "    "
      ],
      "execution_count": 0,
      "outputs": [
        {
          "output_type": "stream",
          "text": [
            "W0808 00:08:27.201173 139841044653952 deprecation.py:323] From /usr/local/lib/python3.6/dist-packages/tensorflow/python/training/saver.py:1276: checkpoint_exists (from tensorflow.python.training.checkpoint_management) is deprecated and will be removed in a future version.\n",
            "Instructions for updating:\n",
            "Use standard file APIs to check for files with this prefix.\n"
          ],
          "name": "stderr"
        },
        {
          "output_type": "stream",
          "text": [
            "Step 414, validation accuracy 6.72495e-05\n",
            "HERE\n"
          ],
          "name": "stdout"
        }
      ]
    },
    {
      "cell_type": "code",
      "metadata": {
        "id": "gg73KJdPCNOV",
        "colab_type": "code",
        "outputId": "17cf779f-e582-4cdf-e621-1b9c7652e906",
        "colab": {
          "base_uri": "https://localhost:8080/",
          "height": 521
        }
      },
      "source": [
        "# Train the model used to differentiate malicious and benign flows \n",
        "session = tf.Session(config=config)\n",
        "session.run(tf.global_variables_initializer())\n",
        "x_coord = 0\n",
        "x_coords = []\n",
        "accuracies = []\n",
        "past_valid_acc = 0\n",
        "go = True\n",
        "with session as sess:\n",
        "  first_saver.restore(sess, './DP-GRAPHS/' + FOLDER+ '/autoencoder'+SCALE_STRING+'.ckpt') \n",
        "  valid_acc = 0 \n",
        "  for batch_num in range(int(len(valid_X)/BATCH_SHAPE)): \n",
        "    batch = valid_X[batch_num*BATCH_SHAPE:batch_num*BATCH_SHAPE+BATCH_SHAPE]\n",
        "    batch_label = valid_X[batch_num*BATCH_SHAPE:batch_num*BATCH_SHAPE+BATCH_SHAPE]\n",
        "    valid_acc += accuracy.eval(feed_dict={x_:batch, y_: batch_label})\n",
        "  print('Step %d, validation accuracy %g' % (batch_num , valid_acc/(int(len(valid_X)/BATCH_SHAPE)))) \n",
        "  print(\"Classification Network Benign vs Malicious \")\n",
        "  while go:\n",
        "    train_acc = 0 \n",
        "    for batch_num in range(int(len(train_X)/BATCH_SHAPE)):\n",
        "      batch = train_X[batch_num*BATCH_SHAPE:batch_num*BATCH_SHAPE+BATCH_SHAPE]\n",
        "      batch_label = train_labels[batch_num*BATCH_SHAPE:batch_num*BATCH_SHAPE+BATCH_SHAPE]\n",
        "      current_train_acc = cnn_accuracy.eval(feed_dict={x2_:batch, y2_: batch_label})\n",
        "      train_acc += current_train_acc      \n",
        "      cnn_class_train_step.run(feed_dict={x2_: batch, y2_: batch_label})\n",
        "    x_coords.append(x_coord)\n",
        "    accuracies.append(train_acc/(int(len(train_X)/BATCH_SHAPE)))\n",
        "    x_coord+=1\n",
        "    print('Step %d, training accuracy %g' % (batch_num , train_acc/(int(len(train_X)/BATCH_SHAPE))))\n",
        "    valid_acc = 0 \n",
        "    for batch_num in range(int(len(valid_X)/BATCH_SHAPE)): \n",
        "      batch = valid_X[batch_num*BATCH_SHAPE:batch_num*BATCH_SHAPE+BATCH_SHAPE]\n",
        "      batch_label = valid_labels[batch_num*BATCH_SHAPE:batch_num*BATCH_SHAPE+BATCH_SHAPE]\n",
        "      valid_acc += cnn_accuracy.eval(feed_dict={x2_:batch, y2_: batch_label})\n",
        "    print('Step %d, validation accuracy %g' % (batch_num , valid_acc/(int(len(valid_X)/BATCH_SHAPE))))     \n",
        "    if valid_acc <= past_valid_acc:\n",
        "      num_decrease+=1\n",
        "      print(\"DECREASE\")\n",
        "    else:\n",
        "      num_decrease = 0 \n",
        "    if num_decrease == 2:\n",
        "      print(\"DONE\")\n",
        "      go = False\n",
        "    past_valid_acc = valid_acc\n",
        "  second_saver.save(sess, './DP-GRAPHS/' + FOLDER+ '/CNN_2_'+SCALE_STRING+'.ckpt')\n",
        "    "
      ],
      "execution_count": 0,
      "outputs": [
        {
          "output_type": "stream",
          "text": [
            "Step 414, validation accuracy 6.72495e-05\n",
            "Classification Network Benign vs Malicious \n",
            "Step 4174, training accuracy 0.953204\n",
            "Step 414, validation accuracy 0.995068\n",
            "Step 4174, training accuracy 0.98599\n",
            "Step 414, validation accuracy 0.997007\n",
            "Step 4174, training accuracy 0.987942\n",
            "Step 414, validation accuracy 0.99712\n",
            "Step 4174, training accuracy 0.988621\n",
            "Step 414, validation accuracy 0.997289\n",
            "Step 4174, training accuracy 0.989332\n",
            "Step 414, validation accuracy 0.997421\n",
            "Step 4174, training accuracy 0.989607\n",
            "Step 414, validation accuracy 0.997684\n",
            "Step 4174, training accuracy 0.990694\n",
            "Step 414, validation accuracy 0.997986\n",
            "Step 4174, training accuracy 0.992414\n",
            "Step 414, validation accuracy 0.998437\n",
            "Step 4174, training accuracy 0.993952\n",
            "Step 414, validation accuracy 0.998814\n",
            "Step 4174, training accuracy 0.994699\n",
            "Step 414, validation accuracy 0.99887\n",
            "Step 4174, training accuracy 0.995225\n",
            "Step 414, validation accuracy 0.998758\n",
            "DECREASE\n",
            "Step 4174, training accuracy 0.995404\n",
            "Step 414, validation accuracy 0.998569\n",
            "DECREASE\n",
            "DONE\n"
          ],
          "name": "stdout"
        }
      ]
    },
    {
      "cell_type": "code",
      "metadata": {
        "id": "XK5sLMMVvICp",
        "colab_type": "code",
        "outputId": "2ebd8c4a-93db-48cc-9b51-0cc34739c3e1",
        "colab": {
          "base_uri": "https://localhost:8080/",
          "height": 935
        }
      },
      "source": [
        "plot_confusion_matrix(n_valid_labels,n_valid_cnn_labels,classes,\"WITHOUT-AUTOENCODER\")"
      ],
      "execution_count": 0,
      "outputs": [
        {
          "output_type": "stream",
          "text": [
            "Confusion matrix, without normalization\n",
            "[[17667    41]\n",
            " [   36 35376]]\n"
          ],
          "name": "stdout"
        },
        {
          "output_type": "execute_result",
          "data": {
            "text/plain": [
              "<matplotlib.axes._subplots.AxesSubplot at 0x7f2df325bc88>"
            ]
          },
          "metadata": {
            "tags": []
          },
          "execution_count": 37
        },
        {
          "output_type": "display_data",
          "data": {
            "image/png": "[encoded data removed]",
            "text/plain": [
              "<Figure size 864x864 with 2 Axes>"
            ]
          },
          "metadata": {
            "tags": []
          }
        }
      ]
    },
    {
      "cell_type": "code",
      "metadata": {
        "id": "1LwkRn5HUBng",
        "colab_type": "code",
        "colab": {}
      },
      "source": [
        "## Get intermediate output, faster than running eval each time while training\n",
        "session = tf.Session()\n",
        "session.run(tf.global_variables_initializer())\n",
        "intermediate_output_train = []\n",
        "intermediate_output_test = []\n",
        "intermediate_output_training = []\n",
        "intermediate_output_testing = []\n",
        "with session as sess:\n",
        "  second_saver.restore(sess, './DP-GRAPHS/' + FOLDER+ '/CNN_2_'+SCALE_STRING+'.ckpt')\n",
        "  batch = train_X[:BATCH_SHAPE]\n",
        "  print(batch.shape)\n",
        "  intermediate_output_train  = get_rep(batch,full_rep=True)\n",
        "  print(int(len(train_X)/BATCH_SHAPE))\n",
        "  for batch_num in range(1,int(len(train_X)/BATCH_SHAPE)):\n",
        "    batch = train_X[batch_num*BATCH_SHAPE:batch_num*BATCH_SHAPE+BATCH_SHAPE]\n",
        "    info = get_rep(tf.convert_to_tensor(np.array(batch)),full_rep=True)\n",
        "    intermediate_output_train  = tf.concat([intermediate_output_train, info],axis = 0)\n",
        "    if batch_num %100 == 0:\n",
        "      print(batch_num)\n",
        "  intermediate_output_training = sess.run(intermediate_output_train) \n",
        "f_train_X = intermediate_output_training"
      ],
      "execution_count": 0,
      "outputs": []
    },
    {
      "cell_type": "code",
      "metadata": {
        "id": "NmhdhGuZUzNl",
        "colab_type": "code",
        "outputId": "9e07cb02-1d52-4a90-aefb-afaed1225990",
        "colab": {
          "base_uri": "https://localhost:8080/",
          "height": 34
        }
      },
      "source": [
        "## GET AUTO ENCODING \n",
        "## Get intermediate output, faster than running eval each time while training\n",
        "session = tf.Session(config=config)\n",
        "session.run(tf.global_variables_initializer())\n",
        "with session as sess:\n",
        "  second_saver.restore(sess, './DP-GRAPHS/' + FOLDER+ '/CNN_2_'+SCALE_STRING+'.ckpt')\n",
        "  batch = valid_X[:BATCH_SHAPE]\n",
        "  intermediate_output_test  = get_rep(batch,full_rep=True)\n",
        "  print(\"HELLO\")\n",
        "  for batch_num in range(1,int(len(valid_X)/BATCH_SHAPE)): \n",
        "    batch = valid_X[batch_num*BATCH_SHAPE:batch_num*BATCH_SHAPE+BATCH_SHAPE]\n",
        "    intermediate_output_test  = tf.concat([intermediate_output_test,get_rep(batch,full_rep=True)],axis = 0)\n",
        "  intermediate_output_testing = sess.run(intermediate_output_test)\n",
        "f_valid_X = intermediate_output_testing"
      ],
      "execution_count": 0,
      "outputs": [
        {
          "output_type": "stream",
          "text": [
            "HELLO\n"
          ],
          "name": "stdout"
        }
      ]
    },
    {
      "cell_type": "code",
      "metadata": {
        "id": "M8whZl6CKrFi",
        "colab_type": "code",
        "outputId": "41edfb9e-314a-450c-d199-1092538d383b",
        "colab": {
          "base_uri": "https://localhost:8080/",
          "height": 225
        }
      },
      "source": [
        "## Fine tune network for training with noisy data\n",
        "session = tf.Session(config=config)\n",
        "session.run(tf.global_variables_initializer())\n",
        "x_coord = 0\n",
        "x_coords = []\n",
        "accuracies = []\n",
        "EPOCHS = 5\n",
        "with session as sess:\n",
        "  second_saver.restore(sess, './DP-GRAPHS/' + FOLDER+ '/CNN_2_'+SCALE_STRING+'.ckpt')\n",
        "  print(\"Classification Network Benign vs Malicious \")\n",
        "  for epoch in range(EPOCHS):\n",
        "    train_acc = 0 \n",
        "    for batch_num in range(int(len(f_train_X)/BATCH_SHAPE)):\n",
        "      batch = f_train_X[batch_num*BATCH_SHAPE:batch_num*BATCH_SHAPE+BATCH_SHAPE]\n",
        "      batch_label = train_labels[batch_num*BATCH_SHAPE:batch_num*BATCH_SHAPE+BATCH_SHAPE]\n",
        "      current_train_acc = cnn_accuracy.eval(feed_dict={x2_: batch , y2_: batch_label})\n",
        "      train_acc += current_train_acc      \n",
        "      cnn_class_train_step.run(feed_dict={x2_:   batch, y2_: batch_label})\n",
        "    x_coords.append(x_coord)\n",
        "    accuracies.append(train_acc/(int(len(f_train_X)/BATCH_SHAPE)))\n",
        "    x_coord+=1\n",
        "    print('Step %d, training accuracy %g' % (batch_num , train_acc/(int(len(f_train_X)/BATCH_SHAPE))))\n",
        "    valid_acc = 0 \n",
        "    for batch_num in range(int(len(f_valid_X)/BATCH_SHAPE)): \n",
        "      batch = f_valid_X[batch_num*BATCH_SHAPE:batch_num*BATCH_SHAPE+BATCH_SHAPE]\n",
        "      batch_label = valid_labels[batch_num*BATCH_SHAPE:batch_num*BATCH_SHAPE+BATCH_SHAPE]\n",
        "      valid_acc += cnn_accuracy.eval(feed_dict={x2_:batch, y2_: batch_label})\n",
        "    print('Step %d, validation accuracy %g' % (batch_num , valid_acc/(int(len(f_valid_X)/BATCH_SHAPE))))     \n",
        "  print(\"HERE\")\n",
        "  second_saver.save(sess, './DP-GRAPHS/' + FOLDER+ '/CNN_2_'+SCALE_STRING+'.ckpt')"
      ],
      "execution_count": 0,
      "outputs": [
        {
          "output_type": "stream",
          "text": [
            "Classification Network Benign vs Malicious \n",
            "Step 4174, training accuracy 0.969227\n",
            "Step 414, validation accuracy 0.985241\n",
            "Step 4174, training accuracy 0.973033\n",
            "Step 414, validation accuracy 0.986672\n",
            "Step 4174, training accuracy 0.97396\n",
            "Step 414, validation accuracy 0.986521\n",
            "Step 4174, training accuracy 0.974813\n",
            "Step 414, validation accuracy 0.987406\n",
            "Step 4174, training accuracy 0.97524\n",
            "Step 414, validation accuracy 0.987538\n",
            "HERE\n"
          ],
          "name": "stdout"
        }
      ]
    },
    {
      "cell_type": "code",
      "metadata": {
        "id": "lt1PFwl7LOa4",
        "colab_type": "code",
        "colab": {}
      },
      "source": [
        "## Get labels for the confusion matrix\n",
        "n_valid_labels = []\n",
        "n_valid_cnn_labels = []\n",
        "for label in valid_labels[:53120]:\n",
        "  n_label = np.argmax(label)\n",
        "  n_valid_labels.append(n_label)\n",
        "for label in valid_cnn_labels:\n",
        "  n_label = np.argmax(label)\n",
        "  n_valid_cnn_labels.append(n_label)\n",
        "\n",
        "classes = [\"Malicious\",\"Benign\"]"
      ],
      "execution_count": 0,
      "outputs": []
    },
    {
      "cell_type": "code",
      "metadata": {
        "id": "3n2VYxpaS4iW",
        "colab_type": "code",
        "outputId": "2fe4cd1a-3ce9-4210-e980-6806c5bb5990",
        "colab": {
          "base_uri": "https://localhost:8080/",
          "height": 939
        }
      },
      "source": [
        "plot_confusion_matrix(n_valid_labels,n_valid_cnn_labels,classes,\"AFTER-AUTOENCODER\")"
      ],
      "execution_count": 0,
      "outputs": [
        {
          "output_type": "stream",
          "text": [
            "Confusion matrix, without normalization\n",
            "[[17275   433]\n",
            " [  233 35179]]\n"
          ],
          "name": "stdout"
        },
        {
          "output_type": "execute_result",
          "data": {
            "text/plain": [
              "<matplotlib.axes._subplots.AxesSubplot at 0x7f2c67e6f2b0>"
            ]
          },
          "metadata": {
            "tags": []
          },
          "execution_count": 48
        },
        {
          "output_type": "display_data",
          "data": {
            "image/png": "[encoded data removed]",
            "text/plain": [
              "<Figure size 864x864 with 2 Axes>"
            ]
          },
          "metadata": {
            "tags": []
          }
        }
      ]
    },
    {
      "cell_type": "code",
      "metadata": {
        "id": "dP7tWV5JCsqe",
        "colab_type": "code",
        "colab": {}
      },
      "source": [
        ""
      ],
      "execution_count": 0,
      "outputs": []
    },
    {
      "cell_type": "code",
      "metadata": {
        "id": "uMquwJerC2bD",
        "colab_type": "code",
        "outputId": "100dd89c-8daf-46fc-852e-2ccbdaf804cc",
        "colab": {
          "base_uri": "https://localhost:8080/",
          "height": 51
        }
      },
      "source": [
        "## Get valid malicious flows  ##\n",
        "index = 0 \n",
        "indices = []\n",
        "for label in valid_labels:\n",
        "  if label[0] == 1:\n",
        "    indices.append(index)\n",
        "  index+=1\n",
        "valid_malicious_flows = []\n",
        "for i in indices:\n",
        "  valid_malicious_flows.append(valid_X[i])\n",
        "print(len(valid_malicious_flows))\n",
        "\n",
        "## Get benign flows ##\n",
        "index = 0 \n",
        "for label in valid_labels:\n",
        "  if label[0] == 0:\n",
        "    indices.append(index)\n",
        "  index+=1\n",
        "valid_benign_flows = []\n",
        "for i in indices:\n",
        "  valid_benign_flows.append(valid_X[i])\n",
        "print(len(valid_benign_flows))\n",
        "\n",
        "## Get malicious flows for getting adversarial examples ##\n",
        "adv_labels = len(valid_labels)*[[0,1]]\n",
        "NUM_SAMPLED = 17664\n",
        "test_malicious_flows_index = np.random.choice(len(valid_malicious_flows), NUM_SAMPLED , replace=False)\n",
        "test_malicious_flows = []\n",
        "for index in test_malicious_flows_index:\n",
        "  test_malicious_flows.append(valid_malicious_flows[index])\n",
        "test_malicious_flows = np.array(test_malicious_flows)"
      ],
      "execution_count": 0,
      "outputs": [
        {
          "output_type": "stream",
          "text": [
            "17747\n",
            "53242\n"
          ],
          "name": "stdout"
        }
      ]
    },
    {
      "cell_type": "code",
      "metadata": {
        "id": "ESu_WnZNDKRl",
        "colab_type": "code",
        "colab": {}
      },
      "source": [
        "!pip install git+https://github.com/tensorflow/cleverhans.git#egg=cleverhans"
      ],
      "execution_count": 0,
      "outputs": []
    },
    {
      "cell_type": "code",
      "metadata": {
        "id": "Iuy7bSk9DZ-D",
        "colab_type": "code",
        "colab": {}
      },
      "source": [
        "import tensorflow as tf\n",
        "from tensorflow.keras import layers\n",
        "from tensorflow.keras.models import Model\n",
        "import cleverhans\n",
        "from cleverhans.attacks import FastGradientMethod\n",
        "from cleverhans.attacks import BasicIterativeMethod\n",
        "from cleverhans.attacks import SparseL1Descent  \n",
        "from cleverhans.attacks import MomentumIterativeMethod\n",
        "from cleverhans.attacks import ElasticNetMethod\n",
        "import cleverhans.model as chm\n",
        "## Create adversarial examples \n",
        "session = tf.Session(config=config)\n",
        "session.run(tf.global_variables_initializer())\n",
        "with session as sess: \n",
        "  second_saver.restore(sess, './DP-GRAPHS/' + FOLDER+ '/CNN_2_'+SCALE_STRING+'.ckpt')\n",
        "  with  tf.device('/device:GPU:0'):\n",
        "    nn_model = chm.CallableModelWrapper(get_logits, 'logits')\n",
        "    fgsm = SparseL1Descent(nn_model,sess =sess)\n",
        "\n",
        "    ## ElasticNetMethod ##\n",
        "#     fgsm_params = {'batch_size':294,\n",
        "#                    'decision_rule': 'L1',\n",
        "#                     'beta': 1,\n",
        "#                     'binary_search_steps':.1,\n",
        "#                     'initial_const': 0.0001,\n",
        "#                     'y_target': tf.convert_to_tensor(adv_labels[:BATCH_SHAPE])}\n",
        "\n",
        "\n",
        "\n",
        "    ## MomentumIterativeMethod ###\n",
        "  #     fgsm_params = {'eps_iter':0.005,\n",
        "  #        'eps': 0.1,\n",
        "  #       'nb_iter': 100,                   \n",
        "  #       'ord': 1,\n",
        "  #                    'clip_min': 0,\n",
        "  #                    'clip_max': 1.,\n",
        "  #                     'y_target': tf.convert_to_tensor(adv_labels[:BATCH_SHAPE])}\n",
        "\n",
        "    ## Basic Iterative Method ###\n",
        "  #     fgsm_params = {'eps_iter':0.005,\n",
        "  #          'eps': .1,\n",
        "  #         'nb_iter': 1000,                   \n",
        "  #         'ord': 1,\n",
        "  #                      'clip_min': 0,\n",
        "  #                      'clip_max': 1.,\n",
        "  #                       'y_target': tf.convert_to_tensor(adv_labels[:BATCH_SHAPE])}\n",
        "\n",
        "    ### Fast Gradient Descent ###\n",
        "  #     fgsm_params = {\n",
        "  #          'eps': 0.2,   \n",
        "  #         'ord': 1,\n",
        "  #                      'clip_min': 0,\n",
        "  #                      'clip_max': 1.,\n",
        "  #                       'y_target': tf.convert_to_tensor(adv_labels[:BATCH_SHAPE])}\n",
        "\n",
        "    ### SparseL1 Descent ###\n",
        "    fgsm_params = {'eps_iter':0.005,\n",
        "         'eps': SCALE,\n",
        "        'nb_iter': 100,                   \n",
        "        'ord': 1,\n",
        "                     'clip_min': 0,\n",
        "                     'clip_max': 1.,\n",
        "                      'y_target': tf.convert_to_tensor(adv_labels[:BATCH_SHAPE])}\n",
        "    batch = test_malicious_flows[:BATCH_SHAPE]\n",
        "    adv_x = fgsm.generate(tf.cast(np.array(batch),tf.float32), **fgsm_params)\n",
        "    first_sample = test_malicious_flows[0]\n",
        "    for batch_num in range(1,int(len(test_malicious_flows)/BATCH_SHAPE)):\n",
        "      print(batch_num)\n",
        "      batch =test_malicious_flows[batch_num*BATCH_SHAPE:batch_num*BATCH_SHAPE+BATCH_SHAPE]\n",
        "      batch_size = len(batch)\n",
        "      while len(batch)< BATCH_SHAPE:\n",
        "        batch.append(first_sample) \n",
        "      adv_output = fgsm.generate(tf.cast(np.array(batch),tf.float32), **fgsm_params)\n",
        "      adv_x  = tf.concat([adv_x, adv_output[:batch_size]],axis = 0)\n",
        "\n",
        "    print(\"GET ADVERSARIAL EXAMPLES\")\n",
        "    ## Run to get adversarial examples ##\n",
        "    adversarial_output = sess.run(adv_x)\n",
        "\n",
        "  print(\"GET SOFTMAX ADV EXAMPLES\")\n",
        "  ## Run to get adversarial output ##\n",
        "  batch = adversarial_output[:BATCH_SHAPE]\n",
        "  adv_soft_output = sess.run(tf.nn.softmax(get_logits(batch)))\n",
        "  first_sample = adversarial_output[0]\n",
        "  for batch_num in range(1,int(len(adversarial_output)/BATCH_SHAPE)):\n",
        "    print(batch_num)\n",
        "    batch = adversarial_output[batch_num*BATCH_SHAPE:batch_num*BATCH_SHAPE+BATCH_SHAPE]\n",
        "    batch_size = len(batch)\n",
        "    while len(batch)< BATCH_SHAPE:\n",
        "      batch.append(first_sample)\n",
        "    adv_soft_out = tf.nn.softmax(get_logits(batch))\n",
        "    adv_soft_output = tf.concat([adv_soft_output,adv_soft_out],axis = 0) \n",
        "    \n",
        "  adv_soft_output = sess.run(adv_soft_output) "
      ],
      "execution_count": 0,
      "outputs": []
    },
    {
      "cell_type": "code",
      "metadata": {
        "id": "tcucANBODgEY",
        "colab_type": "code",
        "colab": {}
      },
      "source": [
        "session = tf.Session()\n",
        "session.run(tf.global_variables_initializer())\n",
        "## Get non-adversarial softmax output ##\n",
        "with session as sess: \n",
        "  second_saver.restore(sess, './DP-GRAPHS/' + FOLDER+ '/CNN_2_'+SCALE_STRING+'.ckpt')\n",
        "  batch = test_malicious_flows[:BATCH_SHAPE]\n",
        "  n_non_adv_soft_output = tf.nn.softmax(get_logits(tf.cast(np.array(batch),tf.float32)))\n",
        "  first_sample = test_malicious_flows[0]\n",
        "  print(int(len(test_malicious_flows)/BATCH_SHAPE))\n",
        "  for batch_num in range(1,int(len(test_malicious_flows)/BATCH_SHAPE)):\n",
        "    print(batch_num)\n",
        "    batch = test_malicious_flows[batch_num*BATCH_SHAPE:batch_num*BATCH_SHAPE+BATCH_SHAPE]\n",
        "    batch_size = len(batch)\n",
        "    while len(batch)< BATCH_SHAPE:\n",
        "      print(\"HERE\")\n",
        "      batch.append(first_sample) \n",
        "    non_adv_soft_out = tf.nn.softmax(get_logits(tf.cast(np.array(batch),tf.float32)))\n",
        "    n_non_adv_soft_output = tf.concat([n_non_adv_soft_output,non_adv_soft_out],axis = 0) \n",
        "  non_adv_soft_output = sess.run(n_non_adv_soft_output)"
      ],
      "execution_count": 0,
      "outputs": []
    },
    {
      "cell_type": "code",
      "metadata": {
        "colab_type": "code",
        "outputId": "bb2ad8e6-e927-43d2-b57f-a660441db7e6",
        "id": "sDlhhysqsoos",
        "colab": {
          "base_uri": "https://localhost:8080/",
          "height": 34
        }
      },
      "source": [
        "import math\n",
        "differences = []\n",
        "## Get differences betwen nonadversarial and adversarial examples\n",
        "for i in range(len(adversarial_output)):\n",
        "  difference = 0 \n",
        "  for index in range(len(adversarial_output[i])):\n",
        "    difference += abs(adversarial_output[i][index]- test_malicious_flows[i][index])\n",
        "  differences.append(difference)\n"
      ],
      "execution_count": 0,
      "outputs": [
        {
          "output_type": "stream",
          "text": [
            "17664\n"
          ],
          "name": "stdout"
        }
      ]
    },
    {
      "cell_type": "code",
      "metadata": {
        "id": "aAZWuQhtaQ_K",
        "colab_type": "code",
        "colab": {}
      },
      "source": [
        "true_adv_examples = []\n",
        "true_adv_examples_soft = []\n",
        "true_adv_example_index = []\n",
        "## Get actual true adversarial examples ##\n",
        "for index in range(len(adv_soft_output)):\n",
        "  if adv_soft_output[index][1] > .5 and non_adv_soft_output[index][1] < .5:\n",
        "    true_adv_example_index.append(index)\n",
        "    true_adv_examples.append(adversarial_output[index])\n",
        "    true_adv_examples_soft.append(adv_soft_output[index])\n",
        "    "
      ],
      "execution_count": 0,
      "outputs": []
    },
    {
      "cell_type": "code",
      "metadata": {
        "id": "lH6edIA3D2jr",
        "colab_type": "code",
        "outputId": "df1809c2-96eb-434e-fb65-d2852e2ce495",
        "colab": {
          "base_uri": "https://localhost:8080/",
          "height": 585
        }
      },
      "source": [
        "malicious_data_transformed = data_transformed[:NUM_SAMPLED]\n",
        "benign_data_transformed = data_transformed[NUM_SAMPLED:NUM_SAMPLED+NUM_SAMPLED]\n",
        "adv_example = data_transformed[NUM_SAMPLED+NUM_SAMPLED:NUM_SAMPLED+NUM_SAMPLED+1]\n",
        "non_adv_example = data_transformed[NUM_SAMPLED+NUM_SAMPLED+1:]\n",
        "\n",
        "BENIGN = {0: [x[0] for x in benign_data_transformed],\n",
        "          1: [x[1] for x in benign_data_transformed],\n",
        "         2: [x[2] for x in benign_data_transformed]}\n",
        "\n",
        "MALICIOUS = {0: [x[0] for x in malicious_data_transformed],\n",
        "          1: [x[1] for x in malicious_data_transformed],\n",
        "         2: [x[2] for x in malicious_data_transformed]}\n",
        "\n",
        "ADV_EXAMPLE = {0: [x[0] for x in adv_example],\n",
        "          1: [x[1] for x in adv_example],\n",
        "         2: [x[2] for x in adv_example]}\n",
        "\n",
        "NON_ADV_EXAMPLE = {0: [x[0] for x in non_adv_example],\n",
        "          1: [x[1] for x in non_adv_example],\n",
        "         2: [x[2] for x in non_adv_example]}\n",
        "\n",
        "\n",
        "from mpl_toolkits import mplot3d\n",
        "fig = plt.figure()\n",
        "ax = plt.axes(projection='3d')\n",
        "ax.view_init(30, 60)\n",
        "ax.figure.set_size_inches(10, 9)\n",
        "_ = ax.scatter(ADV_EXAMPLE[0], ADV_EXAMPLE[1],ADV_EXAMPLE[2], marker='o',c='red',s=450, label=\"Adv-Example\",zorder=2)\n",
        "_ = ax.scatter(NON_ADV_EXAMPLE[0], NON_ADV_EXAMPLE[1],NON_ADV_EXAMPLE[2], marker='o',c='green',s=300, label=\"Non-Adv-Example\",zorder=5)\n",
        "_ = ax.scatter(BENIGN[0], BENIGN[1],BENIGN[2], label=\"Benign\",zorder=0)\n",
        "_ = ax.scatter(MALICIOUS[0], MALICIOUS[1],MALICIOUS[2], label=\"Malicious\",zorder=1)\n",
        "_ = fig.suptitle('Scatter Plot of Adversarial Example:\\nUSTC Data TSNE Components', fontsize=20)\n",
        "_ = ax.set_xlabel('TSNE Component 1')\n",
        "_ = ax.set_ylabel('TSNE Component 2')\n",
        "_ = ax.set_zlabel('TSNE Component 3')\n",
        "ax.yaxis.label.set_size(14)\n",
        "ax.xaxis.label.set_size(14)\n",
        "ax.zaxis.label.set_size(14)\n",
        "_ = fig.legend(loc='right',fontsize=16)\n",
        "\n",
        "fig.savefig(\"./Figures/USTC-adv-example\"+NOISE_TYPE+\"-\"+SCALE_STRING+\".pdf\", bbox_inches='tight')"
      ],
      "execution_count": 0,
      "outputs": [
        {
          "output_type": "display_data",
          "data": {
            "image/png": "[encoded data removed]",
            "text/plain": [
              "<Figure size 720x648 with 1 Axes>"
            ]
          },
          "metadata": {
            "tags": []
          }
        }
      ]
    },
    {
      "cell_type": "code",
      "metadata": {
        "id": "oPI30oZUD-mU",
        "colab_type": "code",
        "colab": {}
      },
      "source": [
        "# Hoeffding's inequality\n",
        "# https://en.wikipedia.org/wiki/Hoeffding%27s_inequality\n",
        "def hoeffding_bound(nobs, alpha, bonferroni_hyp_n=1):\n",
        "    return math.sqrt(math.log(bonferroni_hyp_n/alpha) / (2*nobs))\n",
        "def hoeffding_upper_bound(tot_sum, nobs, alpha, bonferroni_hyp_n=1):\n",
        "    bound = hoeffding_bound(nobs, alpha, bonferroni_hyp_n)\n",
        "    return tot_sum / nobs + bound\n",
        "def hoeffding_lower_bound(tot_sum, nobs, alpha, bonferroni_hyp_n=1):\n",
        "    bound = hoeffding_bound(nobs, alpha, bonferroni_hyp_n)\n",
        "    return tot_sum / nobs - bound"
      ],
      "execution_count": 0,
      "outputs": []
    },
    {
      "cell_type": "code",
      "metadata": {
        "id": "KH_W6Tt8D_vO",
        "colab_type": "code",
        "colab": {}
      },
      "source": [
        "### Taken from https://github.com/columbia/pixeldp##\n",
        "def _guaussian_mech_mult(delta):\n",
        "    return math.sqrt(2 * math.log(1.25 / delta))\n",
        "\n",
        "def _gaussian_robustness_size(p_max_lb, p_sec_ub, attack_size, dp_epsilon, dp_delta):\n",
        "    if p_max_lb <= p_sec_ub:\n",
        "        # we're not even robust to the measurement error...\n",
        "        return 0.0\n",
        "\n",
        "    max_r = 0.0\n",
        "    max_r_eps  = None\n",
        "    max_r_delt = None\n",
        "    delta_range = list(np.arange(0.001, 0.3, 0.001))\n",
        "    #  epsilon_range = list(np.arange(0.1, 1.00000001, 0.001))  # we want 1 included\n",
        "    for delta in delta_range:\n",
        "        eps_min, eps_max, eps = (0.0, 1.0, 0.5)\n",
        "        while eps_min < eps and eps_max >= eps:\n",
        "        #  for eps in epsilon_range:\n",
        "            l = attack_size *  \\\n",
        "                (eps / dp_epsilon) *  \\\n",
        "                (_guaussian_mech_mult(dp_delta) / _guaussian_mech_mult(delta))\n",
        "            if p_max_lb >= math.e ** (2 * eps) * p_sec_ub + (1 + math.e ** eps) * delta:\n",
        "                if l > max_r:\n",
        "                    max_r = l\n",
        "                    max_r_eps = eps\n",
        "                    max_r_delt = delta\n",
        "                # best eps for this delta may be bigger\n",
        "                eps_min = eps\n",
        "                eps = (eps_min + eps_max) / 2.0\n",
        "            else:\n",
        "                # eps is too big for delta\n",
        "                eps_max = eps\n",
        "                eps = (eps_min + eps_max) / 2.0\n",
        "\n",
        "            if eps_max - eps_min < 0.001:\n",
        "                break\n",
        "\n",
        "    return max_r"
      ],
      "execution_count": 0,
      "outputs": []
    },
    {
      "cell_type": "code",
      "metadata": {
        "id": "V0kwegRUEBjP",
        "colab_type": "code",
        "colab": {}
      },
      "source": [
        "def _laplace_robustness_size(p_max_lb, p_sec_ub, attack_size, dp_epsilon):\n",
        "    if p_max_lb <= p_sec_ub:\n",
        "        # we're not even robust to the measurement error...\n",
        "        return 0.0\n",
        "\n",
        "    return attack_size * math.log(p_max_lb/p_sec_ub) / (2 * dp_epsilon)"
      ],
      "execution_count": 0,
      "outputs": []
    },
    {
      "cell_type": "code",
      "metadata": {
        "id": "RQycjii2ECs4",
        "colab_type": "code",
        "colab": {}
      },
      "source": [
        "def robustness_size_softmax(softmax_sums,counts):\n",
        "  n = sum(counts)\n",
        "  if n == 1:\n",
        "    return 0\n",
        "  hyp_n = len(counts)\n",
        "  num_labels = len(counts)\n",
        "  i2, i1 = np.argsort(softmax_sums)[-2:]\n",
        "  p_max_lb = hoeffding_lower_bound(softmax_sums[i1], n, eta, bonferroni_hyp_n=hyp_n)\n",
        "  p_sec_ub =  hoeffding_upper_bound(softmax_sums[i2], n, eta, bonferroni_hyp_n=hyp_n)\n",
        "  if NOISE_TYPE == 'laplace':\n",
        "    return _laplace_robustness_size(p_max_lb, p_sec_ub, SCALE, EPSILON)\n",
        "  elif NOISE_TYPE == 'gaussian':\n",
        "    return _gaussian_robustness_size(p_max_lb, p_sec_ub, SCALE, EPSILON, DELTA_DP)"
      ],
      "execution_count": 0,
      "outputs": []
    },
    {
      "cell_type": "code",
      "metadata": {
        "id": "D6EkliGxEDpB",
        "colab_type": "code",
        "colab": {}
      },
      "source": [
        "## Make a prediction based on input samples\n",
        "def predict(sess,samples):\n",
        "  num_predict = len(samples)\n",
        "  first_sample = samples[0]\n",
        "  if num_predict % BATCH_SHAPE != 0:\n",
        "    for i in range(BATCH_SHAPE-(num_predict % BATCH_SHAPE)):\n",
        "      samples.append(first_sample)\n",
        "  batch = samples[:BATCH_SHAPE]\n",
        "  predictions = tf.nn.softmax(get_logits(tf.cast(np.array(batch),tf.float32)))\n",
        "  for batch_num in range(1,int(len(samples)/BATCH_SHAPE)):\n",
        "    batch = samples[batch_num*BATCH_SHAPE:batch_num*BATCH_SHAPE+BATCH_SHAPE]\n",
        "    output = tf.nn.softmax(get_logits(tf.cast(np.array(batch),tf.float32)))\n",
        "    predictions  = tf.concat([predictions, output],axis = 0)\n",
        "  prediction_output = sess.run(predictions)\n",
        "  return prediction_output[:num_predict]"
      ],
      "execution_count": 0,
      "outputs": []
    },
    {
      "cell_type": "code",
      "metadata": {
        "id": "NZ7GvF5OEFib",
        "colab_type": "code",
        "colab": {}
      },
      "source": [
        "### Perform test for the malicious flow ##\n",
        "from operator import add\n",
        "TRAIN = False\n",
        "softmax_total = [[0.0,]*NUM_CLASS]*len(test_malicious_flows)\n",
        "counts = [[0,]*NUM_CLASS]*len(test_malicious_flows)\n",
        "ITERATIONS = 40\n",
        "session = tf.Session()\n",
        "session.run(tf.global_variables_initializer())\n",
        "with session as sess: \n",
        "  second_saver.restore(sess, './DP-GRAPHS/' + FOLDER+ '/CNN_2_'+SCALE_STRING+'.ckpt')\n",
        "  for i in range(ITERATIONS):\n",
        "    outputs = predict(session,test_malicious_flows)\n",
        "    for index in range(len(outputs)): \n",
        "      softmax_total[index] = list( map(add, softmax_total[index], outputs[index]))\n",
        "      answer = np.argmax(outputs[index])\n",
        "      add_list = [0]*NUM_CLASS\n",
        "      add_list[answer]+=1\n",
        "      counts[index] = list( map(add, counts[index], add_list))"
      ],
      "execution_count": 0,
      "outputs": []
    },
    {
      "cell_type": "code",
      "metadata": {
        "id": "ZEb9RcKIEI1q",
        "colab_type": "code",
        "colab": {}
      },
      "source": [
        "eta = .95\n",
        "robustness = []\n",
        "for i in range(len(softmax_total)):\n",
        "  robustness.append(robustness_size_softmax(softmax_total[i],counts[i]))"
      ],
      "execution_count": 0,
      "outputs": []
    },
    {
      "cell_type": "code",
      "metadata": {
        "id": "Oa0S2iKlRuD1",
        "colab_type": "code",
        "colab": {}
      },
      "source": [
        "true_robustness = []\n",
        "## Get robustness of correctly predicted examples ##\n",
        "for index in range(len(robustness)):\n",
        "  if counts[index][0] > counts[index][1]:\n",
        "    true_robustness.append(robustness[index])"
      ],
      "execution_count": 0,
      "outputs": []
    },
    {
      "cell_type": "code",
      "metadata": {
        "id": "yrLAu3c4UB-q",
        "colab_type": "code",
        "colab": {}
      },
      "source": [
        "import matplotlib\n",
        "import numpy as np\n",
        "import matplotlib.pyplot as plt\n",
        "\n",
        "fig = plt.figure(figsize=(12,12))\n",
        "ax = fig.add_subplot(111)\n",
        "n, bins, patches = ax.hist(true_robustness, 10)\n",
        "ax.set_xlabel('Minimum L1 Change')\n",
        "ax.set_ylabel('Number of Test Malicious Flows')\n",
        "ax.set_title('Robustness to Adversarial Examples \\n After '+ str(ITERATIONS) +' Predictions With Failure Probailiy =' + str(0.05),fontsize=18)\n",
        "ax.yaxis.label.set_size(16)\n",
        "ax.xaxis.label.set_size(16)\n",
        "fig.savefig(\"./Figures/Robustness\"+str(ITERATIONS)+\"-\"+FOLDER+SCALE_STRING+\".pdf\", bbox_inches='tight')\n"
      ],
      "execution_count": 0,
      "outputs": []
    }
  ]
}