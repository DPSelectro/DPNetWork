{
  "nbformat": 4,
  "nbformat_minor": 0,
  "metadata": {
    "colab": {
      "name": "DPNetwork-Simple-Train-Tree-USTC2.ipynb",
      "version": "0.3.2",
      "provenance": [],
      "collapsed_sections": [],
      "machine_shape": "hm"
    },
    "kernelspec": {
      "name": "python3",
      "display_name": "Python 3"
    },
    "accelerator": "GPU"
  },
  "cells": [
    {
      "cell_type": "code",
      "metadata": {
        "id": "n5MmQUDyBdcl",
        "colab_type": "code",
        "colab": {}
      },
      "source": [
        "## Creates a tree like structure to first classify flows as either benignn or malicious \n",
        "## Then determines from which family of malware that the flow comes from. This model takes\n",
        "## into account the metadata of the flow as well as the timings of packets, directions of \n",
        "## of packets, and the sequence of packet sizes. This model makes use of 4-layer Convolutional\n",
        "## network with dropout. "
      ],
      "execution_count": 0,
      "outputs": []
    },
    {
      "cell_type": "code",
      "metadata": {
        "id": "DSrfHgeyCtoB",
        "colab_type": "code",
        "colab": {}
      },
      "source": [
        "import numpy as np\n",
        "import tensorflow as tf\n",
        "import six \n",
        "import math\n",
        "from tensorflow.python.training import moving_averages \n",
        "import pickle\n",
        "import tensorflow.keras.backend as K\n",
        "from sklearn.preprocessing import normalize\n",
        "import tensorflow_probability as tfp\n",
        "CONT_FEATURE_SIZE = 158\n",
        "FINE_METADATA_SIZE = 158+512"
      ],
      "execution_count": 0,
      "outputs": []
    },
    {
      "cell_type": "code",
      "metadata": {
        "id": "Jin2l6UEC6Bt",
        "colab_type": "code",
        "colab": {}
      },
      "source": [
        "def dense_logits_layer(model,input_size, output_size, drop_rate, name,train=True):\n",
        "  \"\"\"Fully-connected-ReLU-Batch Normalization-Dropout layer.\"\"\"\n",
        "  dense = tf.get_variable(\"weight\"+str(name),initializer =tf.random_normal(stddev=0.1, shape =[input_size,output_size]),trainable=train) \n",
        "  bias =  tf.get_variable(\"bias\"+str(name),initializer =tf.random_normal(stddev=0.1, shape =[output_size]),trainable=train) \n",
        "\n",
        "  model = tf.matmul(tf.cast(model,tf.float32), dense) + bias\n",
        "  return model"
      ],
      "execution_count": 0,
      "outputs": []
    },
    {
      "cell_type": "code",
      "metadata": {
        "id": "Io561a0eHVQm",
        "colab_type": "code",
        "colab": {}
      },
      "source": [
        "def dense_relu_layer(model,input_size, output_size, drop_rate, name,train=True):\n",
        "  \"\"\"Fully-connected-ReLU-Batch Normalization-Dropout layer.\"\"\"\n",
        "  dense = tf.get_variable(\"weight\"+str(name),initializer =tf.random_normal(stddev=0.1, shape =[input_size,output_size]),trainable=train) \n",
        "  bias =  tf.get_variable(\"bias\"+str(name),initializer =tf.random_normal(stddev=0.1, shape =[output_size]),trainable=train) \n",
        "\n",
        "  model =  tf.nn.relu(tf.matmul(tf.cast(model,tf.float32), dense) + bias)\n",
        "  model = tf.layers.batch_normalization(model)\n",
        "  model = tf.nn.dropout(x=model,rate=drop_rate)\n",
        "  return model"
      ],
      "execution_count": 0,
      "outputs": []
    },
    {
      "cell_type": "code",
      "metadata": {
        "id": "ocdjPpY-DHFe",
        "colab_type": "code",
        "colab": {}
      },
      "source": [
        "## Get logits for metadata information after projecting to a given size embedding space\n",
        "def get_logits_meta(x,input_shape,model_scope, name):\n",
        "  with  tf.variable_scope(model_scope,reuse=tf.AUTO_REUSE):\n",
        "    with  tf.device('/device:GPU:0'):\n",
        "      W_dense4_class = tf.get_variable(name+\"dense4_sec\",initializer =tf.random_normal(stddev=0.1, shape =[input_shape,784] ))\n",
        "      b_dense4_class = tf.get_variable(name+\"bias4_sec\",initializer =tf.random_normal(stddev=0.1,shape=[784]))\n",
        "      h_fc4_class = tf.nn.relu(tf.matmul(tf.cast(x,tf.float32), W_dense4_class) + b_dense4_class)\n",
        "\n",
        "      reshape_1_class = tf.reshape(h_fc4_class,[BATCH_SHAPE,28,28,1])\n",
        "      conv2d_1_weight = tf.get_variable(name+\"conv2d_1_dense\",initializer =tf.random_normal(stddev=0.1, shape =[5, 5, 1, 32]))\n",
        "      conv2d_1_bias = tf.get_variable(name+\"conv2d_1_bias\",initializer =tf.random_normal(stddev=0.1, shape= [32]))\n",
        "      conv2d_1_class = tf.nn.relu(tf.nn.bias_add(tf.nn.conv2d(reshape_1_class,\n",
        "                                                  conv2d_1_weight,\n",
        "                                                  strides =[1,1,1,1],\n",
        "                                                  padding='SAME'),\n",
        "                                      conv2d_1_bias))\n",
        "\n",
        "      maxpool2d_1_class = tf.nn.max_pool(conv2d_1_class,\n",
        "                                       ksize=[1, 2, 2, 1], \n",
        "                                       strides=[1, 2, 2, 1],\n",
        "                                padding='SAME')\n",
        "      conv2d_2_weight = tf.get_variable(name+\"conv2d_2_dense\",initializer =tf.random_normal(stddev=0.1, shape =[5, 5, 32, 64]))\n",
        "      conv2d_2_bias = tf.get_variable(name+\"conv2d_2_bias\",initializer =tf.random_normal(stddev=0.1, shape=[64]))\n",
        "      conv2d_2_class = tf.nn.relu(tf.nn.bias_add(tf.nn.conv2d(maxpool2d_1_class,\n",
        "                                                  conv2d_2_weight,\n",
        "                                                  strides =[1,1,1,1],\n",
        "                                                  padding='SAME'),\n",
        "                                      conv2d_2_bias))\n",
        "\n",
        "      maxpool2d_2_class = tf.nn.max_pool(conv2d_2_class,\n",
        "                                       ksize=[1, 2, 2, 1], \n",
        "                                       strides=[1, 2, 2, 1],\n",
        "                                padding='SAME')\n",
        "\n",
        "      reshape_2_class = tf.reshape(maxpool2d_2_class,[BATCH_SHAPE,-1])\n",
        "      W_dense5_class = tf.get_variable(name+\"dense5_sec\",initializer =tf.random_normal(stddev=0.1,shape=[7*7*64,1024]))\n",
        "      b_dense5_class = tf.get_variable(name+\"bias5_sec\",initializer =tf.random_normal(stddev=0.1,shape=[1024]))\n",
        "      out_final_logits = tf.nn.bias_add(tf.matmul(reshape_2_class, W_dense5_class),b_dense5_class)\n",
        "      return out_final_logits"
      ],
      "execution_count": 0,
      "outputs": []
    },
    {
      "cell_type": "markdown",
      "metadata": {
        "id": "qhdJbLuhonUX",
        "colab_type": "text"
      },
      "source": [
        ""
      ]
    },
    {
      "cell_type": "code",
      "metadata": {
        "id": "c9WG7G02tjMn",
        "colab_type": "code",
        "colab": {}
      },
      "source": [
        "## Get logits for metadata information after projecting to 784 size embedding space\n",
        "## for separating out different types of malicious trafficdef get_conv_fine_logits(x,y,return_embedding=False):\n",
        "  with  tf.variable_scope(\"time_model\",reuse=tf.AUTO_REUSE):\n",
        "    with  tf.device('/device:GPU:0'):\n",
        "      inp = tf.concat([x,y],axis=1)\n",
        "      W_dense4_class = tf.get_variable(\"dense4_sec\",initializer =tf.random_normal(stddev=0.1, shape =[158+512,784] ))\n",
        "      b_dense4_class = tf.get_variable(\"bias4_sec\",initializer =tf.random_normal(stddev=0.1,shape=[784]))\n",
        "      h_fc4_class = tf.nn.relu(tf.matmul(tf.cast(inp,tf.float32), W_dense4_class) + b_dense4_class)\n",
        "\n",
        "      reshape_1_class = tf.reshape(h_fc4_class,[BATCH_SHAPE,28,28,1])\n",
        "      conv2d_1_weight = tf.get_variable(\"conv2d_1_dense\",initializer =tf.random_normal(stddev=0.1, shape =[5, 5, 1, 32]))\n",
        "      conv2d_1_bias = tf.get_variable(\"conv2d_1_bias\",initializer =tf.random_normal(stddev=0.1, shape= [32]))\n",
        "      conv2d_1_class = tf.nn.relu(tf.nn.bias_add(tf.nn.conv2d(reshape_1_class,\n",
        "                                                  conv2d_1_weight,\n",
        "                                                  strides =[1,1,1,1],\n",
        "                                                  padding='SAME'),\n",
        "                                      conv2d_1_bias))\n",
        "\n",
        "      maxpool2d_1_class = tf.nn.max_pool(conv2d_1_class,\n",
        "                                       ksize=[1, 2, 2, 1], \n",
        "                                       strides=[1, 2, 2, 1],\n",
        "                                padding='SAME')\n",
        "      conv2d_2_weight = tf.get_variable(\"conv2d_2_dense\",initializer =tf.random_normal(stddev=0.1, shape =[5, 5, 32, 64]))\n",
        "      conv2d_2_bias = tf.get_variable(\"conv2d_2_bias\",initializer =tf.random_normal(stddev=0.1, shape=[64]))\n",
        "      conv2d_2_class = tf.nn.relu(tf.nn.bias_add(tf.nn.conv2d(maxpool2d_1_class,\n",
        "                                                  conv2d_2_weight,\n",
        "                                                  strides =[1,1,1,1],\n",
        "                                                  padding='SAME'),\n",
        "                                      conv2d_2_bias))\n",
        "\n",
        "      maxpool2d_2_class = tf.nn.max_pool(conv2d_2_class,\n",
        "                                       ksize=[1, 2, 2, 1], \n",
        "                                       strides=[1, 2, 2, 1],\n",
        "                                padding='SAME')\n",
        "\n",
        "      reshape_2_class = tf.reshape(maxpool2d_2_class,[BATCH_SHAPE,-1])\n",
        "      drop_one = tf.nn.dropout(reshape_2_class,rate=0.2)\n",
        "      W_dense5_class = tf.get_variable(\"dense5_sec\",initializer =tf.random_normal(stddev=0.1,shape=[7*7*64,1024]))\n",
        "      b_dense5_class = tf.get_variable(\"bias5_sec\",initializer =tf.random_normal(stddev=0.1,shape=[1024]))\n",
        "      h_fc5_logit = tf.nn.bias_add(tf.matmul(drop_one, W_dense5_class),b_dense5_class)\n",
        "      h_fc5_class = tf.nn.relu(h_fc5_logit)\n",
        "      drop_two = tf.nn.dropout(h_fc5_class,rate=0.4)\n",
        "\n",
        "      out_weight_class =  tf.get_variable(\"out_dense_sec\",initializer =tf.random_normal(stddev=0.1,shape=[1024, 10]))\n",
        "      out_bias_class =  tf.get_variable(\"out_bias_sec\",initializer =tf.random_normal(stddev=0.1,shape = [10]))\n",
        "      out_final_logits = tf.nn.bias_add(tf.matmul(drop_two,out_weight_class),out_bias_class)\n",
        "      if return_embedding == True:\n",
        "        return h_fc5_logit\n",
        "      return out_final_logits"
      ],
      "execution_count": 0,
      "outputs": []
    },
    {
      "cell_type": "code",
      "metadata": {
        "id": "VQigKq1UsDeI",
        "colab_type": "code",
        "colab": {}
      },
      "source": [
        "tf.reset_default_graph()"
      ],
      "execution_count": 0,
      "outputs": []
    },
    {
      "cell_type": "code",
      "metadata": {
        "id": "EjF3wolyavQg",
        "colab_type": "code",
        "colab": {}
      },
      "source": [
        "## Define input placeholders for the simple model \n",
        "with tf.device('/device:GPU:0'):\n",
        "  NOISE = img_dp_noise(int(CONT_FEATURE_SIZE/2))\n",
        "  ## Define the auto encoder without keras \n",
        "  x_ = tf.placeholder(tf.float32,shape= [BATCH_SHAPE,CONT_FEATURE_SIZE])\n",
        "  y_ =tf.placeholder(tf.float32,shape= [BATCH_SHAPE,CONT_FEATURE_SIZE])\n",
        "  \n",
        "  x2_ =tf.placeholder(tf.float32,shape= [BATCH_SHAPE,AUTO_ENCODER_OUT_SHAPE])\n",
        "  y2_ =tf.placeholder(tf.float32,shape= [BATCH_SHAPE,2])\n",
        "  y3_ =tf.placeholder(tf.float32,shape= [BATCH_SHAPE,10])"
      ],
      "execution_count": 0,
      "outputs": []
    },
    {
      "cell_type": "code",
      "metadata": {
        "id": "FXp_eXV3DJ-_",
        "colab_type": "code",
        "colab": {}
      },
      "source": [
        "FINE_METADATA_SIZE = 1024+158\n",
        "## Define input to the model\n",
        "with tf.device('/device:GPU:0'):\n",
        "  meta_x_ = tf.placeholder(tf.float32,shape= [BATCH_SHAPE,METADATA_SIZE])\n",
        "  fine_meta_x_ = tf.placeholder(tf.float32,shape= [BATCH_SHAPE,FINE_METADATA_SIZE])\n",
        "  binary_y_ = tf.placeholder(tf.float32,shape= [BATCH_SHAPE,2])\n",
        "  fine_y_ = tf.placeholder(tf.float32,shape= [BATCH_SHAPE,10])\n",
        "  "
      ],
      "execution_count": 0,
      "outputs": []
    },
    {
      "cell_type": "code",
      "metadata": {
        "id": "kBbCSdqOFsOQ",
        "colab_type": "code",
        "colab": {}
      },
      "source": [
        "## Output of binary logits \n",
        "def get_binary_logits(meta_x,name,train=True, get_embedding= False):\n",
        "  logits = get_logits_meta(meta_x,158,name =name ,train=True)\n",
        "  second_combined_logits = dense_relu_layer(logits,1024, 512, 0.0,name= name+ \"second_logits_layer\",train=train)\n",
        "  combined_logits_output = dense_logits_layer(second_combined_logits, 512, 2, 0.5, name=name+ \"final_binary_out\",train=train)\n",
        "  if get_embedding == True:\n",
        "    return second_combined_logits\n",
        "  return combined_logits_output"
      ],
      "execution_count": 0,
      "outputs": []
    },
    {
      "cell_type": "code",
      "metadata": {
        "id": "PicVaKU0Qs0F",
        "colab_type": "code",
        "colab": {}
      },
      "source": [
        "learning_rate = tf.placeholder(tf.float32, shape=[])"
      ],
      "execution_count": 0,
      "outputs": []
    },
    {
      "cell_type": "code",
      "metadata": {
        "id": "OSvmD0yOaFcc",
        "colab_type": "code",
        "colab": {}
      },
      "source": [
        "## First branch logits that separates malicious and benign flows\n",
        "with tf.device('/device:GPU:0'):\n",
        "  with  tf.variable_scope(\"branch_1\",reuse=tf.AUTO_REUSE):\n",
        "    binary_logits = get_binary_logits(meta_x_,name='branch1',train=True)\n",
        "    binary_cross_entropy = tf.reduce_mean(tf.nn.softmax_cross_entropy_with_logits_v2(name=\"first_softmax\",labels=binary_y_, logits=binary_logits))\n",
        "    binary_class_train_step = tf.train.AdamOptimizer(learning_rate=learning_rate,name=\"binary-adam-encoder\").minimize(binary_cross_entropy)\n",
        "    binary_correct_prediction = tf.equal(tf.argmax(get_binary_logits(meta_x_,name='branch1'), 1), tf.argmax(binary_y_, 1))\n",
        "    binary_accuracy = tf.reduce_mean(tf.cast(binary_correct_prediction, tf.float32))"
      ],
      "execution_count": 0,
      "outputs": []
    },
    {
      "cell_type": "code",
      "metadata": {
        "id": "z_xAKdxiXff5",
        "colab_type": "code",
        "colab": {}
      },
      "source": [
        "## Second branch of the network that outputs the type of malware\n",
        "def get_fine_mal_logits(meta_x):\n",
        "  embedding = get_binary_logits(meta_x_,name='branch2',train=False, get_embedding = True)\n",
        "  fine_combined_logits_output = get_conv_fine_logits(embedding,meta_x)\n",
        "  return fine_combined_logits_output"
      ],
      "execution_count": 0,
      "outputs": []
    },
    {
      "cell_type": "code",
      "metadata": {
        "id": "i57X1vCCN9Ji",
        "colab_type": "code",
        "colab": {}
      },
      "source": [
        "#  tf.reset_default_graph()"
      ],
      "execution_count": 0,
      "outputs": []
    },
    {
      "cell_type": "code",
      "metadata": {
        "id": "Vg13bXTOZMQP",
        "colab_type": "code",
        "colab": {}
      },
      "source": [
        "first_saver = tf.train.Saver()"
      ],
      "execution_count": 0,
      "outputs": []
    },
    {
      "cell_type": "code",
      "metadata": {
        "id": "JE2doz5-ZP6V",
        "colab_type": "code",
        "colab": {}
      },
      "source": [
        "## Second branch logits that separates different types of malicious flows\n",
        "with tf.device('/device:GPU:0'):\n",
        "  with  tf.variable_scope(\"branch_1\",reuse=tf.AUTO_REUSE):\n",
        "    fine_logits = get_fine_mal_logits(meta_x_)\n",
        "    fine_cross_entropy = tf.reduce_mean(tf.nn.softmax_cross_entropy_with_logits_v2(name=\"second_softmax\",labels=fine_y_, logits=fine_logits))\n",
        "    fine_class_train_step = tf.train.AdamOptimizer(learning_rate=learning_rate,name=\"fine-adam-encoder\").minimize(fine_cross_entropy)\n",
        "    fine_correct_prediction = tf.equal(tf.argmax(fine_logits, 1), tf.argmax(fine_y_, 1))\n",
        "    fine_accuracy = tf.reduce_mean(tf.cast(fine_correct_prediction, tf.float32))"
      ],
      "execution_count": 0,
      "outputs": []
    },
    {
      "cell_type": "code",
      "metadata": {
        "id": "pVGNkf7BZP9I",
        "colab_type": "code",
        "colab": {}
      },
      "source": [
        "second_saver = tf.train.Saver()"
      ],
      "execution_count": 0,
      "outputs": []
    },
    {
      "cell_type": "code",
      "metadata": {
        "id": "svAK5NDuP3-4",
        "colab_type": "code",
        "outputId": "9032c0d1-48bf-450a-c0a1-fcae8ff0f0c8",
        "colab": {
          "base_uri": "https://localhost:8080/",
          "height": 50
        }
      },
      "source": [
        "config = tf.ConfigProto(allow_soft_placement=True)\n",
        "config.gpu_options.allow_growth = True\n",
        "print(\"GPU Available: \", tf.test.is_gpu_available())\n",
        "device_name = tf.test.gpu_device_name()\n",
        "if device_name != '/device:GPU:0':\n",
        "  raise SystemError('GPU device not found')\n",
        "print('Found GPU at: {}'.format(device_name))"
      ],
      "execution_count": 0,
      "outputs": [
        {
          "output_type": "stream",
          "text": [
            "GPU Available:  True\n",
            "Found GPU at: /device:GPU:0\n"
          ],
          "name": "stdout"
        }
      ]
    },
    {
      "cell_type": "code",
      "metadata": {
        "id": "Ozg1JRXIQJMB",
        "colab_type": "code",
        "colab": {}
      },
      "source": [
        "import numpy as np\n",
        "## Load in model data\n",
        "with open('./embedding/CNN_FULL/USTC_prn_mal_meta_train', 'rb') as fp:\n",
        "  mal_train_meta_X = pickle.load(fp)\n",
        "  fp.close()\n",
        "  \n",
        "with open('./embedding/CNN_FULL/USTC_prn_mal_meta_valid', 'rb') as fp:\n",
        "  mal_valid_meta_X = pickle.load(fp)\n",
        "  fp.close()\n",
        "  \n",
        "with open('./embedding/CNN_FULL/USTC_prn_mal_size_train', 'rb') as fp:\n",
        "  mal_train_size_X = pickle.load(fp)\n",
        "  fp.close()\n",
        "  \n",
        "with open('./embedding/CNN_FULL/USTC_prn_mal_size_valid', 'rb') as fp:\n",
        "  mal_valid_size_X = pickle.load(fp)\n",
        "  fp.close()\n",
        "  \n",
        "with open('./embedding/CNN_FULL/USTC_prn_mal_time_train', 'rb') as fp:\n",
        "  mal_train_time_X = pickle.load(fp)\n",
        "  fp.close()\n",
        "  \n",
        "with open('./embedding/CNN_FULL/USTC_prn_mal_time_valid', 'rb') as fp:\n",
        "  mal_valid_time_X = pickle.load(fp)\n",
        "  fp.close()\n",
        "  \n",
        "with open('./embedding/CNN_FULL/USTC_prn_mal_dir_train', 'rb') as fp:\n",
        "  mal_train_dir_X = pickle.load(fp)\n",
        "  fp.close()\n",
        "  \n",
        "with open('./embedding/CNN_FULL/USTC_prn_mal_dir_valid', 'rb') as fp:\n",
        "  mal_valid_dir_X = pickle.load(fp)\n",
        "  fp.close()\n",
        "  \n",
        "with open('./embedding/CNN_FULL/USTC_prn_mal_meta_train_labels', 'rb') as fp:\n",
        "  mal_train_labels = pickle.load(fp)\n",
        "  fp.close()\n",
        "  \n",
        "with open('./embedding/CNN_FULL/USTC_prn_mal_meta_valid_labels', 'rb') as fp:\n",
        "  mal_valid_labels = pickle.load(fp) \n",
        "  fp.close()\n",
        "  \n",
        "\n",
        "with open('./embedding/CNN_FULL/USTC_prn_benign_meta_train', 'rb') as fp:\n",
        "  benign_train_meta_X = pickle.load(fp)\n",
        "  fp.close()\n",
        "  \n",
        "with open('./embedding/CNN_FULL/USTC_prn_benign_meta_valid', 'rb') as fp:\n",
        "  benign_valid_meta_X  = pickle.load(fp)\n",
        "  fp.close()\n",
        "  \n",
        "with open('./embedding/CNN_FULL/USTC_prn_benign_size_train', 'rb') as fp:\n",
        "  benign_train_size_X = pickle.load(fp)\n",
        "  fp.close()\n",
        "  \n",
        "with open('./embedding/CNN_FULL/USTC_prn_benign_size_valid', 'rb') as fp:\n",
        "  benign_valid_size_X = pickle.load(fp)\n",
        "  fp.close()\n",
        "  \n",
        "with open('./embedding/CNN_FULL/USTC_prn_benign_dir_train', 'rb') as fp:\n",
        "  benign_train_dir_X = pickle.load(fp)\n",
        "  fp.close()\n",
        "  \n",
        "with open('./embedding/CNN_FULL/USTC_prn_benign_dir_valid', 'rb') as fp:\n",
        "  benign_valid_dir_X = pickle.load(fp)\n",
        "  fp.close()\n",
        "\n",
        "with open('./embedding/CNN_FULL/USTC_prn_benign_time_train', 'rb') as fp:\n",
        "  benign_train_time_X = pickle.load(fp)\n",
        "  fp.close()\n",
        "  \n",
        "with open('./embedding/CNN_FULL/USTC_prn_benign_time_valid', 'rb') as fp:\n",
        "  benign_valid_time_X = pickle.load(fp)\n",
        "  fp.close()"
      ],
      "execution_count": 0,
      "outputs": []
    },
    {
      "cell_type": "code",
      "metadata": {
        "id": "x379KCdkQXQe",
        "colab_type": "code",
        "colab": {}
      },
      "source": [
        "train_labels = [[0,1]]*len(benign_train_meta_X) +[[1,0]]*len(mal_train_meta_X)\n",
        "valid_labels = [[0,1]]*len(benign_valid_meta_X) +[[1,0]]*len(mal_valid_meta_X)"
      ],
      "execution_count": 0,
      "outputs": []
    },
    {
      "cell_type": "code",
      "metadata": {
        "id": "73dG3f8vQQEF",
        "colab_type": "code",
        "colab": {}
      },
      "source": [
        "import copy\n",
        "import numpy as np\n",
        "## Randomize data \n",
        "c = list(zip(mal_train_meta_X,mal_train_size_X,mal_train_time_X,mal_train_dir_X,mal_train_labels))\n",
        "np.random.shuffle(c)\n",
        "mal_train_meta_X,mal_train_size_X,mal_train_time_X,mal_train_dir_X, mal_train_labels = zip(*c)\n",
        "mal_train_meta_X = mal_train_meta_X[:329728]\n",
        "mal_train_size_X = mal_train_size_X[:329728]\n",
        "mal_train_time_X = mal_train_time_X[:329728]\n",
        "mal_train_dir_X = mal_train_dir_X[:329728]\n",
        "mal_train_labels = mal_train_labels[:329728]\n",
        "\n",
        "\n",
        "c = list(zip(mal_valid_meta_X,mal_valid_size_X,mal_valid_time_X,mal_valid_dir_X,mal_valid_labels))\n",
        "np.random.shuffle(c)\n",
        "mal_valid_meta_X,mal_valid_size_X,mal_valid_time_X,mal_valid_dir_X, mal_valid_labels = zip(*c)\n",
        "mal_valid_meta_X = mal_valid_meta_X[:17664]\n",
        "mal_valid_size_X = mal_valid_size_X[:17664]\n",
        "mal_valid_time_X = mal_valid_time_X[:17664]\n",
        "mal_valid_dir_X = mal_valid_dir_X[:17664]\n",
        "mal_valid_labels = mal_valid_labels[:17664]\n",
        "\n",
        "\n",
        "benign_train_meta_X = benign_train_meta_X[:319360]\n",
        "benign_train_size_X = benign_train_size_X[:319360]\n",
        "benign_train_time_X = benign_train_time_X[:319360]\n",
        "benign_train_dir_X = benign_train_dir_X[:319360]\n",
        "\n",
        "\n",
        "benign_valid_meta_X = benign_valid_meta_X[:35456]\n",
        "benign_valid_size_X = benign_valid_size_X[:35456]\n",
        "benign_valid_time_X = benign_valid_time_X[:35456]\n",
        "benign_valid_dir_X = benign_valid_dir_X[:35456]\n"
      ],
      "execution_count": 0,
      "outputs": []
    },
    {
      "cell_type": "code",
      "metadata": {
        "id": "um24NjVyQfHm",
        "colab_type": "code",
        "colab": {}
      },
      "source": [
        "train_meta_X = np.concatenate([benign_train_meta_X,mal_train_meta_X])\n",
        "train_size_X = np.concatenate([benign_train_size_X,mal_train_size_X])\n",
        "train_time_X = np.concatenate([benign_train_time_X,mal_train_time_X])\n",
        "train_dir_X = np.concatenate([benign_train_dir_X,mal_train_dir_X])\n",
        "\n",
        "c = list(zip(train_meta_X,train_size_X,train_time_X,train_dir_X,train_labels))\n",
        "np.random.shuffle(c)\n",
        "train_meta_X,train_size_X,train_time_X,train_dir_X,train_labels = zip(*c)\n",
        "\n",
        "\n",
        "valid_meta_X = np.concatenate([benign_valid_meta_X,mal_valid_meta_X])\n",
        "valid_size_X = np.concatenate([benign_valid_size_X,mal_valid_size_X])\n",
        "valid_time_X = np.concatenate([benign_valid_time_X,mal_valid_time_X])\n",
        "valid_dir_X = np.concatenate([benign_valid_dir_X,mal_valid_dir_X])\n",
        "c = list(zip(valid_meta_X,valid_size_X,valid_time_X,valid_dir_X,valid_labels))\n",
        "np.random.shuffle(c)\n",
        "valid_meta_X,valid_size_X,valid_time_X,valid_dir_X,valid_labels = zip(*c)\n",
        "\n",
        "train_meta_X = np.array(train_meta_X).astype(float)\n",
        "train_size_X = np.array(train_size_X).astype(float)\n",
        "train_time_X = np.array(train_time_X).astype(float)\n",
        "train_dir_X  = np.array(train_dir_X).astype(float)\n",
        "\n",
        "valid_meta_X = np.array(valid_meta_X).astype(float)\n",
        "valid_size_X =np.array(valid_size_X).astype(float)\n",
        "valid_time_X = np.array(valid_time_X).astype(float)\n",
        "valid_dir_X  = np.array(valid_dir_X).astype(float)\n"
      ],
      "execution_count": 0,
      "outputs": []
    },
    {
      "cell_type": "code",
      "metadata": {
        "id": "MbRvyz8_3ewI",
        "colab_type": "code",
        "colab": {}
      },
      "source": [
        "import numpy as np\n",
        "import matplotlib.pyplot as plt\n",
        "from sklearn.metrics import confusion_matrix\n",
        "from sklearn.utils.multiclass import unique_labels\n",
        "\n",
        "def plot_confusion_matrix(y_true, y_pred, classes,title,\n",
        "                          normalize=False,\n",
        "                   \n",
        "                          cmap=plt.cm.Blues):\n",
        "  # Compute confusion matrix\n",
        "  cm = confusion_matrix(y_true, y_pred)\n",
        "  # Only use the labels that appear in the data\n",
        "  #classes = classes[unique_labels(y_true, y_pred)]\n",
        "  if normalize:\n",
        "      cm = cm.astype('float') / cm.sum(axis=1)[:, np.newaxis]\n",
        "      print(\"Normalized confusion matrix\")\n",
        "  else:\n",
        "      print('Confusion matrix, without normalization')\n",
        "\n",
        "  print(cm)\n",
        "  fig = plt.figure(figsize=(12,12))\n",
        "  ax = fig.add_subplot(111)\n",
        "  \n",
        "  im = ax.imshow(cm, interpolation='nearest', cmap=cmap)\n",
        "  ax.figure.colorbar(im, ax=ax)\n",
        "  # We want to show all ticks...\n",
        "  ax.set(xticks=np.arange(cm.shape[1]),\n",
        "         yticks=np.arange(cm.shape[0]),\n",
        "         # ... and label them with the respective list entries\n",
        "         xticklabels=classes, yticklabels=classes,\n",
        "         ylabel='True label',\n",
        "         xlabel='Predicted label')\n",
        "  _ = plt.xlabel(\"Predicted Labels\", fontsize=18)\n",
        "  _ = plt.ylabel(\"True label\", fontsize=18)\n",
        "  \n",
        "  _ = plt.title(\"Confusion Matrix for Predicted Network Activity\", fontsize=18)\n",
        "\n",
        "  plt.rc('xtick', labelsize=14) \n",
        "  plt.rc('ytick', labelsize=14) \n",
        "  # Rotate the tick labels and set their alignment.\n",
        "  plt.setp(ax.get_xticklabels(), rotation=45, ha=\"right\",\n",
        "           rotation_mode=\"anchor\")\n",
        "\n",
        "  # Loop over data dimensions and create text annotations.\n",
        "  fmt = '.2f' if normalize else 'd'\n",
        "  thresh = cm.max() / 2.\n",
        "  for i in range(cm.shape[0]):\n",
        "      for j in range(cm.shape[1]):\n",
        "          ax.text(j, i, format(cm[i, j], fmt),\n",
        "                  ha=\"center\", va=\"center\", fontsize=14,\n",
        "                  color=\"white\" if cm[i, j] > thresh else \"black\")\n",
        "  fig.tight_layout()\n",
        "  fig.savefig(\"./Figures/Simple-Tree-Confusion-Matrix\"+title+\".pdf\", bbox_inches='tight')\n",
        "  return ax\n"
      ],
      "execution_count": 0,
      "outputs": []
    },
    {
      "cell_type": "code",
      "metadata": {
        "id": "MC_zEopUOsZI",
        "colab_type": "code",
        "outputId": "48668e18-d7d2-43f4-9e9d-120526d40dac",
        "colab": {
          "base_uri": "https://localhost:8080/",
          "height": 454
        }
      },
      "source": [
        "import math\n",
        "## Train the binary model \n",
        "session = tf.Session(config=config)\n",
        "session.run(tf.global_variables_initializer())\n",
        "x_coord = 0\n",
        "x_coords = []\n",
        "accuracies = []\n",
        "current_lr = 1e-3\n",
        "num_decrease = 0 \n",
        "past_valid_acc = 0\n",
        "go = True\n",
        "with session as sess:\n",
        "  while go \n",
        "    train_acc = 0 \n",
        "    for batch_num in range(int(len(train_dir_X)/BATCH_SHAPE)):\n",
        "      batch_meta = train_meta_X[batch_num*BATCH_SHAPE:batch_num*BATCH_SHAPE+BATCH_SHAPE]\n",
        "      batch_label = train_labels[batch_num*BATCH_SHAPE:batch_num*BATCH_SHAPE+BATCH_SHAPE]\n",
        "      current_train_acc = binary_accuracy.eval(feed_dict={learning_rate:current_lr,meta_x_:batch_meta, binary_y_: batch_label})\n",
        "      train_acc += current_train_acc\n",
        "      if batch_num % 200 == 0:     \n",
        "        x_coords.append(x_coord)\n",
        "        accuracies.append(current_train_acc)\n",
        "        x_coord+=1\n",
        "      binary_class_train_step.run(feed_dict={learning_rate:current_lr,meta_x_:batch_meta, binary_y_: batch_label})\n",
        "    train_acc = train_acc/(int(len(train_dir_X)/BATCH_SHAPE))\n",
        "    print('Step %d, training accuracy %g' % (batch_num ,train_acc ))\n",
        "    valid_acc = 0 \n",
        "    for batch_num in range(int(len(valid_dir_X)/BATCH_SHAPE)): \n",
        "      batch_meta = valid_meta_X[batch_num*BATCH_SHAPE:batch_num*BATCH_SHAPE+BATCH_SHAPE]\n",
        "      batch_label = valid_labels[batch_num*BATCH_SHAPE:batch_num*BATCH_SHAPE+BATCH_SHAPE]\n",
        "      valid_acc += binary_accuracy.eval(feed_dict={learning_rate:current_lr,meta_x_:batch_meta, binary_y_: batch_label})\n",
        "    valid_acc = valid_acc/(int(len(valid_dir_X)/BATCH_SHAPE))\n",
        "    print('Step %d, validation accuracy %g' % (batch_num ,valid_acc))   \n",
        "    if valid_acc <= past_valid_acc:\n",
        "      print(past_valid_acc)\n",
        "      print(valid_acc)\n",
        "      num_decrease+=1\n",
        "      print(\"DECREASE\")\n",
        "    else:\n",
        "      num_decrease = 0 \n",
        "    if current_lr > 1e-5:\n",
        "      if num_decrease == 2:\n",
        "        print(\"DECREASE LEARNING RATE\")\n",
        "        current_lr = current_lr *math.sqrt(0.1)\n",
        "        num_decrease = 0 \n",
        "    else:\n",
        "      if num_decrease == 1:\n",
        "        print(\"END\")\n",
        "        go = False \n",
        "    past_valid_acc = valid_acc\n",
        "  print(\"HERE\")\n",
        "  first_saver.save(sess, './DP-GRAPHS/' + FOLDER+ '/simple-t-branch_1.ckpt')"
      ],
      "execution_count": 0,
      "outputs": [
        {
          "output_type": "stream",
          "text": [
            "Step 5070, training accuracy 0.896185\n",
            "Step 414, validation accuracy 0.996103\n",
            "Step 5070, training accuracy 0.903768\n",
            "Step 414, validation accuracy 0.995143\n",
            "0.9961031626506024\n",
            "0.9951430722891567\n",
            "DECREASE\n",
            "Step 5070, training accuracy 0.900909\n",
            "Step 414, validation accuracy 0.997007\n",
            "Step 5070, training accuracy 0.897641\n",
            "Step 414, validation accuracy 0.996913\n",
            "0.9970067771084338\n",
            "0.9969126506024096\n",
            "DECREASE\n",
            "Step 5070, training accuracy 0.898206\n",
            "Step 414, validation accuracy 0.99744\n",
            "Step 5070, training accuracy 0.900638\n",
            "Step 414, validation accuracy 0.997496\n",
            "Step 5070, training accuracy 0.900263\n",
            "Step 414, validation accuracy 0.996913\n",
            "0.997496234939759\n",
            "0.9969126506024096\n",
            "DECREASE\n",
            "Step 5070, training accuracy 0.901633\n",
            "Step 414, validation accuracy 0.998061\n",
            "HERE\n"
          ],
          "name": "stdout"
        }
      ]
    },
    {
      "cell_type": "code",
      "metadata": {
        "id": "7JCA5glA0Qah",
        "colab_type": "code",
        "outputId": "62990320-5ee4-4086-8418-c6a4b5506190",
        "colab": {
          "base_uri": "https://localhost:8080/",
          "height": 121
        }
      },
      "source": [
        "session = tf.Session(config=config)\n",
        "session.run(tf.global_variables_initializer())\n",
        "valid_cnn_labels = []\n",
        "## Get valid test information\n",
        "with session as sess:\n",
        "  first_saver.restore(sess, './DP-GRAPHS/' + FOLDER+ '/simple-t-branch_1.ckpt')\n",
        "  for batch_num in range(int(len(valid_dir_X)/BATCH_SHAPE)): \n",
        "    batch_meta = valid_meta_X[batch_num*BATCH_SHAPE:batch_num*BATCH_SHAPE+BATCH_SHAPE]\n",
        "    batch_label = valid_labels[batch_num*BATCH_SHAPE:batch_num*BATCH_SHAPE+BATCH_SHAPE]\n",
        "    valid_acc += binary_accuracy.eval(feed_dict={learning_rate:current_lr,meta_x_:batch_meta, binary_y_: batch_label})\n",
        "  valid_acc = valid_acc/(int(len(valid_dir_X)/BATCH_SHAPE))\n",
        "  print('Step %d, validation accuracy %g' % (batch_num ,valid_acc))   \n",
        "  print(\"Classification Network Benign vs Malicious \")\n",
        "  valid_acc = 0 \n",
        "  batch_meta = valid_meta_X[:BATCH_SHAPE]\n",
        "  batch_label = valid_labels[:BATCH_SHAPE]\n",
        "  non_adv_output = binary_logits.eval(feed_dict={learning_rate:current_lr,meta_x_:batch_meta, binary_y_: batch_label})\n",
        "  for batch_num in range(1,int(len(valid_dir_X)/BATCH_SHAPE)): \n",
        "    batch_meta = valid_meta_X[batch_num*BATCH_SHAPE:batch_num*BATCH_SHAPE+BATCH_SHAPE]\n",
        "    non_adv_out = binary_logits.eval(feed_dict={learning_rate:current_lr,meta_x_:batch_meta, binary_y_: batch_label})\n",
        "    non_adv_output = np.concatenate([non_adv_output,non_adv_out],axis=0)    \n",
        "  valid_cnn_labels = non_adv_output"
      ],
      "execution_count": 0,
      "outputs": [
        {
          "output_type": "stream",
          "text": [
            "W0810 14:11:44.397013 140595137656704 deprecation.py:323] From /usr/local/lib/python3.6/dist-packages/tensorflow/python/training/saver.py:1276: checkpoint_exists (from tensorflow.python.training.checkpoint_management) is deprecated and will be removed in a future version.\n",
            "Instructions for updating:\n",
            "Use standard file APIs to check for files with this prefix.\n"
          ],
          "name": "stderr"
        },
        {
          "output_type": "stream",
          "text": [
            "Step 414, validation accuracy 1.00047\n",
            "Classification Network Benign vs Malicious \n"
          ],
          "name": "stdout"
        }
      ]
    },
    {
      "cell_type": "code",
      "metadata": {
        "id": "GljEFSv93X5j",
        "colab_type": "code",
        "colab": {}
      },
      "source": [
        "## Get labels for the confusion matrix\n",
        "n_valid_labels = []\n",
        "n_valid_cnn_labels = []\n",
        "for label in valid_labels:\n",
        "  n_label = np.argmax(label)\n",
        "  n_valid_labels.append(n_label)\n",
        "for label in valid_cnn_labels:\n",
        "  n_label = np.argmax(label)\n",
        "  n_valid_cnn_labels.append(n_label)\n",
        "\n",
        "classes = [\"Malicious\",\"Benign\"]"
      ],
      "execution_count": 0,
      "outputs": []
    },
    {
      "cell_type": "code",
      "metadata": {
        "id": "d_TZ-sCS3u92",
        "colab_type": "code",
        "outputId": "80627c88-2fae-438b-a7b4-3fd08dbff93c",
        "colab": {
          "base_uri": "https://localhost:8080/",
          "height": 933
        }
      },
      "source": [
        "plot_confusion_matrix(n_valid_labels,n_valid_cnn_labels,classes,\"BINARY\")"
      ],
      "execution_count": 0,
      "outputs": [
        {
          "output_type": "stream",
          "text": [
            "Confusion matrix, without normalization\n",
            "[[17528    97]\n",
            " [   46 35449]]\n"
          ],
          "name": "stdout"
        },
        {
          "output_type": "execute_result",
          "data": {
            "text/plain": [
              "<matplotlib.axes._subplots.AxesSubplot at 0x7fdd71aef780>"
            ]
          },
          "metadata": {
            "tags": []
          },
          "execution_count": 108
        },
        {
          "output_type": "display_data",
          "data": {
            "image/png": "[encoded data removed]",
            "text/plain": [
              "<Figure size 864x864 with 2 Axes>"
            ]
          },
          "metadata": {
            "tags": []
          }
        }
      ]
    },
    {
      "cell_type": "code",
      "metadata": {
        "id": "kSGDMnzublgA",
        "colab_type": "code",
        "outputId": "e716a71f-1355-4f4e-a566-a80345011bde",
        "colab": {
          "base_uri": "https://localhost:8080/",
          "height": 1000
        }
      },
      "source": [
        "import math\n",
        "## Train model for differentiating types of malware\n",
        "session = tf.Session(config=config)\n",
        "session.run(tf.global_variables_initializer())\n",
        "x_coord = 0\n",
        "x_coords = []\n",
        "accuracies = []\n",
        "current_lr = 1e-3\n",
        "num_decrease = 0 \n",
        "past_valid_acc = 0\n",
        "go = True\n",
        "with session as sess:\n",
        "  first_saver.restore(sess, './DP-GRAPHS/' + FOLDER+ '/simple-t-branch_1.ckpt')\n",
        "  while go:\n",
        "    train_acc = 0 \n",
        "    for batch_num in range(int(len(mal_train_dir_X)/BATCH_SHAPE)):\n",
        "      batch_meta = mal_train_meta_X[batch_num*BATCH_SHAPE:batch_num*BATCH_SHAPE+BATCH_SHAPE]\n",
        "      batch_label = mal_train_labels[batch_num*BATCH_SHAPE:batch_num*BATCH_SHAPE+BATCH_SHAPE]\n",
        "      current_train_acc = fine_accuracy.eval(feed_dict={learning_rate:current_lr,meta_x_:batch_meta, fine_y_: batch_label})\n",
        "      train_acc += current_train_acc\n",
        "      if batch_num % 200 == 0:     \n",
        "        x_coords.append(x_coord)\n",
        "        accuracies.append(current_train_acc)\n",
        "        x_coord+=1\n",
        "      fine_class_train_step.run(feed_dict={learning_rate:current_lr,meta_x_:batch_meta, fine_y_: batch_label})\n",
        "    train_acc = train_acc/(int(len(mal_train_dir_X)/BATCH_SHAPE))\n",
        "    print('Step %d, training accuracy %g' % (batch_num ,train_acc ))\n",
        "    valid_acc = 0 \n",
        "    for batch_num in range(int(len(mal_valid_dir_X)/BATCH_SHAPE)): \n",
        "      batch_meta = mal_valid_meta_X[batch_num*BATCH_SHAPE:batch_num*BATCH_SHAPE+BATCH_SHAPE]\n",
        "      batch_label = mal_valid_labels[batch_num*BATCH_SHAPE:batch_num*BATCH_SHAPE+BATCH_SHAPE]\n",
        "      valid_acc += fine_accuracy.eval(feed_dict={learning_rate:current_lr,meta_x_:batch_meta, fine_y_: batch_label})\n",
        "    valid_acc = valid_acc/(int(len(mal_valid_dir_X)/BATCH_SHAPE))\n",
        "    print('Step %d, validation accuracy %g' % (batch_num ,valid_acc))   \n",
        "    if valid_acc <= past_valid_acc:\n",
        "      print(past_valid_acc)\n",
        "      print(valid_acc)\n",
        "      num_decrease+=1\n",
        "      print(\"DECREASE\")\n",
        "    else:\n",
        "      num_decrease = 0 \n",
        "    if current_lr > 1e-5:\n",
        "      if num_decrease == 2:\n",
        "        print(\"DECREASE LEARNING RATE\")\n",
        "        current_lr = current_lr *math.sqrt(0.1)\n",
        "        num_decrease = 0\n",
        "    else:\n",
        "      if num_decrease == 1:\n",
        "        print(\"END\")\n",
        "        go = False \n",
        "    past_valid_acc = valid_acc\n",
        "  print(\"HERE\")\n",
        "  second_saver.save(sess, './DP-GRAPHS/' + FOLDER+ '/simple-t-branch_1.ckpt')"
      ],
      "execution_count": 0,
      "outputs": [
        {
          "output_type": "stream",
          "text": [
            "Step 2575, training accuracy 0.657539\n",
            "Step 137, validation accuracy 0.731658\n",
            "Step 2575, training accuracy 0.7203\n",
            "Step 137, validation accuracy 0.75668\n",
            "Step 2575, training accuracy 0.735597\n",
            "Step 137, validation accuracy 0.76704\n",
            "Step 2575, training accuracy 0.743061\n",
            "Step 137, validation accuracy 0.740942\n",
            "0.7670403079710145\n",
            "0.7409420289855072\n",
            "DECREASE\n",
            "Step 2575, training accuracy 0.745678\n",
            "Step 137, validation accuracy 0.774457\n",
            "Step 2575, training accuracy 0.750076\n",
            "Step 137, validation accuracy 0.773381\n",
            "0.7744565217391305\n",
            "0.7733808876811594\n",
            "DECREASE\n",
            "Step 2575, training accuracy 0.75653\n",
            "Step 137, validation accuracy 0.800894\n",
            "Step 2575, training accuracy 0.759195\n",
            "Step 137, validation accuracy 0.798517\n",
            "0.8008944746376812\n",
            "0.7985167572463768\n",
            "DECREASE\n",
            "Step 2575, training accuracy 0.763387\n",
            "Step 137, validation accuracy 0.799083\n",
            "Step 2575, training accuracy 0.766717\n",
            "Step 137, validation accuracy 0.804065\n",
            "Step 2575, training accuracy 0.757348\n",
            "Step 137, validation accuracy 0.772588\n",
            "0.8040647644927537\n",
            "0.7725883152173914\n",
            "DECREASE\n",
            "Step 2575, training accuracy 0.760481\n",
            "Step 137, validation accuracy 0.806726\n",
            "Step 2575, training accuracy 0.771072\n",
            "Step 137, validation accuracy 0.734432\n",
            "0.8067255434782609\n",
            "0.7344316123188406\n",
            "DECREASE\n",
            "Step 2575, training accuracy 0.759935\n",
            "Step 137, validation accuracy 0.78159\n",
            "Step 2575, training accuracy 0.767572\n",
            "Step 137, validation accuracy 0.787987\n",
            "Step 2575, training accuracy 0.775943\n",
            "Step 137, validation accuracy 0.808084\n",
            "Step 2575, training accuracy 0.765901\n",
            "Step 137, validation accuracy 0.785156\n",
            "0.8080842391304348\n",
            "0.78515625\n",
            "DECREASE\n",
            "Step 2575, training accuracy 0.770465\n",
            "Step 137, validation accuracy 0.808764\n",
            "Step 2575, training accuracy 0.778263\n",
            "Step 137, validation accuracy 0.812783\n",
            "Step 2575, training accuracy 0.774305\n",
            "Step 137, validation accuracy 0.810858\n",
            "0.8127830615942029\n",
            "0.8108582427536232\n",
            "DECREASE\n",
            "Step 2575, training accuracy 0.768976\n",
            "Step 137, validation accuracy 0.785326\n",
            "0.8108582427536232\n",
            "0.7853260869565217\n",
            "DECREASE\n",
            "DECREASE LEARNING RATE\n",
            "Step 2575, training accuracy 0.7757\n",
            "Step 137, validation accuracy 0.791101\n",
            "Step 2575, training accuracy 0.777568\n",
            "Step 137, validation accuracy 0.790478\n",
            "0.7911005434782609\n",
            "0.7904778079710145\n",
            "DECREASE\n",
            "Step 2575, training accuracy 0.786806\n",
            "Step 137, validation accuracy 0.817878\n",
            "Step 2575, training accuracy 0.791892\n",
            "Step 137, validation accuracy 0.81986\n",
            "Step 2575, training accuracy 0.792299\n",
            "Step 137, validation accuracy 0.819803\n",
            "0.8198596014492754\n",
            "0.8198029891304348\n",
            "DECREASE\n",
            "Step 2575, training accuracy 0.79235\n",
            "Step 137, validation accuracy 0.820482\n",
            "Step 2575, training accuracy 0.79262\n",
            "Step 137, validation accuracy 0.820029\n",
            "0.8204823369565217\n",
            "0.8200294384057971\n",
            "DECREASE\n",
            "Step 2575, training accuracy 0.792875\n",
            "Step 137, validation accuracy 0.81567\n",
            "0.8200294384057971\n",
            "0.8156702898550725\n",
            "DECREASE\n",
            "DECREASE LEARNING RATE\n",
            "Step 2575, training accuracy 0.79565\n",
            "Step 137, validation accuracy 0.823539\n",
            "Step 2575, training accuracy 0.798858\n",
            "Step 137, validation accuracy 0.824841\n",
            "Step 2575, training accuracy 0.802562\n",
            "Step 137, validation accuracy 0.826483\n",
            "Step 2575, training accuracy 0.800463\n",
            "Step 137, validation accuracy 0.830842\n",
            "Step 2575, training accuracy 0.802898\n",
            "Step 137, validation accuracy 0.855129\n",
            "Step 2575, training accuracy 0.80278\n",
            "Step 137, validation accuracy 0.828182\n",
            "0.8551290760869565\n",
            "0.8281816123188406\n",
            "DECREASE\n",
            "Step 2575, training accuracy 0.803098\n",
            "Step 137, validation accuracy 0.828578\n",
            "Step 2575, training accuracy 0.80127\n",
            "Step 137, validation accuracy 0.849694\n",
            "Step 2575, training accuracy 0.803793\n",
            "Step 137, validation accuracy 0.829144\n",
            "0.8496942934782609\n",
            "0.8291440217391305\n",
            "DECREASE\n",
            "Step 2575, training accuracy 0.801376\n",
            "Step 137, validation accuracy 0.849581\n",
            "Step 2575, training accuracy 0.801209\n",
            "Step 137, validation accuracy 0.828182\n",
            "0.8495810688405797\n",
            "0.8281816123188406\n",
            "DECREASE\n",
            "Step 2575, training accuracy 0.8018\n",
            "Step 137, validation accuracy 0.827332\n",
            "0.8281816123188406\n",
            "0.8273324275362319\n",
            "DECREASE\n",
            "DECREASE LEARNING RATE\n",
            "Step 2575, training accuracy 0.80248\n",
            "Step 137, validation accuracy 0.857054\n",
            "Step 2575, training accuracy 0.814283\n",
            "Step 137, validation accuracy 0.856035\n",
            "0.8570538949275363\n",
            "0.8560348731884058\n",
            "DECREASE\n",
            "Step 2575, training accuracy 0.814468\n",
            "Step 137, validation accuracy 0.85813\n",
            "Step 2575, training accuracy 0.814957\n",
            "Step 137, validation accuracy 0.859941\n",
            "Step 2575, training accuracy 0.817571\n",
            "Step 137, validation accuracy 0.864074\n",
            "Step 2575, training accuracy 0.820701\n",
            "Step 137, validation accuracy 0.87183\n",
            "Step 2575, training accuracy 0.822329\n",
            "Step 137, validation accuracy 0.874887\n",
            "Step 2575, training accuracy 0.823509\n",
            "Step 137, validation accuracy 0.872396\n",
            "0.8748867753623188\n",
            "0.8723958333333334\n",
            "DECREASE\n",
            "Step 2575, training accuracy 0.824158\n",
            "Step 137, validation accuracy 0.877831\n",
            "Step 2575, training accuracy 0.824865\n",
            "Step 137, validation accuracy 0.881171\n",
            "Step 2575, training accuracy 0.825025\n",
            "Step 137, validation accuracy 0.877491\n",
            "0.8811707427536232\n",
            "0.8774909420289855\n",
            "DECREASE\n",
            "Step 2575, training accuracy 0.825532\n",
            "Step 137, validation accuracy 0.882133\n",
            "Step 2575, training accuracy 0.825796\n",
            "Step 137, validation accuracy 0.876189\n",
            "0.8821331521739131\n",
            "0.8761888586956522\n",
            "DECREASE\n",
            "Step 2575, training accuracy 0.826445\n",
            "Step 137, validation accuracy 0.881058\n",
            "Step 2575, training accuracy 0.827042\n",
            "Step 137, validation accuracy 0.883605\n",
            "Step 2575, training accuracy 0.827194\n",
            "Step 137, validation accuracy 0.883492\n",
            "0.8836050724637681\n",
            "0.8834918478260869\n",
            "DECREASE\n",
            "Step 2575, training accuracy 0.827876\n",
            "Step 137, validation accuracy 0.882586\n",
            "0.8834918478260869\n",
            "0.8825860507246377\n",
            "DECREASE\n",
            "DECREASE LEARNING RATE\n",
            "Step 2575, training accuracy 0.829814\n",
            "Step 137, validation accuracy 0.885077\n",
            "Step 2575, training accuracy 0.83003\n",
            "Step 137, validation accuracy 0.884115\n",
            "0.8850769927536232\n",
            "0.8841145833333334\n",
            "DECREASE\n",
            "END\n",
            "HERE\n"
          ],
          "name": "stdout"
        }
      ]
    },
    {
      "cell_type": "code",
      "metadata": {
        "id": "RcHQcAO8gsYt",
        "colab_type": "code",
        "colab": {}
      },
      "source": [
        "session = tf.Session(config=config)\n",
        "session.run(tf.global_variables_initializer())\n",
        "## Get valid data for confusion matrix\n",
        "with session as sess:\n",
        "  second_saver.restore(sess, './DP-GRAPHS/' + FOLDER+ '/simple-t-branch_1.ckpt')\n",
        "  batch_meta = mal_valid_meta_X[batch_num*BATCH_SHAPE:batch_num*BATCH_SHAPE+BATCH_SHAPE]\n",
        "  batch_label = mal_valid_labels[batch_num*BATCH_SHAPE:batch_num*BATCH_SHAPE+BATCH_SHAPE]\n",
        "  non_adv_output = fine_logits.eval(feed_dict={learning_rate:current_lr,meta_x_:batch_meta, fine_y_: batch_label})\n",
        "  for batch_num in range(1,int(len(mal_valid_meta_X)/BATCH_SHAPE)): \n",
        "    batch_meta = mal_valid_meta_X[batch_num*BATCH_SHAPE:batch_num*BATCH_SHAPE+BATCH_SHAPE]\n",
        "    batch_label = mal_valid_labels[batch_num*BATCH_SHAPE:batch_num*BATCH_SHAPE+BATCH_SHAPE]\n",
        "    non_adv_out = fine_logits.eval(feed_dict={learning_rate:current_lr,meta_x_:batch_meta, fine_y_: batch_label})\n",
        "    non_adv_output = tf.concat([non_adv_output,non_adv_out],axis=0)\n",
        "  valid_cnn_labels = sess.run(non_adv_output)"
      ],
      "execution_count": 0,
      "outputs": []
    },
    {
      "cell_type": "code",
      "metadata": {
        "id": "-w7KZeKPkUdS",
        "colab_type": "code",
        "colab": {}
      },
      "source": [
        "n_valid_cnn_labels = []\n",
        "n_valid_labels = []\n",
        "for label in mal_valid_labels:\n",
        "  n_label = np.argmax(label)\n",
        "  n_valid_labels.append(n_label)\n",
        "for label in valid_cnn_labels:\n",
        "  n_label = np.argmax(label)\n",
        "  n_valid_cnn_labels.append(n_label)\n",
        "classes = [\"Nsis\",\"Geodo\",\"Virut\",\"Shifu\",\"Cridex\", \"Tinba\", \"Miuref\", \"Zeus\",\"Htbot\",\"Neris\"]"
      ],
      "execution_count": 0,
      "outputs": []
    },
    {
      "cell_type": "code",
      "metadata": {
        "id": "v6jNh3ESkd1A",
        "colab_type": "code",
        "outputId": "f96faba9-9d26-4752-966c-6f7db5a67eb4",
        "colab": {
          "base_uri": "https://localhost:8080/",
          "height": 1000
        }
      },
      "source": [
        "plot_confusion_matrix(n_valid_labels,n_valid_cnn_labels,classes,\"SIMPLE-MAL\")"
      ],
      "execution_count": 0,
      "outputs": [
        {
          "output_type": "stream",
          "text": [
            "Confusion matrix, without normalization\n",
            "[[ 566    0    6    0    1    0    0    3    0    7]\n",
            " [   2 3941    5    2    5    4    6    4   40   50]\n",
            " [  13   10 2592    3    3    3    0    8    1  556]\n",
            " [   0    9    3 1007    1    1    1    2    3    2]\n",
            " [   0    1    2    0 1608    0    0    0    0    1]\n",
            " [   0    3    0    0    2  888    0    0    0    1]\n",
            " [   2  607    1    1    2    0  705    1    8   19]\n",
            " [   1    2    6    0    0    2    0 1043    0   17]\n",
            " [   0   26    0    0    0    2    5    0  600    5]\n",
            " [  17  235  330    5    3    2    1   14   29 2607]]\n"
          ],
          "name": "stdout"
        },
        {
          "output_type": "execute_result",
          "data": {
            "text/plain": [
              "<matplotlib.axes._subplots.AxesSubplot at 0x7fde1d2b13c8>"
            ]
          },
          "metadata": {
            "tags": []
          },
          "execution_count": 117
        },
        {
          "output_type": "display_data",
          "data": {
            "image/png": "[encoded data removed]",
            "text/plain": [
              "<Figure size 864x864 with 2 Axes>"
            ]
          },
          "metadata": {
            "tags": []
          }
        }
      ]
    }
  ]
}