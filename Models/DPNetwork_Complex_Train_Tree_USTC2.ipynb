{
  "nbformat": 4,
  "nbformat_minor": 0,
  "metadata": {
    "colab": {
      "name": "DPNetwork-Complex-Train-Tree-USTC2.ipynb",
      "version": "0.3.2",
      "provenance": [],
      "collapsed_sections": [],
      "machine_shape": "hm"
    },
    "kernelspec": {
      "name": "python3",
      "display_name": "Python 3"
    },
    "accelerator": "GPU"
  },
  "cells": [
    {
      "cell_type": "code",
      "metadata": {
        "id": "3x_DjklxCpnw",
        "colab_type": "code",
        "colab": {}
      },
      "source": [
        "## Creates a tree like structure to first classify flows as either benignn or malicious \n",
        "## Then determines from which family of malware that the flow comes from. This model takes\n",
        "## into account the metadata of the flow as well as the timings of packets, directions of \n",
        "## of packets, and the sequence of packet sizes. This model makes use of a 18-layer RESNET\n",
        "## with dilation and causal padding. "
      ],
      "execution_count": 0,
      "outputs": []
    },
    {
      "cell_type": "code",
      "metadata": {
        "id": "DSrfHgeyCtoB",
        "colab_type": "code",
        "colab": {}
      },
      "source": [
        "import numpy as np\n",
        "import tensorflow as tf\n",
        "import six \n",
        "import math\n",
        "from tensorflow.python.training import moving_averages \n",
        "import pickle\n",
        "import tensorflow.keras.backend as K\n",
        "from sklearn.preprocessing import normalize\n",
        "import tensorflow_probability as tfp\n",
        "CONT_FEATURE_SIZE = 158\n",
        "FINE_METADATA_SIZE = 158+512"
      ],
      "execution_count": 0,
      "outputs": []
    },
    {
      "cell_type": "code",
      "metadata": {
        "id": "Jin2l6UEC6Bt",
        "colab_type": "code",
        "colab": {}
      },
      "source": [
        "def dense_logits_layer(model,input_size, output_size, name,train=True):\n",
        "  \"\"\"Fully  connectedt layer.\"\"\"\n",
        "  dense = tf.get_variable(\"weight\"+str(name),initializer =tf.random_normal(stddev=0.1, shape =[input_size,output_size]),trainable=train) \n",
        "  bias =  tf.get_variable(\"bias\"+str(name),initializer =tf.random_normal(stddev=0.1, shape =[output_size]),trainable=train) \n",
        "\n",
        "  model = tf.matmul(tf.cast(model,tf.float32), dense) + bias\n",
        "  return model"
      ],
      "execution_count": 0,
      "outputs": []
    },
    {
      "cell_type": "code",
      "metadata": {
        "id": "Io561a0eHVQm",
        "colab_type": "code",
        "colab": {}
      },
      "source": [
        "def dense_relu_layer(model,input_size, output_size, drop_rate, name,train=True):\n",
        "  \"\"\"Fully Connected Batch Normalization with Dropout and RELU layer.\"\"\"\n",
        "  dense = tf.get_variable(\"weight\"+str(name),initializer =tf.random_normal(stddev=0.1, shape =[input_size,output_size]),trainable=train) \n",
        "  bias =  tf.get_variable(\"bias\"+str(name),initializer =tf.random_normal(stddev=0.1, shape =[output_size]),trainable=train) \n",
        "\n",
        "  model =  tf.nn.relu(tf.matmul(tf.cast(model,tf.float32), dense) + bias)\n",
        "  model = tf.layers.batch_normalization(model)\n",
        "  model = tf.nn.dropout(x=model,rate=drop_rate)\n",
        "  return model"
      ],
      "execution_count": 0,
      "outputs": []
    },
    {
      "cell_type": "code",
      "metadata": {
        "id": "NhUtAUVHC7UY",
        "colab_type": "code",
        "colab": {}
      },
      "source": [
        "## Method taken from https://github.com/sanjit-bhat/Var-CNN--DynaFlow/blob/master/var_cnn_ensemble.py##\n",
        "def time_to_batch(x, block_size):\n",
        "  \"\"\"Splits time dimension (i.e. dimension 1) of `x` into batches.\n",
        "  Within each batch element, the `k*block_size` time steps are transposed,\n",
        "  so that the `k` time steps in each output batch element are offset by\n",
        "  `block_size` from each other.\n",
        "  The number of input time steps must be a multiple of `block_size`.\n",
        "  Args:\n",
        "    x: Tensor of shape [nb, k*block_size, n] for some natural number k.\n",
        "    block_size: number of time steps (i.e. size of dimension 1) in the output\n",
        "      tensor.\n",
        "  Returns:\n",
        "    Tensor of shape [nb*block_size, k, n]\n",
        "  \"\"\"\n",
        "  shape = x.get_shape().as_list()\n",
        "  y = tf.reshape(x, [\n",
        "      shape[0], shape[1] // block_size, block_size, shape[2]\n",
        "  ])\n",
        "  \n",
        "  y = tf.transpose(y, [0, 2, 1, 3])\n",
        "  y = tf.reshape(y, [\n",
        "      shape[0] * block_size, shape[1] // block_size, shape[2]\n",
        "  ])\n",
        "  \n",
        "  y.set_shape([\n",
        "      mul_or_none(shape[0], block_size), mul_or_none(shape[1], 1. / block_size),\n",
        "      shape[2]\n",
        "  ])\n",
        "  \n",
        "  return y"
      ],
      "execution_count": 0,
      "outputs": []
    },
    {
      "cell_type": "code",
      "metadata": {
        "id": "-hx5_Ls1C8gB",
        "colab_type": "code",
        "colab": {}
      },
      "source": [
        "## Method taken from https://github.com/sanjit-bhat/Var-CNN--DynaFlow/blob/master/var_cnn_ensemble.py##\n",
        "def batch_to_time(x, block_size):\n",
        "  \"\"\"Inverse of `time_to_batch(x, block_size)`.\n",
        "  Args:\n",
        "    x: Tensor of shape [nb*block_size, k, n] for some natural number k.\n",
        "    block_size: number of time steps (i.e. size of dimension 1) in the output\n",
        "      tensor.\n",
        "  Returns:\n",
        "    Tensor of shape [nb, k*block_size, n].\n",
        "  \"\"\"\n",
        "  shape = x.get_shape().as_list()\n",
        "  y = tf.reshape(x, [shape[0] // block_size, block_size, shape[1], shape[2]])\n",
        "  y = tf.transpose(y, [0, 2, 1, 3])\n",
        "  y = tf.reshape(y, [shape[0] // block_size, shape[1] * block_size, shape[2]])\n",
        "  y.set_shape([mul_or_none(shape[0], 1. / block_size),\n",
        "               mul_or_none(shape[1], block_size),\n",
        "               shape[2]])\n",
        "  return y"
      ],
      "execution_count": 0,
      "outputs": []
    },
    {
      "cell_type": "code",
      "metadata": {
        "id": "4Y6ocxq-C92s",
        "colab_type": "code",
        "colab": {}
      },
      "source": [
        "## Method taken from https://github.com/sanjit-bhat/Var-CNN--DynaFlow/blob/master/var_cnn_ensemble.py##\n",
        "def mul_or_none(a, b):\n",
        "  \"\"\"Return the element wise multiplicative of the inputs.\n",
        "  If either input is None, we return None.\n",
        "  Args:\n",
        "    a: A tensor input.\n",
        "    b: Another tensor input with the same type as a.\n",
        "  Returns:\n",
        "    None if either input is None. Otherwise returns a * b.\n",
        "  \"\"\"\n",
        "  if a is None or b is None:\n",
        "    return None\n",
        "  return a * b"
      ],
      "execution_count": 0,
      "outputs": []
    },
    {
      "cell_type": "code",
      "metadata": {
        "id": "P373xJkJC_Ht",
        "colab_type": "code",
        "outputId": "b488c9a7-a8dd-4e7e-d73e-5861b7079245",
        "colab": {
          "base_uri": "https://localhost:8080/",
          "height": 104
        }
      },
      "source": [
        "## Method taken from https://github.com/sanjit-bhat/Var-CNN--DynaFlow/blob/master/var_cnn_ensemble.py##\n",
        "def conv1d(x,\n",
        "           num_filters,\n",
        "           filter_length,\n",
        "           name,\n",
        "           dilation=1,\n",
        "           causal=True,\n",
        "           kernel_initializer=tf.uniform_unit_scaling_initializer(1.0),\n",
        "           biases_initializer=tf.constant_initializer(0.0),\n",
        "           train=True):\n",
        "  \"\"\"Fast 1D convolution that supports causal padding and dilation.\n",
        "  Args:\n",
        "    x: The [mb, time, channels] float tensor that we convolve.\n",
        "    num_filters: The number of filter maps in the convolution.\n",
        "    filter_length: The integer length of the filter.\n",
        "    name: The name of the scope for the variables.\n",
        "    dilation: The amount of dilation.\n",
        "    causal: Whether or not this is a causal convolution.\n",
        "    kernel_initializer: The kernel initialization function.\n",
        "    biases_initializer: The biases initialization function.\n",
        "  Returns:\n",
        "    y: The output of the 1D convolution.\n",
        "  \"\"\"\n",
        "  batch_size, length, num_input_channels = x.get_shape().as_list()\n",
        "  assert length % dilation == 0\n",
        "\n",
        "  kernel_shape = [1, filter_length, num_input_channels, num_filters]\n",
        "  strides = [1, 1, 1, 1]\n",
        "  biases_shape = [num_filters]\n",
        "  padding = 'VALID' if causal else 'SAME'\n",
        "\n",
        "  with tf.variable_scope(name):\n",
        "    weights = tf.get_variable(\n",
        "        'W', shape=kernel_shape, initializer=kernel_initializer,trainable=train)\n",
        "    biases = tf.get_variable(\n",
        "        'biases', shape=biases_shape, initializer=biases_initializer,trainable=train)\n",
        "\n",
        "  x_ttb = time_to_batch(x, dilation)\n",
        "  if filter_length > 1 and causal:\n",
        "    x_ttb = tf.pad(x_ttb, [[0, 0], [filter_length - 1, 0], [0, 0]])\n",
        "\n",
        "  x_ttb_shape = x_ttb.get_shape().as_list()\n",
        "  x_4d = tf.reshape(x_ttb, [x_ttb_shape[0], 1,\n",
        "                            x_ttb_shape[1], num_input_channels])\n",
        "  y = tf.nn.conv2d(x_4d, weights, strides, padding=padding)\n",
        "  y = tf.nn.bias_add(y, biases)\n",
        "  y_shape = y.get_shape().as_list()\n",
        "  y = tf.reshape(y, [y_shape[0], y_shape[2], num_filters])\n",
        "  y = batch_to_time(y, dilation)\n",
        "  y.set_shape([batch_size, length, num_filters])\n",
        "  return y"
      ],
      "execution_count": 0,
      "outputs": [
        {
          "output_type": "stream",
          "text": [
            "WARNING: Logging before flag parsing goes to stderr.\n",
            "W0810 09:13:20.196003 140253529896832 deprecation.py:323] From /usr/local/lib/python3.6/dist-packages/tensorflow/python/util/deprecation.py:507: UniformUnitScaling.__init__ (from tensorflow.python.ops.init_ops) is deprecated and will be removed in a future version.\n",
            "Instructions for updating:\n",
            "Use tf.initializers.variance_scaling instead with distribution=uniform to get equivalent behavior.\n"
          ],
          "name": "stderr"
        }
      ]
    },
    {
      "cell_type": "code",
      "metadata": {
        "id": "Oq1XsowFDA4c",
        "colab_type": "code",
        "colab": {}
      },
      "source": [
        "## Method taken from https://github.com/sanjit-bhat/Var-CNN--DynaFlow/blob/master/var_cnn_ensemble.py##\n",
        "def dir_conv_layer(model, num_filters, rate, name,train=True):\n",
        "  \"\"\"Conv-ReLU-Batch Normalization layer for direction. This uses dilated convolutions.\"\"\"\n",
        "  model = conv1d(model,num_filters=num_filters,filter_length=3,name =name, dilation = rate,causal=True,train=train)\n",
        "  model = tf.nn.relu(model)\n",
        "  model = tf.layers.batch_normalization(model,name= name+\"batch_norm\")\n",
        "  # exponentially increase dilated convolution receptive field\n",
        "  # receptive field size loops back around when rate = 16 to create [1...8] block\n",
        "  rate *= 2\n",
        "  if rate == 16:\n",
        "      rate = 1\n",
        "  return model, rate"
      ],
      "execution_count": 0,
      "outputs": []
    },
    {
      "cell_type": "code",
      "metadata": {
        "id": "LDZ15AlXDCia",
        "colab_type": "code",
        "colab": {}
      },
      "source": [
        "def dir_conv_block(model, nb_layers, nb_filters, rate, name,train=True):\n",
        "  with tf.variable_scope(\"dir_model\",reuse=tf.AUTO_REUSE):\n",
        "    with tf.device('/device:GPU:0'):\n",
        "      \"\"\"Creates multiple conv layers followed by max pooling and dropout layers.\"\"\"\n",
        "      for i in range(nb_layers):\n",
        "        model, rate = dir_conv_layer(model,nb_filters, rate,name=\"conv_dir\"+str(i)+name,train=train)\n",
        "      model = tf.nn.max_pool1d(model,ksize=2,strides=2,padding='VALID',data_format=\"NCW\",name=\"conv_max_pool_dir\"+name)\n",
        "      model = tf.nn.dropout(x=model,rate=(0.1))\n",
        "      return model, rate"
      ],
      "execution_count": 0,
      "outputs": []
    },
    {
      "cell_type": "code",
      "metadata": {
        "id": "Ir5U6mw8DEIW",
        "colab_type": "code",
        "colab": {}
      },
      "source": [
        "def time_conv_layer(model, num_filters, name,train=True):\n",
        "  \"\"\"Conv-ReLU-Batch Normalization layer for direction. This uses dilated convolutions.\"\"\"\n",
        "  model = conv1d(model,num_filters=num_filters,filter_length=3,name =name,causal=True,train=train)\n",
        "  model = tf.nn.relu(model)\n",
        "  model = tf.layers.batch_normalization(model,name= name+\"batch_norm\")\n",
        "  return model \n",
        "\n",
        "def time_conv_block(model, nb_layers, nb_filters,name,train=True):\n",
        "  \"\"\"Creates multiple conv layers followed by max pooling and dropout layers.\"\"\"\n",
        "  for i in range(nb_layers):\n",
        "    model = time_conv_layer(model, nb_filters,name=\"conv_time\"+str(i)+name,train=train)\n",
        "  model = tf.nn.max_pool1d(model,ksize=2,strides=2,padding='VALID',data_format=\"NCW\",name=\"conv_max_pool_time\"+name)\n",
        "  model = tf.nn.dropout(x=model,rate=0.1)\n",
        "  return model"
      ],
      "execution_count": 0,
      "outputs": []
    },
    {
      "cell_type": "code",
      "metadata": {
        "id": "ocdjPpY-DHFe",
        "colab_type": "code",
        "colab": {}
      },
      "source": [
        "def get_logits_meta(x,input_shape,model_scope, name,train=True):\n",
        "  with  tf.variable_scope(model_scope,reuse=tf.AUTO_REUSE):\n",
        "    with  tf.device('/device:GPU:0'):\n",
        "      W_dense4_class = tf.get_variable(name+\"dense4_sec\",initializer =tf.random_normal(stddev=0.1, shape =[input_shape,784] ),trainable=train)\n",
        "      b_dense4_class = tf.get_variable(name+\"bias4_sec\",initializer =tf.random_normal(stddev=0.1,shape=[784]),trainable=train)\n",
        "      h_fc4_class = tf.nn.relu(tf.matmul(tf.cast(x,tf.float32), W_dense4_class) + b_dense4_class)\n",
        "\n",
        "      reshape_1_class = tf.reshape(h_fc4_class,[BATCH_SHAPE,28,28,1])\n",
        "      conv2d_1_weight = tf.get_variable(name+\"conv2d_1_dense\",initializer =tf.random_normal(stddev=0.1, shape =[5, 5, 1, 32]),trainable=train)\n",
        "      conv2d_1_bias = tf.get_variable(name+\"conv2d_1_bias\",initializer =tf.random_normal(stddev=0.1, shape= [32]),trainable=train)\n",
        "      conv2d_1_class = tf.nn.relu(tf.nn.bias_add(tf.nn.conv2d(reshape_1_class,\n",
        "                                                  conv2d_1_weight,\n",
        "                                                  strides =[1,1,1,1],\n",
        "                                                  padding='SAME'),\n",
        "                                      conv2d_1_bias))\n",
        "\n",
        "      maxpool2d_1_class = tf.nn.max_pool(conv2d_1_class,\n",
        "                                       ksize=[1, 2, 2, 1], \n",
        "                                       strides=[1, 2, 2, 1],\n",
        "                                padding='SAME')\n",
        "      conv2d_2_weight = tf.get_variable(name+\"conv2d_2_dense\",initializer =tf.random_normal(stddev=0.1, shape =[5, 5, 32, 64]),trainable=train)\n",
        "      conv2d_2_bias = tf.get_variable(name+\"conv2d_2_bias\",initializer =tf.random_normal(stddev=0.1, shape=[64]),trainable=train)\n",
        "      conv2d_2_class = tf.nn.relu(tf.nn.bias_add(tf.nn.conv2d(maxpool2d_1_class,\n",
        "                                                  conv2d_2_weight,\n",
        "                                                  strides =[1,1,1,1],\n",
        "                                                  padding='SAME'),\n",
        "                                      conv2d_2_bias))\n",
        "\n",
        "      maxpool2d_2_class = tf.nn.max_pool(conv2d_2_class,\n",
        "                                       ksize=[1, 2, 2, 1], \n",
        "                                       strides=[1, 2, 2, 1],\n",
        "                                padding='SAME')\n",
        "\n",
        "      reshape_2_class = tf.reshape(maxpool2d_2_class,[BATCH_SHAPE,-1])\n",
        "      W_dense5_class = tf.get_variable(name+\"dense5_sec\",initializer =tf.random_normal(stddev=0.1,shape=[7*7*64,1024]),trainable=train)\n",
        "      b_dense5_class = tf.get_variable(name+\"bias5_sec\",initializer =tf.random_normal(stddev=0.1,shape=[1024]),trainable=train)\n",
        "      out_final_logits = tf.nn.bias_add(tf.matmul(reshape_2_class, W_dense5_class),b_dense5_class)\n",
        "      return out_final_logits"
      ],
      "execution_count": 0,
      "outputs": []
    },
    {
      "cell_type": "code",
      "metadata": {
        "id": "oX3nCHfcf-9z",
        "colab_type": "code",
        "colab": {}
      },
      "source": [
        "def get_dir_logits(dir_x_, dir_meta_x_,train=True):\n",
        "  with  tf.variable_scope(\"dir_model\",reuse=tf.AUTO_REUSE):\n",
        "    with  tf.device('/device:GPU:0'):\n",
        "      dir_x = tf.expand_dims(dir_x_,2)\n",
        "      dilation_rate = 1\n",
        "      cnn_model, dilation_rate = dir_conv_block(dir_x, 2, 4, dilation_rate, name = \"dir_first_block\",train=train)\n",
        "      cnn_model, dilation_rate = dir_conv_block(cnn_model, 2, 8, dilation_rate, name=\"dir_second_block\",train=train)\n",
        "      cnn_model, dilation_rate = dir_conv_block(cnn_model, 2, 8, dilation_rate, name= \"dir_third_block\",train=train)\n",
        "      cnn_model, dilation_rate = dir_conv_block(cnn_model, 3, 16, dilation_rate, name=\"dir_fourth_block\",train=train)\n",
        "      cnn_model, dilation_rate = dir_conv_block(cnn_model, 3, 16, dilation_rate,\"dir_fifth_block\",train=train)\n",
        "      cnn_output = tf.layers.flatten(cnn_model)\n",
        "      cnn_output = dense_relu_layer(cnn_output,512, 1024, 0.4,name= \"dir_first_dense_layer\",train=train)\n",
        "      \n",
        "      metadata_output = get_logits_meta(dir_meta_x_, METADATA_SIZE,\"dir_model\", \"size_model\",train=train)\n",
        "      # concatenate before second dense layer\n",
        "      combined = tf.concat([cnn_output, metadata_output],axis =1)\n",
        "      combined = dense_relu_layer(combined, 2048, 1024, 0.5, name= \"dir_combined\",train=train)\n",
        "      combined = tf.nn.dropout(combined, rate =0.5)\n",
        "      #dir_combined_output = dense_logits_layer(combined, 1024, 2, 0.5, name= \"dir_combined_out\",train=train)\n",
        "      return combined"
      ],
      "execution_count": 0,
      "outputs": []
    },
    {
      "cell_type": "code",
      "metadata": {
        "id": "8elmKjXFCW8q",
        "colab_type": "code",
        "colab": {}
      },
      "source": [
        "def get_fine_dir_logits(dir_x_, dir_meta_x_,train=True):\n",
        "  with  tf.variable_scope(\"fine_dir_model\",reuse=tf.AUTO_REUSE):\n",
        "    with  tf.device('/device:GPU:0'):\n",
        "      dir_x = tf.expand_dims(dir_x_,2)\n",
        "      dilation_rate = 1\n",
        "      cnn_model, dilation_rate = dir_conv_block(dir_x, 2, 4, dilation_rate, name = \"fine_dir_first_block\",train=train)\n",
        "      cnn_model, dilation_rate = dir_conv_block(cnn_model, 2, 8, dilation_rate, name=\"fine_dir_second_block\",train=train)\n",
        "      cnn_model, dilation_rate = dir_conv_block(cnn_model, 2, 8, dilation_rate, name= \"fine_dir_third_block\",train=train)\n",
        "      cnn_model, dilation_rate = dir_conv_block(cnn_model, 3, 16, dilation_rate, name=\"fine_dir_fourth_block\",train=train)\n",
        "      cnn_model, dilation_rate = dir_conv_block(cnn_model, 3, 16, dilation_rate,\"fine_dir_fifth_block\",train=train)\n",
        "      cnn_output = tf.layers.flatten(cnn_model)\n",
        "      cnn_output = dense_relu_layer(cnn_output,512, 1024, 0.4,name= \"fine_dir_first_dense_layer\",train=train)\n",
        "      \n",
        "      metadata_output = get_logits_meta(dir_meta_x_, FINE_METADATA_SIZE,\"fine_dir_model\", \"size_model\",train=train)\n",
        "      # concatenate before second dense layer\n",
        "      combined = tf.concat([cnn_output, metadata_output],axis =1)\n",
        "      combined = dense_relu_layer(combined, 2048, 1024, 0.5, name= \"fine_dir_combined\",train=train)\n",
        "      combined = tf.nn.dropout(combined, rate =0.5)\n",
        "      #dir_combined_output = dense_logits_layer(combined, 1024, 2, 0.5, name= \"dir_combined_out\",train=train)\n",
        "      return combined"
      ],
      "execution_count": 0,
      "outputs": []
    },
    {
      "cell_type": "code",
      "metadata": {
        "id": "D0edwcJ8qjh8",
        "colab_type": "code",
        "colab": {}
      },
      "source": [
        "def get_fine_size_logits(size_x_,size_meta_x_,train=True):\n",
        "  with  tf.variable_scope(\"size_model\",reuse=tf.AUTO_REUSE):\n",
        "    with  tf.device('/device:GPU:0'):\n",
        "      size_x = tf.expand_dims(size_x_,2)\n",
        "      cnn_model = time_conv_block(size_x, 2, 4, name = \"fine_size_first_block\",train=train)\n",
        "      cnn_model = time_conv_block(cnn_model, 2, 8, name=\"fine_size_second_block\",train=train)\n",
        "      cnn_model = time_conv_block(cnn_model, 2, 8, name= \"fine_size_third_block\",train=train)\n",
        "      cnn_model = time_conv_block(cnn_model, 3, 16, name=\"fine_size_fourth_block\",train=train)\n",
        "      cnn_model = time_conv_block(cnn_model, 3, 16,\"fine_size_fifth_block\",train=train)\n",
        "      cnn_output = tf.layers.flatten(cnn_model)\n",
        "      cnn_output = dense_relu_layer(cnn_output,512, 1024, 0.4,name= \"fine_size_first_dense_layer\",train=train)\n",
        "      \n",
        "      metadata_output = get_logits_meta(size_meta_x_, FINE_METADATA_SIZE,\"fine_size_model\", \"size_model\",train=train)\n",
        "      # concatenate before second dense layer\n",
        "      combined = tf.concat([cnn_output, metadata_output],axis =1)\n",
        "      combined = dense_relu_layer(combined, 2048, 1024, 0.5, name= \"fine_size_combined\",train=train)\n",
        "      combined = tf.nn.dropout(combined, rate =0.5)\n",
        "      #size_combined_output = dense_logits_layer(combined, 1024, 2, 0.5, name= \"size_combined_out\",train=train)\n",
        "      return combined"
      ],
      "execution_count": 0,
      "outputs": []
    },
    {
      "cell_type": "code",
      "metadata": {
        "id": "mwpLz5CPCnpv",
        "colab_type": "code",
        "colab": {}
      },
      "source": [
        "def get_size_logits(size_x_,size_meta_x_,train=True):\n",
        "  with  tf.variable_scope(\"size_model\",reuse=tf.AUTO_REUSE):\n",
        "    with  tf.device('/device:GPU:0'):\n",
        "      size_x = tf.expand_dims(size_x_,2)\n",
        "      cnn_model = time_conv_block(size_x, 2, 4, name = \"size_first_block\",train=train)\n",
        "      cnn_model = time_conv_block(cnn_model, 2, 8, name=\"size_second_block\",train=train)\n",
        "      cnn_model = time_conv_block(cnn_model, 2, 8, name= \"size_third_block\",train=train)\n",
        "      cnn_model = time_conv_block(cnn_model, 3, 16, name=\"size_fourth_block\",train=train)\n",
        "      cnn_model = time_conv_block(cnn_model, 3, 16,\"size_fifth_block\",train=train)\n",
        "      cnn_output = tf.layers.flatten(cnn_model)\n",
        "      cnn_output = dense_relu_layer(cnn_output,512, 1024, 0.4,name= \"size_first_dense_layer\",train=train)\n",
        "      \n",
        "      metadata_output = get_logits_meta(size_meta_x_, METADATA_SIZE,\"size_model\", \"size_model\",train=train)\n",
        "      # concatenate before second dense layer\n",
        "      combined = tf.concat([cnn_output, metadata_output],axis =1)\n",
        "      combined = dense_relu_layer(combined, 2048, 1024, 0.5, name= \"size_combined\",train=train)\n",
        "      combined = tf.nn.dropout(combined, rate =0.5)\n",
        "      #size_combined_output = dense_logits_layer(combined, 1024, 2, 0.5, name= \"size_combined_out\",train=train)\n",
        "      return combined"
      ],
      "execution_count": 0,
      "outputs": []
    },
    {
      "cell_type": "code",
      "metadata": {
        "id": "7cToi-5gEM47",
        "colab_type": "code",
        "colab": {}
      },
      "source": [
        "def get_fine_time_logits(time_x_,time_meta_x_,train=True):\n",
        "  with  tf.variable_scope(\"fine_time_model\",reuse=tf.AUTO_REUSE):\n",
        "    with  tf.device('/device:GPU:0'):\n",
        "      time_x = tf.expand_dims(time_x_,2)\n",
        "      cnn_model = time_conv_block(time_x, 2, 4, name = \"fine_time_first_block\",train=train)\n",
        "      cnn_model = time_conv_block(cnn_model, 2, 8, name=\"fine_time_second_block\",train=train)\n",
        "      cnn_model = time_conv_block(cnn_model, 2, 8, name= \"fine_time_third_block\",train=train)\n",
        "      cnn_model = time_conv_block(cnn_model, 3, 16, name=\"fine_time_fourth_block\",train=train)\n",
        "      cnn_model = time_conv_block(cnn_model, 3, 16,\"fine_time_fifth_block\",train=train)\n",
        "      cnn_output = tf.layers.flatten(cnn_model)\n",
        "      cnn_output = dense_relu_layer(cnn_output,512, 1024, 0.4,name= \"fine_time_first_dense_layer\",train=train)\n",
        "      \n",
        "      metadata_output = dense_relu_layer(time_meta_x_,FINE_METADATA_SIZE, 1024, 0., name = \"fine_time_metadata_first_out\",train=train)  # consider this the embedding of all the metadata\n",
        "      # concatenate before second dense layer\n",
        "      combined = tf.concat([cnn_output, metadata_output],axis =1)\n",
        "      combined = dense_relu_layer(combined, 2048, 1024, 0.5, name= \"fine_time_combined\",train=train)\n",
        "      combined = tf.nn.dropout(combined, rate =0.5)\n",
        "      #time_combined_output = dense_logits_layer(combined, 1024, 2, 0.5, name= \"time_combined_out\",train=train)\n",
        "      return combined"
      ],
      "execution_count": 0,
      "outputs": []
    },
    {
      "cell_type": "code",
      "metadata": {
        "id": "vck8hknzrFDa",
        "colab_type": "code",
        "colab": {}
      },
      "source": [
        "def get_time_logits(time_x_,time_meta_x_,train=True):\n",
        "  with  tf.variable_scope(\"time_model\",reuse=tf.AUTO_REUSE):\n",
        "    with  tf.device('/device:GPU:0'):\n",
        "      time_x = tf.expand_dims(time_x_,2)\n",
        "      cnn_model = time_conv_block(time_x, 2, 4, name = \"time_first_block\",train=train)\n",
        "      cnn_model = time_conv_block(cnn_model, 2, 8, name=\"time_second_block\",train=train)\n",
        "      cnn_model = time_conv_block(cnn_model, 2, 8, name= \"time_third_block\",train=train)\n",
        "      cnn_model = time_conv_block(cnn_model, 3, 16, name=\"time_fourth_block\",train=train)\n",
        "      cnn_model = time_conv_block(cnn_model, 3, 16,\"time_fifth_block\",train=train)\n",
        "      cnn_output = tf.layers.flatten(cnn_model)\n",
        "      cnn_output = dense_relu_layer(cnn_output,512, 1024, 0.4,name= \"time_first_dense_layer\",train=train)\n",
        "      \n",
        "      metadata_output = dense_relu_layer(time_meta_x_,METADATA_SIZE, 1024, 0., name = \"time_metadata_first_out\",train=train)  # consider this the embedding of all the metadata\n",
        "      # concatenate before second dense layer\n",
        "      combined = tf.concat([cnn_output, metadata_output],axis =1)\n",
        "      combined = dense_relu_layer(combined, 2048, 1024, 0.5, name= \"time_combined\",train=train)\n",
        "      combined = tf.nn.dropout(combined, rate =0.5)\n",
        "      #time_combined_output = dense_logits_layer(combined, 1024, 2, 0.5, name= \"time_combined_out\",train=train)\n",
        "      return combined"
      ],
      "execution_count": 0,
      "outputs": []
    },
    {
      "cell_type": "code",
      "metadata": {
        "id": "c9WG7G02tjMn",
        "colab_type": "code",
        "colab": {}
      },
      "source": [
        "def get_conv_fine_logits(x,y,return_embedding=False):\n",
        "  with  tf.variable_scope(\"time_model\",reuse=tf.AUTO_REUSE):\n",
        "    with  tf.device('/device:GPU:0'):\n",
        "      inp = tf.concat([x,y],axis=1)\n",
        "      W_dense4_class = tf.get_variable(\"dense4_sec\",initializer =tf.random_normal(stddev=0.1, shape =[158+512,784] ))\n",
        "      b_dense4_class = tf.get_variable(\"bias4_sec\",initializer =tf.random_normal(stddev=0.1,shape=[784]))\n",
        "      h_fc4_class = tf.nn.relu(tf.matmul(tf.cast(inp,tf.float32), W_dense4_class) + b_dense4_class)\n",
        "\n",
        "      reshape_1_class = tf.reshape(h_fc4_class,[BATCH_SHAPE,28,28,1])\n",
        "      conv2d_1_weight = tf.get_variable(\"conv2d_1_dense\",initializer =tf.random_normal(stddev=0.1, shape =[5, 5, 1, 32]))\n",
        "      conv2d_1_bias = tf.get_variable(\"conv2d_1_bias\",initializer =tf.random_normal(stddev=0.1, shape= [32]))\n",
        "      conv2d_1_class = tf.nn.relu(tf.nn.bias_add(tf.nn.conv2d(reshape_1_class,\n",
        "                                                  conv2d_1_weight,\n",
        "                                                  strides =[1,1,1,1],\n",
        "                                                  padding='SAME'),\n",
        "                                      conv2d_1_bias))\n",
        "\n",
        "      maxpool2d_1_class = tf.nn.max_pool(conv2d_1_class,\n",
        "                                       ksize=[1, 2, 2, 1], \n",
        "                                       strides=[1, 2, 2, 1],\n",
        "                                padding='SAME')\n",
        "      conv2d_2_weight = tf.get_variable(\"conv2d_2_dense\",initializer =tf.random_normal(stddev=0.1, shape =[5, 5, 32, 64]))\n",
        "      conv2d_2_bias = tf.get_variable(\"conv2d_2_bias\",initializer =tf.random_normal(stddev=0.1, shape=[64]))\n",
        "      conv2d_2_class = tf.nn.relu(tf.nn.bias_add(tf.nn.conv2d(maxpool2d_1_class,\n",
        "                                                  conv2d_2_weight,\n",
        "                                                  strides =[1,1,1,1],\n",
        "                                                  padding='SAME'),\n",
        "                                      conv2d_2_bias))\n",
        "\n",
        "      maxpool2d_2_class = tf.nn.max_pool(conv2d_2_class,\n",
        "                                       ksize=[1, 2, 2, 1], \n",
        "                                       strides=[1, 2, 2, 1],\n",
        "                                padding='SAME')\n",
        "\n",
        "      reshape_2_class = tf.reshape(maxpool2d_2_class,[BATCH_SHAPE,-1])\n",
        "      drop_one = tf.nn.dropout(reshape_2_class,rate=0.2)\n",
        "      W_dense5_class = tf.get_variable(\"dense5_sec\",initializer =tf.random_normal(stddev=0.1,shape=[7*7*64,1024]))\n",
        "      b_dense5_class = tf.get_variable(\"bias5_sec\",initializer =tf.random_normal(stddev=0.1,shape=[1024]))\n",
        "      h_fc5_logit = tf.nn.bias_add(tf.matmul(drop_one, W_dense5_class),b_dense5_class)\n",
        "      h_fc5_class = tf.nn.relu(h_fc5_logit)\n",
        "      drop_two = tf.nn.dropout(h_fc5_class,rate=0.4)\n",
        "\n",
        "      out_weight_class =  tf.get_variable(\"out_dense_sec\",initializer =tf.random_normal(stddev=0.1,shape=[1024, 10]))\n",
        "      out_bias_class =  tf.get_variable(\"out_bias_sec\",initializer =tf.random_normal(stddev=0.1,shape = [10]))\n",
        "      out_final_logits = tf.nn.bias_add(tf.matmul(drop_two,out_weight_class),out_bias_class)\n",
        "      if return_embedding == True:\n",
        "        return h_fc5_logit\n",
        "      return out_final_logits"
      ],
      "execution_count": 0,
      "outputs": []
    },
    {
      "cell_type": "code",
      "metadata": {
        "id": "EjF3wolyavQg",
        "colab_type": "code",
        "colab": {}
      },
      "source": [
        "\n",
        "with tf.device('/device:GPU:0'):\n",
        "  NOISE = img_dp_noise(int(CONT_FEATURE_SIZE/2))\n",
        "  ## Define the auto encoder without keras \n",
        "  x_ = tf.placeholder(tf.float32,shape= [BATCH_SHAPE,CONT_FEATURE_SIZE])\n",
        "  y_ =tf.placeholder(tf.float32,shape= [BATCH_SHAPE,CONT_FEATURE_SIZE])\n",
        "  \n",
        "  x2_ =tf.placeholder(tf.float32,shape= [BATCH_SHAPE,AUTO_ENCODER_OUT_SHAPE])\n",
        "  y2_ =tf.placeholder(tf.float32,shape= [BATCH_SHAPE,2])\n",
        "  y3_ =tf.placeholder(tf.float32,shape= [BATCH_SHAPE,10])"
      ],
      "execution_count": 0,
      "outputs": []
    },
    {
      "cell_type": "code",
      "metadata": {
        "id": "FXp_eXV3DJ-_",
        "colab_type": "code",
        "colab": {}
      },
      "source": [
        "with tf.device('/device:GPU:0'):\n",
        "  ## Direction information\n",
        "  t_dir_x_ = tf.placeholder(tf.float32,shape= [BATCH_SHAPE,SEQUENCE_LENGTH])\n",
        "\n",
        "  ## Time information\n",
        "  t_time_x_ = tf.placeholder(tf.float32,shape= [BATCH_SHAPE,SEQUENCE_LENGTH])\n",
        "\n",
        "  ## Size information\n",
        "  t_size_x_ = tf.placeholder(tf.float32,shape= [BATCH_SHAPE,SEQUENCE_LENGTH])\n",
        "\n",
        "  ## Input to the models\n",
        "  meta_x_ = tf.placeholder(tf.float32,shape= [BATCH_SHAPE,METADATA_SIZE])\n",
        "  fine_meta_x_ = tf.placeholder(tf.float32,shape= [BATCH_SHAPE,FINE_METADATA_SIZE])\n",
        "  binary_y_ = tf.placeholder(tf.float32,shape= [BATCH_SHAPE,2])\n",
        "  fine_y_ = tf.placeholder(tf.float32,shape= [BATCH_SHAPE,10])\n",
        "  "
      ],
      "execution_count": 0,
      "outputs": []
    },
    {
      "cell_type": "code",
      "metadata": {
        "id": "kBbCSdqOFsOQ",
        "colab_type": "code",
        "colab": {}
      },
      "source": [
        "## First branch logits that separates malicious and benign flows\n",
        "def get_binary_logits(dir_x,time_x,size_x,meta_x,train=True, get_embedding= False):\n",
        "  time_logits = get_time_logits(time_x,meta_x,train)\n",
        "  size_logits = get_size_logits(size_x,meta_x,train)\n",
        "  dir_logits = get_dir_logits(dir_x,meta_x,train)\n",
        "  combined_logits = tf.concat([time_logits, size_logits,dir_logits],axis =1)\n",
        "  combined_logits = dense_relu_layer(combined_logits,3072, 1024, 0.7,name= \"first_logits_layer\",train=train)\n",
        "  second_combined_logits = dense_relu_layer(combined_logits,1024, 512, 0.0,name= \"second_logits_layer\",train=train)\n",
        "  combined_logits_output = dense_logits_layer(second_combined_logits, 512, 2, 0.5, name= \"final_binary_out\",train=train)\n",
        "  if get_embedding == True:\n",
        "    return second_combined_logits\n",
        "  return combined_logits_output"
      ],
      "execution_count": 0,
      "outputs": []
    },
    {
      "cell_type": "code",
      "metadata": {
        "id": "PicVaKU0Qs0F",
        "colab_type": "code",
        "colab": {}
      },
      "source": [
        "learning_rate = tf.placeholder(tf.float32, shape=[])"
      ],
      "execution_count": 0,
      "outputs": []
    },
    {
      "cell_type": "code",
      "metadata": {
        "id": "OSvmD0yOaFcc",
        "colab_type": "code",
        "outputId": "eebcdd85-27d9-4318-b4f9-15fcbe8a161d",
        "colab": {
          "base_uri": "https://localhost:8080/",
          "height": 171
        }
      },
      "source": [
        "## Output of binary logits \n",
        "with tf.device('/device:GPU:0'):\n",
        "  with  tf.variable_scope(\"branch_1\",reuse=tf.AUTO_REUSE):\n",
        "    binary_logits = get_binary_logits(t_dir_x_,t_time_x_,t_size_x_,meta_x_)\n",
        "    binary_cross_entropy = tf.reduce_mean(tf.nn.softmax_cross_entropy_with_logits_v2(name=\"first_softmax\",labels=binary_y_, logits=binary_logits))\n",
        "    binary_class_train_step = tf.train.AdamOptimizer(learning_rate=learning_rate,name=\"binary-adam-encoder\").minimize(binary_cross_entropy)\n",
        "    binary_correct_prediction = tf.equal(tf.argmax(get_binary_logits(t_dir_x_,t_time_x_,t_size_x_,meta_x_), 1), tf.argmax(binary_y_, 1))\n",
        "    binary_accuracy = tf.reduce_mean(tf.cast(binary_correct_prediction, tf.float32))"
      ],
      "execution_count": 0,
      "outputs": [
        {
          "output_type": "stream",
          "text": [
            "W0810 09:13:39.600459 140253529896832 deprecation.py:323] From <ipython-input-18-0af597ae939c>:5: batch_normalization (from tensorflow.python.layers.normalization) is deprecated and will be removed in a future version.\n",
            "Instructions for updating:\n",
            "Use keras.layers.BatchNormalization instead.  In particular, `tf.control_dependencies(tf.GraphKeys.UPDATE_OPS)` should not be used (consult the `tf.keras.layers.batch_normalization` documentation).\n",
            "W0810 09:13:40.548774 140253529896832 deprecation.py:323] From <ipython-input-25-e4f9704506cf>:10: flatten (from tensorflow.python.layers.core) is deprecated and will be removed in a future version.\n",
            "Instructions for updating:\n",
            "Use keras.layers.flatten instead.\n",
            "W0810 09:13:43.140795 140253529896832 nn_ops.py:4224] Large dropout rate: 0.7 (>0.5). In TensorFlow 2.x, dropout() uses dropout rate instead of keep_prob. Please ensure that this is intended.\n",
            "W0810 09:13:51.062910 140253529896832 nn_ops.py:4224] Large dropout rate: 0.7 (>0.5). In TensorFlow 2.x, dropout() uses dropout rate instead of keep_prob. Please ensure that this is intended.\n"
          ],
          "name": "stderr"
        }
      ]
    },
    {
      "cell_type": "code",
      "metadata": {
        "id": "z_xAKdxiXff5",
        "colab_type": "code",
        "colab": {}
      },
      "source": [
        "## Second branch of the network that outputs the type of malware\n",
        "def get_fine_mal_logits(dir_x,time_x,size_x,meta_x):\n",
        "  embedding = get_binary_logits(t_dir_x_,t_time_x_,t_size_x_,meta_x_, train=False, get_embedding = True)\n",
        "  fine_combined_logits_output = get_conv_fine_logits(embedding,meta_x)\n",
        "  return fine_combined_logits_output"
      ],
      "execution_count": 0,
      "outputs": []
    },
    {
      "cell_type": "code",
      "metadata": {
        "id": "Vg13bXTOZMQP",
        "colab_type": "code",
        "colab": {}
      },
      "source": [
        "first_saver = tf.train.Saver()"
      ],
      "execution_count": 0,
      "outputs": []
    },
    {
      "cell_type": "code",
      "metadata": {
        "id": "JE2doz5-ZP6V",
        "colab_type": "code",
        "outputId": "a9333c7c-ee21-41a1-99a7-f3585d4b3563",
        "colab": {
          "base_uri": "https://localhost:8080/",
          "height": 54
        }
      },
      "source": [
        "## Output of multi-class logits \n",
        "with tf.device('/device:GPU:0'):\n",
        "  with  tf.variable_scope(\"branch_1\",reuse=tf.AUTO_REUSE):\n",
        "    fine_logits = get_fine_mal_logits(t_dir_x_,t_time_x_,t_size_x_,meta_x_)\n",
        "    fine_cross_entropy = tf.reduce_mean(tf.nn.softmax_cross_entropy_with_logits_v2(name=\"second_softmax\",labels=fine_y_, logits=fine_logits))\n",
        "    fine_class_train_step = tf.train.AdamOptimizer(learning_rate=learning_rate,name=\"fine-adam-encoder\").minimize(fine_cross_entropy)\n",
        "    fine_correct_prediction = tf.equal(tf.argmax(fine_logits, 1), tf.argmax(fine_y_, 1))\n",
        "    fine_accuracy = tf.reduce_mean(tf.cast(fine_correct_prediction, tf.float32))"
      ],
      "execution_count": 0,
      "outputs": [
        {
          "output_type": "stream",
          "text": [
            "W0810 09:13:53.816389 140253529896832 nn_ops.py:4224] Large dropout rate: 0.7 (>0.5). In TensorFlow 2.x, dropout() uses dropout rate instead of keep_prob. Please ensure that this is intended.\n"
          ],
          "name": "stderr"
        }
      ]
    },
    {
      "cell_type": "code",
      "metadata": {
        "id": "pVGNkf7BZP9I",
        "colab_type": "code",
        "colab": {}
      },
      "source": [
        "second_saver = tf.train.Saver()"
      ],
      "execution_count": 0,
      "outputs": []
    },
    {
      "cell_type": "code",
      "metadata": {
        "id": "svAK5NDuP3-4",
        "colab_type": "code",
        "outputId": "4d8bb386-69b3-4714-8224-ea94dd5701e3",
        "colab": {
          "base_uri": "https://localhost:8080/",
          "height": 50
        }
      },
      "source": [
        "config = tf.ConfigProto(allow_soft_placement=True)\n",
        "config.gpu_options.allow_growth = True\n",
        "print(\"GPU Available: \", tf.test.is_gpu_available())\n",
        "device_name = tf.test.gpu_device_name()\n",
        "if device_name != '/device:GPU:0':\n",
        "  raise SystemError('GPU device not found')\n",
        "print('Found GPU at: {}'.format(device_name))"
      ],
      "execution_count": 0,
      "outputs": [
        {
          "output_type": "stream",
          "text": [
            "GPU Available:  True\n",
            "Found GPU at: /device:GPU:0\n"
          ],
          "name": "stdout"
        }
      ]
    },
    {
      "cell_type": "code",
      "metadata": {
        "id": "Ozg1JRXIQJMB",
        "colab_type": "code",
        "colab": {}
      },
      "source": [
        "## Load in data\n",
        "import numpy as np\n",
        "with open('./embedding/CNN_FULL/USTC_prn_mal_meta_train', 'rb') as fp:\n",
        "  mal_train_meta_X = pickle.load(fp)\n",
        "  fp.close()\n",
        "  \n",
        "with open('./embedding/CNN_FULL/USTC_prn_mal_meta_valid', 'rb') as fp:\n",
        "  mal_valid_meta_X = pickle.load(fp)\n",
        "  fp.close()\n",
        "  \n",
        "with open('./embedding/CNN_FULL/USTC_prn_mal_size_train', 'rb') as fp:\n",
        "  mal_train_size_X = pickle.load(fp)\n",
        "  fp.close()\n",
        "  \n",
        "with open('./embedding/CNN_FULL/USTC_prn_mal_size_valid', 'rb') as fp:\n",
        "  mal_valid_size_X = pickle.load(fp)\n",
        "  fp.close()\n",
        "  \n",
        "with open('./embedding/CNN_FULL/USTC_prn_mal_time_train', 'rb') as fp:\n",
        "  mal_train_time_X = pickle.load(fp)\n",
        "  fp.close()\n",
        "  \n",
        "with open('./embedding/CNN_FULL/USTC_prn_mal_time_valid', 'rb') as fp:\n",
        "  mal_valid_time_X = pickle.load(fp)\n",
        "  fp.close()\n",
        "  \n",
        "with open('./embedding/CNN_FULL/USTC_prn_mal_dir_train', 'rb') as fp:\n",
        "  mal_train_dir_X = pickle.load(fp)\n",
        "  fp.close()\n",
        "  \n",
        "with open('./embedding/CNN_FULL/USTC_prn_mal_dir_valid', 'rb') as fp:\n",
        "  mal_valid_dir_X = pickle.load(fp)\n",
        "  fp.close()\n",
        "  \n",
        "with open('./embedding/CNN_FULL/USTC_prn_mal_meta_train_labels', 'rb') as fp:\n",
        "  mal_train_labels = pickle.load(fp)\n",
        "  fp.close()\n",
        "  \n",
        "with open('./embedding/CNN_FULL/USTC_prn_mal_meta_valid_labels', 'rb') as fp:\n",
        "  mal_valid_labels = pickle.load(fp) \n",
        "  fp.close()\n",
        "  \n",
        "\n",
        "with open('./embedding/CNN_FULL/USTC_prn_benign_meta_train', 'rb') as fp:\n",
        "  benign_train_meta_X = pickle.load(fp)\n",
        "  fp.close()\n",
        "  \n",
        "with open('./embedding/CNN_FULL/USTC_prn_benign_meta_valid', 'rb') as fp:\n",
        "  benign_valid_meta_X  = pickle.load(fp)\n",
        "  fp.close()\n",
        "  \n",
        "with open('./embedding/CNN_FULL/USTC_prn_benign_size_train', 'rb') as fp:\n",
        "  benign_train_size_X = pickle.load(fp)\n",
        "  fp.close()\n",
        "  \n",
        "with open('./embedding/CNN_FULL/USTC_prn_benign_size_valid', 'rb') as fp:\n",
        "  benign_valid_size_X = pickle.load(fp)\n",
        "  fp.close()\n",
        "  \n",
        "with open('./embedding/CNN_FULL/USTC_prn_benign_dir_train', 'rb') as fp:\n",
        "  benign_train_dir_X = pickle.load(fp)\n",
        "  fp.close()\n",
        "  \n",
        "with open('./embedding/CNN_FULL/USTC_prn_benign_dir_valid', 'rb') as fp:\n",
        "  benign_valid_dir_X = pickle.load(fp)\n",
        "  fp.close()\n",
        "\n",
        "with open('./embedding/CNN_FULL/USTC_prn_benign_time_train', 'rb') as fp:\n",
        "  benign_train_time_X = pickle.load(fp)\n",
        "  fp.close()\n",
        "  \n",
        "with open('./embedding/CNN_FULL/USTC_prn_benign_time_valid', 'rb') as fp:\n",
        "  benign_valid_time_X = pickle.load(fp)\n",
        "  fp.close()"
      ],
      "execution_count": 0,
      "outputs": []
    },
    {
      "cell_type": "code",
      "metadata": {
        "id": "x379KCdkQXQe",
        "colab_type": "code",
        "colab": {}
      },
      "source": [
        "train_labels = [[0,1]]*len(benign_train_meta_X) +[[1,0]]*len(mal_train_meta_X)\n",
        "valid_labels = [[0,1]]*len(benign_valid_meta_X) +[[1,0]]*len(mal_valid_meta_X)"
      ],
      "execution_count": 0,
      "outputs": []
    },
    {
      "cell_type": "code",
      "metadata": {
        "id": "73dG3f8vQQEF",
        "colab_type": "code",
        "colab": {}
      },
      "source": [
        "import copy\n",
        "import numpy as np\n",
        "## Randomize data output \n",
        "c = list(zip(mal_train_meta_X,mal_train_size_X,mal_train_time_X,mal_train_dir_X,mal_train_labels))\n",
        "np.random.shuffle(c)\n",
        "mal_train_meta_X,mal_train_size_X,mal_train_time_X,mal_train_dir_X, mal_train_labels = zip(*c)\n",
        "mal_train_meta_X = mal_train_meta_X[:329728]\n",
        "mal_train_size_X = mal_train_size_X[:329728]\n",
        "mal_train_time_X = mal_train_time_X[:329728]\n",
        "mal_train_dir_X = mal_train_dir_X[:329728]\n",
        "mal_train_labels = mal_train_labels[:329728]\n",
        "\n",
        "\n",
        "c = list(zip(mal_valid_meta_X,mal_valid_size_X,mal_valid_time_X,mal_valid_dir_X,mal_valid_labels))\n",
        "np.random.shuffle(c)\n",
        "mal_valid_meta_X,mal_valid_size_X,mal_valid_time_X,mal_valid_dir_X, mal_valid_labels = zip(*c)\n",
        "mal_valid_meta_X = mal_valid_meta_X[:17664]\n",
        "mal_valid_size_X = mal_valid_size_X[:17664]\n",
        "mal_valid_time_X = mal_valid_time_X[:17664]\n",
        "mal_valid_dir_X = mal_valid_dir_X[:17664]\n",
        "mal_valid_labels = mal_valid_labels[:17664]\n",
        "\n",
        "\n",
        "benign_train_meta_X = benign_train_meta_X[:319360]\n",
        "benign_train_size_X = benign_train_size_X[:319360]\n",
        "benign_train_time_X = benign_train_time_X[:319360]\n",
        "benign_train_dir_X = benign_train_dir_X[:319360]\n",
        "\n",
        "\n",
        "benign_valid_meta_X = benign_valid_meta_X[:35456]\n",
        "benign_valid_size_X = benign_valid_size_X[:35456]\n",
        "benign_valid_time_X = benign_valid_time_X[:35456]\n",
        "benign_valid_dir_X = benign_valid_dir_X[:35456]\n"
      ],
      "execution_count": 0,
      "outputs": []
    },
    {
      "cell_type": "code",
      "metadata": {
        "id": "um24NjVyQfHm",
        "colab_type": "code",
        "colab": {}
      },
      "source": [
        "train_meta_X = np.concatenate([benign_train_meta_X,mal_train_meta_X])\n",
        "train_size_X = np.concatenate([benign_train_size_X,mal_train_size_X])\n",
        "train_time_X = np.concatenate([benign_train_time_X,mal_train_time_X])\n",
        "train_dir_X = np.concatenate([benign_train_dir_X,mal_train_dir_X])\n",
        "\n",
        "c = list(zip(train_meta_X,train_size_X,train_time_X,train_dir_X,train_labels))\n",
        "np.random.shuffle(c)\n",
        "train_meta_X,train_size_X,train_time_X,train_dir_X,train_labels = zip(*c)\n",
        "\n",
        "\n",
        "valid_meta_X = np.concatenate([benign_valid_meta_X,mal_valid_meta_X])\n",
        "valid_size_X = np.concatenate([benign_valid_size_X,mal_valid_size_X])\n",
        "valid_time_X = np.concatenate([benign_valid_time_X,mal_valid_time_X])\n",
        "valid_dir_X = np.concatenate([benign_valid_dir_X,mal_valid_dir_X])\n",
        "c = list(zip(valid_meta_X,valid_size_X,valid_time_X,valid_dir_X,valid_labels))\n",
        "np.random.shuffle(c)\n",
        "valid_meta_X,valid_size_X,valid_time_X,valid_dir_X,valid_labels = zip(*c)\n",
        "\n",
        "train_meta_X = np.array(train_meta_X).astype(float)\n",
        "train_size_X = np.array(train_size_X).astype(float)\n",
        "train_time_X = np.array(train_time_X).astype(float)\n",
        "train_dir_X  = np.array(train_dir_X).astype(float)\n",
        "\n",
        "valid_meta_X = np.array(valid_meta_X).astype(float)\n",
        "valid_size_X =np.array(valid_size_X).astype(float)\n",
        "valid_time_X = np.array(valid_time_X).astype(float)\n",
        "valid_dir_X  = np.array(valid_dir_X).astype(float)\n"
      ],
      "execution_count": 0,
      "outputs": []
    },
    {
      "cell_type": "code",
      "metadata": {
        "id": "MbRvyz8_3ewI",
        "colab_type": "code",
        "colab": {}
      },
      "source": [
        "import numpy as np\n",
        "import matplotlib.pyplot as plt\n",
        "from sklearn.metrics import confusion_matrix\n",
        "from sklearn.utils.multiclass import unique_labels\n",
        "\n",
        "def plot_confusion_matrix(y_true, y_pred, classes,title,\n",
        "                          normalize=False,\n",
        "                   \n",
        "                          cmap=plt.cm.Blues):\n",
        "  # Compute confusion matrix\n",
        "  cm = confusion_matrix(y_true, y_pred)\n",
        "  # Only use the labels that appear in the data\n",
        "  #classes = classes[unique_labels(y_true, y_pred)]\n",
        "  if normalize:\n",
        "      cm = cm.astype('float') / cm.sum(axis=1)[:, np.newaxis]\n",
        "      print(\"Normalized confusion matrix\")\n",
        "  else:\n",
        "      print('Confusion matrix, without normalization')\n",
        "\n",
        "  print(cm)\n",
        "  fig = plt.figure(figsize=(12,12))\n",
        "  ax = fig.add_subplot(111)\n",
        "  \n",
        "  im = ax.imshow(cm, interpolation='nearest', cmap=cmap)\n",
        "  ax.figure.colorbar(im, ax=ax)\n",
        "  # We want to show all ticks...\n",
        "  ax.set(xticks=np.arange(cm.shape[1]),\n",
        "         yticks=np.arange(cm.shape[0]),\n",
        "         # ... and label them with the respective list entries\n",
        "         xticklabels=classes, yticklabels=classes,\n",
        "         ylabel='True label',\n",
        "         xlabel='Predicted label')\n",
        "  _ = plt.xlabel(\"Predicted Labels\", fontsize=18)\n",
        "  _ = plt.ylabel(\"True label\", fontsize=18)\n",
        "  \n",
        "  _ = plt.title(\"Confusion Matrix for Predicted Network Activity\", fontsize=18)\n",
        "\n",
        "  plt.rc('xtick', labelsize=14) \n",
        "  plt.rc('ytick', labelsize=14) \n",
        "  # Rotate the tick labels and set their alignment.\n",
        "  plt.setp(ax.get_xticklabels(), rotation=45, ha=\"right\",\n",
        "           rotation_mode=\"anchor\")\n",
        "\n",
        "  # Loop over data dimensions and create text annotations.\n",
        "  fmt = '.2f' if normalize else 'd'\n",
        "  thresh = cm.max() / 2.\n",
        "  for i in range(cm.shape[0]):\n",
        "      for j in range(cm.shape[1]):\n",
        "          ax.text(j, i, format(cm[i, j], fmt),\n",
        "                  ha=\"center\", va=\"center\", fontsize=14,\n",
        "                  color=\"white\" if cm[i, j] > thresh else \"black\")\n",
        "  fig.tight_layout()\n",
        "  fig.savefig(\"./Figures/Popets-Confusion-Matrix\"+title+\".pdf\", bbox_inches='tight')\n",
        "  return ax\n"
      ],
      "execution_count": 0,
      "outputs": []
    },
    {
      "cell_type": "code",
      "metadata": {
        "id": "MC_zEopUOsZI",
        "colab_type": "code",
        "colab": {}
      },
      "source": [
        "## Train the binary model \n",
        "import math\n",
        "session = tf.Session(config=config)\n",
        "session.run(tf.global_variables_initializer())\n",
        "accuracies = []\n",
        "current_lr = 1e-3\n",
        "num_decrease = 0 \n",
        "past_valid_acc = 0\n",
        "go = True\n",
        "with session as sess:\n",
        "  while go:\n",
        "    train_acc = 0 \n",
        "    for batch_num in range(int(len(train_dir_X)/BATCH_SHAPE)):\n",
        "      batch_dir = train_dir_X[batch_num*BATCH_SHAPE:batch_num*BATCH_SHAPE+BATCH_SHAPE]\n",
        "      batch_size = train_size_X[batch_num*BATCH_SHAPE:batch_num*BATCH_SHAPE+BATCH_SHAPE]\n",
        "      batch_time = train_time_X[batch_num*BATCH_SHAPE:batch_num*BATCH_SHAPE+BATCH_SHAPE]\n",
        "      batch_meta = train_meta_X[batch_num*BATCH_SHAPE:batch_num*BATCH_SHAPE+BATCH_SHAPE]\n",
        "      batch_label = train_labels[batch_num*BATCH_SHAPE:batch_num*BATCH_SHAPE+BATCH_SHAPE]\n",
        "      current_train_acc = binary_accuracy.eval(feed_dict={learning_rate:current_lr,t_dir_x_:batch_dir,t_time_x_:batch_time,t_size_x_:batch_size,meta_x_:batch_meta, binary_y_: batch_label})\n",
        "      train_acc += current_train_acc\n",
        "      if batch_num % 200 == 0:     \n",
        "        x_coords.append(x_coord)\n",
        "        accuracies.append(current_train_acc)\n",
        "        x_coord+=1\n",
        "      binary_class_train_step.run(feed_dict={learning_rate:current_lr,t_dir_x_:batch_dir,t_time_x_:batch_time,t_size_x_:batch_size,meta_x_:batch_meta, binary_y_: batch_label})\n",
        "    train_acc = train_acc/(int(len(train_dir_X)/BATCH_SHAPE))\n",
        "    print('Step %d, training accuracy %g' % (batch_num ,train_acc ))\n",
        "    valid_acc = 0 \n",
        "    for batch_num in range(int(len(valid_dir_X)/BATCH_SHAPE)): \n",
        "      batch_dir = valid_dir_X[batch_num*BATCH_SHAPE:batch_num*BATCH_SHAPE+BATCH_SHAPE]\n",
        "      batch_size = valid_size_X[batch_num*BATCH_SHAPE:batch_num*BATCH_SHAPE+BATCH_SHAPE]\n",
        "      batch_time = valid_time_X[batch_num*BATCH_SHAPE:batch_num*BATCH_SHAPE+BATCH_SHAPE]\n",
        "      batch_meta = valid_meta_X[batch_num*BATCH_SHAPE:batch_num*BATCH_SHAPE+BATCH_SHAPE]\n",
        "      batch_label = valid_labels[batch_num*BATCH_SHAPE:batch_num*BATCH_SHAPE+BATCH_SHAPE]\n",
        "      valid_acc += binary_accuracy.eval(feed_dict={learning_rate:current_lr,t_dir_x_:batch_dir,t_time_x_:batch_time,t_size_x_:batch_size,meta_x_:batch_meta, binary_y_: batch_label})\n",
        "    valid_acc = valid_acc/(int(len(valid_dir_X)/BATCH_SHAPE))\n",
        "    print('Step %d, validation accuracy %g' % (batch_num ,valid_acc))   \n",
        "    if valid_acc <= past_valid_acc:\n",
        "      print(past_valid_acc)\n",
        "      print(valid_acc)\n",
        "      num_decrease+=1\n",
        "      print(\"DECREASE\")\n",
        "    else:\n",
        "      num_decrease = 0 \n",
        "    if current_lr > 1e-5:\n",
        "      if num_decrease == 2:\n",
        "        print(\"DECREASE LEARNING RATE\")\n",
        "        current_lr = current_lr *math.sqrt(0.1)\n",
        "        num_decrease = 0 \n",
        "    else:\n",
        "      if num_decrease == 1:\n",
        "        print(\"END\")\n",
        "        go = False \n",
        "    past_valid_acc = valid_acc\n",
        "  print(\"HERE\")\n",
        "  first_saver.save(sess, './DP-GRAPHS/' + FOLDER+ '/branch_1.ckpt')"
      ],
      "execution_count": 0,
      "outputs": []
    },
    {
      "cell_type": "code",
      "metadata": {
        "id": "64mF2t5hzDp2",
        "colab_type": "code",
        "colab": {}
      },
      "source": [
        "print(len(valid_dir_X))"
      ],
      "execution_count": 0,
      "outputs": []
    },
    {
      "cell_type": "code",
      "metadata": {
        "id": "7JCA5glA0Qah",
        "colab_type": "code",
        "colab": {}
      },
      "source": [
        "session = tf.Session(config=config)\n",
        "session.run(tf.global_variables_initializer())\n",
        "valid_cnn_labels = []\n",
        "## Get valid test information\n",
        "with session as sess:\n",
        "  first_saver.restore(sess, './DP-GRAPHS/' + FOLDER+ '/branch_1.ckpt')\n",
        "  for batch_num in range(int(len(valid_dir_X)/BATCH_SHAPE)): \n",
        "    batch_dir = valid_dir_X[batch_num*BATCH_SHAPE:batch_num*BATCH_SHAPE+BATCH_SHAPE]\n",
        "    batch_size = valid_size_X[batch_num*BATCH_SHAPE:batch_num*BATCH_SHAPE+BATCH_SHAPE]\n",
        "    batch_time = valid_time_X[batch_num*BATCH_SHAPE:batch_num*BATCH_SHAPE+BATCH_SHAPE]\n",
        "    batch_meta = valid_meta_X[batch_num*BATCH_SHAPE:batch_num*BATCH_SHAPE+BATCH_SHAPE]\n",
        "    batch_label = valid_labels[batch_num*BATCH_SHAPE:batch_num*BATCH_SHAPE+BATCH_SHAPE]\n",
        "    valid_acc += binary_accuracy.eval(feed_dict={learning_rate:current_lr,t_dir_x_:batch_dir,t_time_x_:batch_time,t_size_x_:batch_size,meta_x_:batch_meta, binary_y_: batch_label})\n",
        "  valid_acc = valid_acc/(int(len(valid_dir_X)/BATCH_SHAPE))\n",
        "  print('Step %d, validation accuracy %g' % (batch_num ,valid_acc))   \n",
        "  print(\"Classification Network Benign vs Malicious \")\n",
        "  valid_acc = 0 \n",
        "  batch_dir = valid_dir_X[:BATCH_SHAPE]\n",
        "  batch_size = valid_size_X[:BATCH_SHAPE]\n",
        "  batch_time = valid_time_X[:BATCH_SHAPE]\n",
        "  batch_meta = valid_meta_X[:BATCH_SHAPE]\n",
        "  batch_label = valid_labels[:BATCH_SHAPE]\n",
        "  non_adv_output = binary_logits.eval(feed_dict={t_dir_x_:batch_dir,t_time_x_:batch_time,t_size_x_:batch_size,meta_x_:batch_meta})\n",
        "  for batch_num in range(1,int(len(valid_dir_X)/BATCH_SHAPE)): \n",
        "    batch_dir = valid_dir_X[batch_num*BATCH_SHAPE:batch_num*BATCH_SHAPE+BATCH_SHAPE]\n",
        "    batch_size = valid_size_X[batch_num*BATCH_SHAPE:batch_num*BATCH_SHAPE+BATCH_SHAPE]\n",
        "    batch_time = valid_time_X[batch_num*BATCH_SHAPE:batch_num*BATCH_SHAPE+BATCH_SHAPE]\n",
        "    batch_meta = valid_meta_X[batch_num*BATCH_SHAPE:batch_num*BATCH_SHAPE+BATCH_SHAPE]\n",
        "    non_adv_out = binary_logits.eval(feed_dict={t_dir_x_:batch_dir,t_time_x_:batch_time,t_size_x_:batch_size,meta_x_:batch_meta})\n",
        "    non_adv_output = np.concatenate([non_adv_output,non_adv_out],axis=0)    \n",
        "  valid_cnn_labels = non_adv_output"
      ],
      "execution_count": 0,
      "outputs": []
    },
    {
      "cell_type": "code",
      "metadata": {
        "id": "GljEFSv93X5j",
        "colab_type": "code",
        "colab": {}
      },
      "source": [
        "## Get labels for the confusion matrix\n",
        "n_valid_labels = []\n",
        "n_valid_cnn_labels = []\n",
        "for label in valid_labels:\n",
        "  n_label = np.argmax(label)\n",
        "  n_valid_labels.append(n_label)\n",
        "for label in valid_cnn_labels:\n",
        "  n_label = np.argmax(label)\n",
        "  n_valid_cnn_labels.append(n_label)\n",
        "\n",
        "classes = [\"Malicious\",\"Benign\"]"
      ],
      "execution_count": 0,
      "outputs": []
    },
    {
      "cell_type": "code",
      "metadata": {
        "id": "d_TZ-sCS3u92",
        "colab_type": "code",
        "colab": {}
      },
      "source": [
        "plot_confusion_matrix(n_valid_labels,n_valid_cnn_labels,classes,\"BINARY\")"
      ],
      "execution_count": 0,
      "outputs": []
    },
    {
      "cell_type": "code",
      "metadata": {
        "id": "kSGDMnzublgA",
        "colab_type": "code",
        "outputId": "190c9f8d-1130-48de-8598-8d83a5b9ef00",
        "colab": {
          "base_uri": "https://localhost:8080/",
          "height": 1000
        }
      },
      "source": [
        "import math\n",
        "## Train the model for determining the type of malicious flow \n",
        "session = tf.Session(config=config)\n",
        "session.run(tf.global_variables_initializer())\n",
        "x_coord = 0\n",
        "x_coords = []\n",
        "accuracies = []\n",
        "current_lr = 1e-3\n",
        "num_decrease = 0 \n",
        "past_valid_acc = 0\n",
        "go = True\n",
        "with session as sess:\n",
        "  first_saver.restore(sess, './DP-GRAPHS/' + FOLDER+ '/branch_1.ckpt')\n",
        "  while go:\n",
        "    train_acc = 0 \n",
        "    for batch_num in range(int(len(mal_train_dir_X)/BATCH_SHAPE)):\n",
        "      batch_dir = mal_train_dir_X[batch_num*BATCH_SHAPE:batch_num*BATCH_SHAPE+BATCH_SHAPE]\n",
        "      batch_size = mal_train_size_X[batch_num*BATCH_SHAPE:batch_num*BATCH_SHAPE+BATCH_SHAPE]\n",
        "      batch_time = mal_train_time_X[batch_num*BATCH_SHAPE:batch_num*BATCH_SHAPE+BATCH_SHAPE]\n",
        "      batch_meta = mal_train_meta_X[batch_num*BATCH_SHAPE:batch_num*BATCH_SHAPE+BATCH_SHAPE]\n",
        "      batch_label = mal_train_labels[batch_num*BATCH_SHAPE:batch_num*BATCH_SHAPE+BATCH_SHAPE]\n",
        "      current_train_acc = fine_accuracy.eval(feed_dict={learning_rate:current_lr,t_dir_x_:batch_dir,t_time_x_:batch_time,t_size_x_:batch_size,meta_x_:batch_meta, fine_y_: batch_label})\n",
        "      train_acc += current_train_acc\n",
        "      if batch_num % 200 == 0:     \n",
        "        x_coords.append(x_coord)\n",
        "        accuracies.append(current_train_acc)\n",
        "        x_coord+=1\n",
        "      fine_class_train_step.run(feed_dict={learning_rate:current_lr,t_dir_x_:batch_dir,t_time_x_:batch_time,t_size_x_:batch_size,meta_x_:batch_meta, fine_y_: batch_label})\n",
        "    train_acc = train_acc/(int(len(mal_train_dir_X)/BATCH_SHAPE))\n",
        "    print('Step %d, training accuracy %g' % (batch_num ,train_acc ))\n",
        "    valid_acc = 0 \n",
        "    for batch_num in range(int(len(mal_valid_dir_X)/BATCH_SHAPE)): \n",
        "      batch_dir = mal_valid_dir_X[batch_num*BATCH_SHAPE:batch_num*BATCH_SHAPE+BATCH_SHAPE]\n",
        "      batch_size = mal_valid_size_X[batch_num*BATCH_SHAPE:batch_num*BATCH_SHAPE+BATCH_SHAPE]\n",
        "      batch_time = mal_valid_time_X[batch_num*BATCH_SHAPE:batch_num*BATCH_SHAPE+BATCH_SHAPE]\n",
        "      batch_meta = mal_valid_meta_X[batch_num*BATCH_SHAPE:batch_num*BATCH_SHAPE+BATCH_SHAPE]\n",
        "      batch_label = mal_valid_labels[batch_num*BATCH_SHAPE:batch_num*BATCH_SHAPE+BATCH_SHAPE]\n",
        "      valid_acc += fine_accuracy.eval(feed_dict={learning_rate:current_lr,t_dir_x_:batch_dir,t_time_x_:batch_time,t_size_x_:batch_size,meta_x_:batch_meta, fine_y_: batch_label})\n",
        "    valid_acc = valid_acc/(int(len(mal_valid_dir_X)/BATCH_SHAPE))\n",
        "    print('Step %d, validation accuracy %g' % (batch_num ,valid_acc))   \n",
        "    if valid_acc <= past_valid_acc:\n",
        "      print(past_valid_acc)\n",
        "      print(valid_acc)\n",
        "      num_decrease+=1\n",
        "      print(\"DECREASE\")\n",
        "    else:\n",
        "      num_decrease = 0 \n",
        "    if current_lr > 1e-5:\n",
        "      if num_decrease == 2:\n",
        "        print(\"DECREASE LEARNING RATE\")\n",
        "        current_lr = current_lr *math.sqrt(0.1)\n",
        "        num_decrease = 0\n",
        "    else:\n",
        "      if num_decrease == 1:\n",
        "        print(\"END\")\n",
        "        go = False \n",
        "    past_valid_acc = valid_acc\n",
        "  print(\"HERE\")\n",
        "  second_saver.save(sess, './DP-GRAPHS/' + FOLDER+ '/branch_1.ckpt')"
      ],
      "execution_count": 0,
      "outputs": [
        {
          "output_type": "stream",
          "text": [
            "W0810 09:15:15.628731 140253529896832 deprecation.py:323] From /usr/local/lib/python3.6/dist-packages/tensorflow/python/training/saver.py:1276: checkpoint_exists (from tensorflow.python.training.checkpoint_management) is deprecated and will be removed in a future version.\n",
            "Instructions for updating:\n",
            "Use standard file APIs to check for files with this prefix.\n"
          ],
          "name": "stderr"
        },
        {
          "output_type": "stream",
          "text": [
            "Step 2575, training accuracy 0.628254\n",
            "Step 137, validation accuracy 0.719033\n",
            "Step 2575, training accuracy 0.711984\n",
            "Step 137, validation accuracy 0.754925\n",
            "Step 2575, training accuracy 0.73648\n",
            "Step 137, validation accuracy 0.758152\n",
            "Step 2575, training accuracy 0.746264\n",
            "Step 137, validation accuracy 0.776495\n",
            "Step 2575, training accuracy 0.758313\n",
            "Step 137, validation accuracy 0.794894\n",
            "Step 2575, training accuracy 0.764518\n",
            "Step 137, validation accuracy 0.798064\n",
            "Step 2575, training accuracy 0.767184\n",
            "Step 137, validation accuracy 0.788496\n",
            "0.7980638586956522\n",
            "0.7884963768115942\n",
            "DECREASE\n",
            "Step 2575, training accuracy 0.77069\n",
            "Step 137, validation accuracy 0.800781\n",
            "Step 2575, training accuracy 0.774848\n",
            "Step 137, validation accuracy 0.805423\n",
            "Step 2575, training accuracy 0.775906\n",
            "Step 137, validation accuracy 0.804801\n",
            "0.8054234601449275\n",
            "0.8048007246376812\n",
            "DECREASE\n",
            "Step 2575, training accuracy 0.778193\n",
            "Step 137, validation accuracy 0.804235\n",
            "0.8048007246376812\n",
            "0.8042346014492754\n",
            "DECREASE\n",
            "DECREASE LEARNING RATE\n",
            "Step 2575, training accuracy 0.785881\n",
            "Step 137, validation accuracy 0.815274\n",
            "Step 2575, training accuracy 0.787698\n",
            "Step 137, validation accuracy 0.819067\n",
            "Step 2575, training accuracy 0.789299\n",
            "Step 137, validation accuracy 0.827955\n",
            "Step 2575, training accuracy 0.790397\n",
            "Step 137, validation accuracy 0.827446\n",
            "0.8279551630434783\n",
            "0.8274456521739131\n",
            "DECREASE\n",
            "Step 2575, training accuracy 0.791789\n",
            "Step 137, validation accuracy 0.83288\n",
            "Step 2575, training accuracy 0.792717\n",
            "Step 137, validation accuracy 0.802819\n",
            "0.8328804347826086\n",
            "0.8028192934782609\n",
            "DECREASE\n",
            "Step 2575, training accuracy 0.794039\n",
            "Step 137, validation accuracy 0.796026\n",
            "0.8028192934782609\n",
            "0.7960258152173914\n",
            "DECREASE\n",
            "DECREASE LEARNING RATE\n",
            "Step 2575, training accuracy 0.8019\n",
            "Step 137, validation accuracy 0.844995\n",
            "Step 2575, training accuracy 0.804648\n",
            "Step 137, validation accuracy 0.849524\n",
            "Step 2575, training accuracy 0.805995\n",
            "Step 137, validation accuracy 0.849241\n",
            "0.8495244565217391\n",
            "0.8492413949275363\n",
            "DECREASE\n",
            "Step 2575, training accuracy 0.806574\n",
            "Step 137, validation accuracy 0.850543\n",
            "Step 2575, training accuracy 0.806807\n",
            "Step 137, validation accuracy 0.851676\n",
            "Step 2575, training accuracy 0.80705\n",
            "Step 137, validation accuracy 0.849921\n",
            "0.8516757246376812\n",
            "0.8499207427536232\n",
            "DECREASE\n",
            "Step 2575, training accuracy 0.807729\n",
            "Step 137, validation accuracy 0.852638\n",
            "Step 2575, training accuracy 0.807863\n",
            "Step 137, validation accuracy 0.850713\n",
            "0.8526381340579711\n",
            "0.8507133152173914\n",
            "DECREASE\n",
            "Step 2575, training accuracy 0.808157\n",
            "Step 137, validation accuracy 0.852072\n",
            "Step 2575, training accuracy 0.8085\n",
            "Step 137, validation accuracy 0.852525\n",
            "Step 2575, training accuracy 0.808539\n",
            "Step 137, validation accuracy 0.850657\n",
            "0.8525249094202898\n",
            "0.8506567028985508\n",
            "DECREASE\n",
            "Step 2575, training accuracy 0.808849\n",
            "Step 137, validation accuracy 0.849355\n",
            "0.8506567028985508\n",
            "0.8493546195652174\n",
            "DECREASE\n",
            "DECREASE LEARNING RATE\n",
            "Step 2575, training accuracy 0.810441\n",
            "Step 137, validation accuracy 0.854053\n",
            "Step 2575, training accuracy 0.810526\n",
            "Step 137, validation accuracy 0.85445\n",
            "Step 2575, training accuracy 0.810702\n",
            "Step 137, validation accuracy 0.853148\n",
            "0.8544497282608695\n",
            "0.8531476449275363\n",
            "DECREASE\n",
            "Step 2575, training accuracy 0.810941\n",
            "Step 137, validation accuracy 0.854903\n",
            "Step 2575, training accuracy 0.811023\n",
            "Step 137, validation accuracy 0.853997\n",
            "0.8549026268115942\n",
            "0.8539968297101449\n",
            "DECREASE\n",
            "Step 2575, training accuracy 0.811208\n",
            "Step 137, validation accuracy 0.853997\n",
            "0.8539968297101449\n",
            "0.8539968297101449\n",
            "DECREASE\n",
            "DECREASE LEARNING RATE\n",
            "Step 2575, training accuracy 0.811669\n",
            "Step 137, validation accuracy 0.856261\n",
            "Step 2575, training accuracy 0.811702\n",
            "Step 137, validation accuracy 0.854506\n",
            "0.8562613224637681\n",
            "0.8545063405797102\n",
            "DECREASE\n",
            "END\n",
            "HERE\n"
          ],
          "name": "stdout"
        }
      ]
    },
    {
      "cell_type": "code",
      "metadata": {
        "id": "RcHQcAO8gsYt",
        "colab_type": "code",
        "colab": {}
      },
      "source": [
        "session = tf.Session(config=config)\n",
        "session.run(tf.global_variables_initializer())\n",
        "## Get labels for the confusion matrix\n",
        "with session as sess:\n",
        "  second_saver.restore(sess, './DP-GRAPHS/' + FOLDER+ '/branch_1.ckpt')\n",
        "  batch_dir = mal_valid_dir_X[batch_num*BATCH_SHAPE:batch_num*BATCH_SHAPE+BATCH_SHAPE]\n",
        "  batch_size = mal_valid_size_X[batch_num*BATCH_SHAPE:batch_num*BATCH_SHAPE+BATCH_SHAPE]\n",
        "  batch_time = mal_valid_time_X[batch_num*BATCH_SHAPE:batch_num*BATCH_SHAPE+BATCH_SHAPE]\n",
        "  batch_meta = mal_valid_meta_X[batch_num*BATCH_SHAPE:batch_num*BATCH_SHAPE+BATCH_SHAPE]\n",
        "  batch_label = mal_valid_labels[batch_num*BATCH_SHAPE:batch_num*BATCH_SHAPE+BATCH_SHAPE]\n",
        "  non_adv_output = fine_logits.eval(feed_dict={learning_rate:current_lr,t_dir_x_:batch_dir,t_time_x_:batch_time,t_size_x_:batch_size,meta_x_:batch_meta, fine_y_: batch_label})\n",
        "  for batch_num in range(1,int(len(mal_valid_meta_X)/BATCH_SHAPE)): \n",
        "    batch_dir = mal_valid_dir_X[batch_num*BATCH_SHAPE:batch_num*BATCH_SHAPE+BATCH_SHAPE]\n",
        "    batch_size = mal_valid_size_X[batch_num*BATCH_SHAPE:batch_num*BATCH_SHAPE+BATCH_SHAPE]\n",
        "    batch_time = mal_valid_time_X[batch_num*BATCH_SHAPE:batch_num*BATCH_SHAPE+BATCH_SHAPE]\n",
        "    batch_meta = mal_valid_meta_X[batch_num*BATCH_SHAPE:batch_num*BATCH_SHAPE+BATCH_SHAPE]\n",
        "    batch_label = mal_valid_labels[batch_num*BATCH_SHAPE:batch_num*BATCH_SHAPE+BATCH_SHAPE]\n",
        "    non_adv_out = fine_logits.eval(feed_dict={learning_rate:current_lr,t_dir_x_:batch_dir,t_time_x_:batch_time,t_size_x_:batch_size,meta_x_:batch_meta, fine_y_: batch_label})\n",
        "    non_adv_output = tf.concat([non_adv_output,non_adv_out],axis=0)\n",
        "  valid_cnn_labels = sess.run(non_adv_output)"
      ],
      "execution_count": 0,
      "outputs": []
    },
    {
      "cell_type": "code",
      "metadata": {
        "id": "-w7KZeKPkUdS",
        "colab_type": "code",
        "colab": {}
      },
      "source": [
        "n_valid_cnn_labels = []\n",
        "n_valid_labels = []\n",
        "for label in mal_valid_labels:\n",
        "  n_label = np.argmax(label)\n",
        "  n_valid_labels.append(n_label)\n",
        "for label in valid_cnn_labels:\n",
        "  n_label = np.argmax(label)\n",
        "  n_valid_cnn_labels.append(n_label)\n",
        "classes = [\"Nsis\",\"Geodo\",\"Virut\",\"Shifu\",\"Cridex\", \"Tinba\", \"Miuref\", \"Zeus\",\"Htbot\",\"Neris\"]"
      ],
      "execution_count": 0,
      "outputs": []
    },
    {
      "cell_type": "code",
      "metadata": {
        "id": "v6jNh3ESkd1A",
        "colab_type": "code",
        "outputId": "edd7b297-726a-4c9c-c5e7-099d32fa1616",
        "colab": {
          "base_uri": "https://localhost:8080/",
          "height": 1000
        }
      },
      "source": [
        "plot_confusion_matrix(n_valid_labels,n_valid_cnn_labels,classes,\"RESNET-MAL\")"
      ],
      "execution_count": 0,
      "outputs": [
        {
          "output_type": "stream",
          "text": [
            "Confusion matrix, without normalization\n",
            "[[ 563    2    9    0    0    0    0    1    1    6]\n",
            " [   0 3979    3    2    5    1    8    6   46   11]\n",
            " [   8    3 2410   10    2    4    0   13    2  739]\n",
            " [   0   12    2 1007    1    0    0    0    3    2]\n",
            " [   0    5    4    2 1593    0    0    1    0    3]\n",
            " [   0    1    1    0    0  892    0    1    0    2]\n",
            " [   1  614    1    1    1    0  713    3    6    8]\n",
            " [   0    2    6    1    0    1    0 1049    1   13]\n",
            " [   0   31    2    2    0    2   11    0  582    8]\n",
            " [  17  674  204    7    3    3    6   16   64 2245]]\n"
          ],
          "name": "stdout"
        },
        {
          "output_type": "execute_result",
          "data": {
            "text/plain": [
              "<matplotlib.axes._subplots.AxesSubplot at 0x7f8e981d5d30>"
            ]
          },
          "metadata": {
            "tags": []
          },
          "execution_count": 51
        },
        {
          "output_type": "display_data",
          "data": {
            "image/png": "[encoded data removed]",
            "text/plain": [
              "<Figure size 864x864 with 2 Axes>"
            ]
          },
          "metadata": {
            "tags": []
          }
        }
      ]
    }
  ]
}